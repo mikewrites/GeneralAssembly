{
 "cells": [
  {
   "cell_type": "code",
   "execution_count": 1,
   "id": "e7dd3009-8316-4f19-b43d-73df60262c56",
   "metadata": {},
   "outputs": [],
   "source": [
    "import pandas as pd"
   ]
  },
  {
   "cell_type": "code",
   "execution_count": 2,
   "id": "a0939ae5-030e-419c-aebd-ad092f868e70",
   "metadata": {},
   "outputs": [],
   "source": [
    "raw = pd.read_csv('../datasets/train.csv')"
   ]
  },
  {
   "cell_type": "code",
   "execution_count": 4,
   "id": "abb3b646-6f37-4359-a7f6-a0456b63d516",
   "metadata": {},
   "outputs": [],
   "source": [
    "rawnum = raw._get_numeric_data()"
   ]
  },
  {
   "cell_type": "code",
   "execution_count": 5,
   "id": "9432a7f7-32f4-495a-a8b1-57d8a9df5c72",
   "metadata": {},
   "outputs": [
    {
     "name": "stdout",
     "output_type": "stream",
     "text": [
      "<class 'pandas.core.frame.DataFrame'>\n",
      "RangeIndex: 2051 entries, 0 to 2050\n",
      "Data columns (total 39 columns):\n",
      " #   Column           Non-Null Count  Dtype  \n",
      "---  ------           --------------  -----  \n",
      " 0   Id               2051 non-null   int64  \n",
      " 1   PID              2051 non-null   int64  \n",
      " 2   MS SubClass      2051 non-null   int64  \n",
      " 3   Lot Frontage     1721 non-null   float64\n",
      " 4   Lot Area         2051 non-null   int64  \n",
      " 5   Overall Qual     2051 non-null   int64  \n",
      " 6   Overall Cond     2051 non-null   int64  \n",
      " 7   Year Built       2051 non-null   int64  \n",
      " 8   Year Remod/Add   2051 non-null   int64  \n",
      " 9   Mas Vnr Area     2029 non-null   float64\n",
      " 10  BsmtFin SF 1     2050 non-null   float64\n",
      " 11  BsmtFin SF 2     2050 non-null   float64\n",
      " 12  Bsmt Unf SF      2050 non-null   float64\n",
      " 13  Total Bsmt SF    2050 non-null   float64\n",
      " 14  1st Flr SF       2051 non-null   int64  \n",
      " 15  2nd Flr SF       2051 non-null   int64  \n",
      " 16  Low Qual Fin SF  2051 non-null   int64  \n",
      " 17  Gr Liv Area      2051 non-null   int64  \n",
      " 18  Bsmt Full Bath   2049 non-null   float64\n",
      " 19  Bsmt Half Bath   2049 non-null   float64\n",
      " 20  Full Bath        2051 non-null   int64  \n",
      " 21  Half Bath        2051 non-null   int64  \n",
      " 22  Bedroom AbvGr    2051 non-null   int64  \n",
      " 23  Kitchen AbvGr    2051 non-null   int64  \n",
      " 24  TotRms AbvGrd    2051 non-null   int64  \n",
      " 25  Fireplaces       2051 non-null   int64  \n",
      " 26  Garage Yr Blt    1937 non-null   float64\n",
      " 27  Garage Cars      2050 non-null   float64\n",
      " 28  Garage Area      2050 non-null   float64\n",
      " 29  Wood Deck SF     2051 non-null   int64  \n",
      " 30  Open Porch SF    2051 non-null   int64  \n",
      " 31  Enclosed Porch   2051 non-null   int64  \n",
      " 32  3Ssn Porch       2051 non-null   int64  \n",
      " 33  Screen Porch     2051 non-null   int64  \n",
      " 34  Pool Area        2051 non-null   int64  \n",
      " 35  Misc Val         2051 non-null   int64  \n",
      " 36  Mo Sold          2051 non-null   int64  \n",
      " 37  Yr Sold          2051 non-null   int64  \n",
      " 38  SalePrice        2051 non-null   int64  \n",
      "dtypes: float64(11), int64(28)\n",
      "memory usage: 625.0 KB\n"
     ]
    }
   ],
   "source": [
    "rawnum.info()"
   ]
  },
  {
   "cell_type": "code",
   "execution_count": null,
   "id": "b4865aba-7d03-4093-ba93-974283450ef8",
   "metadata": {},
   "outputs": [],
   "source": []
  }
 ],
 "metadata": {
  "kernelspec": {
   "display_name": "Python 3",
   "language": "python",
   "name": "python3"
  },
  "language_info": {
   "codemirror_mode": {
    "name": "ipython",
    "version": 3
   },
   "file_extension": ".py",
   "mimetype": "text/x-python",
   "name": "python",
   "nbconvert_exporter": "python",
   "pygments_lexer": "ipython3",
   "version": "3.8.8"
  }
 },
 "nbformat": 4,
 "nbformat_minor": 5
}
