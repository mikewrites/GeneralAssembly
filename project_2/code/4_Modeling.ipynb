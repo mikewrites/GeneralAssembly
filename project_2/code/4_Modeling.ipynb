{
 "cells": [
  {
   "cell_type": "code",
   "execution_count": 122,
   "id": "2122b994-383a-4563-97dc-6c50af2a88d1",
   "metadata": {},
   "outputs": [],
   "source": [
    "import pandas as pd\n",
    "from sklearn.linear_model import LinearRegression, RidgeCV, LassoCV\n",
    "from sklearn.model_selection import train_test_split, cross_val_score\n",
    "from sklearn.metrics import mean_squared_error\n",
    "from sklearn.preprocessing import StandardScaler"
   ]
  },
  {
   "cell_type": "markdown",
   "id": "2998b405-9f2f-428e-85c0-7e244f3f93d0",
   "metadata": {},
   "source": [
    "# Bad models\n",
    "\n",
    "Part of my goal in this project is to measure the sucess of my model against several baseline models: No predictors, Simply removing non-numeric data(pedicted to underfit), simply doing onehot encoding for all non-numeric data (predicted to overfit)."
   ]
  },
  {
   "cell_type": "markdown",
   "id": "7f454e4f-1722-449c-9b14-84c84d05f6bc",
   "metadata": {},
   "source": [
    "## First bad model:\n",
    "Demonstrates underfitting"
   ]
  },
  {
   "cell_type": "code",
   "execution_count": 239,
   "id": "228b7646-36fd-4b74-9587-69905daa1ad1",
   "metadata": {},
   "outputs": [],
   "source": [
    "ames_under = pd.read_csv('../datasets/train.csv')\n",
    "ames_best = pd.read_csv('../datasets/test.csv')"
   ]
  },
  {
   "cell_type": "code",
   "execution_count": 210,
   "id": "bffd67e4-3fa4-46fa-8b60-b57f129d9a21",
   "metadata": {},
   "outputs": [],
   "source": [
    "ames_best = ames_best._get_numeric_data()\n",
    "ames_best = ames_best.fillna(0.0)"
   ]
  },
  {
   "cell_type": "code",
   "execution_count": 252,
   "id": "ba3fa2f3-32f0-4bab-aa7b-90eab1c85d56",
   "metadata": {},
   "outputs": [],
   "source": [
    "ames_under = ames_under._get_numeric_data()\n",
    "ames_under = ames_under.fillna(0.0)"
   ]
  },
  {
   "cell_type": "code",
   "execution_count": 212,
   "id": "c34381e3-a65a-4457-b1d8-c3880d5ec8a1",
   "metadata": {},
   "outputs": [],
   "source": [
    "ames_under.drop('Id',1, inplace = True)\n",
    "ames_under.drop('PID',1, inplace = True)\n",
    "ames_under.drop('MS SubClass', 1, inplace = True)"
   ]
  },
  {
   "cell_type": "code",
   "execution_count": 384,
   "id": "faea98eb-45cd-4590-82e6-e9d3c4b3edd9",
   "metadata": {},
   "outputs": [
    {
     "name": "stdout",
     "output_type": "stream",
     "text": [
      "<class 'pandas.core.frame.DataFrame'>\n",
      "RangeIndex: 2051 entries, 0 to 2050\n",
      "Data columns (total 39 columns):\n",
      " #   Column           Non-Null Count  Dtype  \n",
      "---  ------           --------------  -----  \n",
      " 0   Id               2051 non-null   int64  \n",
      " 1   PID              2051 non-null   int64  \n",
      " 2   MS SubClass      2051 non-null   int64  \n",
      " 3   Lot Frontage     2051 non-null   float64\n",
      " 4   Lot Area         2051 non-null   int64  \n",
      " 5   Overall Qual     2051 non-null   int64  \n",
      " 6   Overall Cond     2051 non-null   int64  \n",
      " 7   Year Built       2051 non-null   int64  \n",
      " 8   Year Remod/Add   2051 non-null   int64  \n",
      " 9   Mas Vnr Area     2051 non-null   float64\n",
      " 10  BsmtFin SF 1     2051 non-null   float64\n",
      " 11  BsmtFin SF 2     2051 non-null   float64\n",
      " 12  Bsmt Unf SF      2051 non-null   float64\n",
      " 13  Total Bsmt SF    2051 non-null   float64\n",
      " 14  1st Flr SF       2051 non-null   int64  \n",
      " 15  2nd Flr SF       2051 non-null   int64  \n",
      " 16  Low Qual Fin SF  2051 non-null   int64  \n",
      " 17  Gr Liv Area      2051 non-null   int64  \n",
      " 18  Bsmt Full Bath   2051 non-null   float64\n",
      " 19  Bsmt Half Bath   2051 non-null   float64\n",
      " 20  Full Bath        2051 non-null   int64  \n",
      " 21  Half Bath        2051 non-null   int64  \n",
      " 22  Bedroom AbvGr    2051 non-null   int64  \n",
      " 23  Kitchen AbvGr    2051 non-null   int64  \n",
      " 24  TotRms AbvGrd    2051 non-null   int64  \n",
      " 25  Fireplaces       2051 non-null   int64  \n",
      " 26  Garage Yr Blt    2051 non-null   float64\n",
      " 27  Garage Cars      2051 non-null   float64\n",
      " 28  Garage Area      2051 non-null   float64\n",
      " 29  Wood Deck SF     2051 non-null   int64  \n",
      " 30  Open Porch SF    2051 non-null   int64  \n",
      " 31  Enclosed Porch   2051 non-null   int64  \n",
      " 32  3Ssn Porch       2051 non-null   int64  \n",
      " 33  Screen Porch     2051 non-null   int64  \n",
      " 34  Pool Area        2051 non-null   int64  \n",
      " 35  Misc Val         2051 non-null   int64  \n",
      " 36  Mo Sold          2051 non-null   int64  \n",
      " 37  Yr Sold          2051 non-null   int64  \n",
      " 38  SalePrice        2051 non-null   int64  \n",
      "dtypes: float64(11), int64(28)\n",
      "memory usage: 625.0 KB\n"
     ]
    }
   ],
   "source": [
    "ames_under.info()"
   ]
  },
  {
   "cell_type": "code",
   "execution_count": 240,
   "id": "14053daa-1369-4bba-970e-1c0c3ee28c5b",
   "metadata": {},
   "outputs": [],
   "source": [
    "#ames_best.drop('Id',1, inplace = True)\n",
    "ames_best.drop('PID',1, inplace = True)\n",
    "ames_best.drop('MS SubClass', 1, inplace = True)"
   ]
  },
  {
   "cell_type": "code",
   "execution_count": 387,
   "id": "e21730b1-4876-4e12-ae64-5b5bd45b5266",
   "metadata": {},
   "outputs": [],
   "source": [
    "under = LinearRegression()"
   ]
  },
  {
   "cell_type": "code",
   "execution_count": 388,
   "id": "5f59435e-57ed-4467-8bfc-1f097084c4e9",
   "metadata": {},
   "outputs": [],
   "source": [
    "y = ames_under['SalePrice']\n",
    "X = ames_under.drop('SalePrice', 1)\n"
   ]
  },
  {
   "cell_type": "code",
   "execution_count": 389,
   "id": "7b614095-346c-4d4b-b572-df79e8d67a91",
   "metadata": {},
   "outputs": [],
   "source": [
    "X_train, X_test, y_train, y_test = train_test_split(X,y, random_state = 329)"
   ]
  },
  {
   "cell_type": "code",
   "execution_count": 390,
   "id": "a2e4b90d-50eb-40a9-bdc5-1a4160bda9f9",
   "metadata": {},
   "outputs": [
    {
     "data": {
      "text/plain": [
       "LinearRegression()"
      ]
     },
     "execution_count": 390,
     "metadata": {},
     "output_type": "execute_result"
    }
   ],
   "source": [
    "under.fit(X_train, y_train)"
   ]
  },
  {
   "cell_type": "code",
   "execution_count": 218,
   "id": "81a38c9e-4458-41d8-bb14-558e8779297d",
   "metadata": {},
   "outputs": [
    {
     "data": {
      "text/plain": [
       "0.8274203264852614"
      ]
     },
     "execution_count": 218,
     "metadata": {},
     "output_type": "execute_result"
    }
   ],
   "source": [
    "under.score(X_train, y_train)"
   ]
  },
  {
   "cell_type": "code",
   "execution_count": 219,
   "id": "f52a9bf0-846e-46c5-b96b-9af082b37240",
   "metadata": {},
   "outputs": [
    {
     "data": {
      "text/plain": [
       "0.8574404716022525"
      ]
     },
     "execution_count": 219,
     "metadata": {},
     "output_type": "execute_result"
    }
   ],
   "source": [
    "under.score(X_test, y_test)"
   ]
  },
  {
   "cell_type": "code",
   "execution_count": 250,
   "id": "531769d7-7c0a-4572-be7a-88acd3333a99",
   "metadata": {},
   "outputs": [
    {
     "ename": "NotFittedError",
     "evalue": "This LinearRegression instance is not fitted yet. Call 'fit' with appropriate arguments before using this estimator.",
     "output_type": "error",
     "traceback": [
      "\u001b[0;31m---------------------------------------------------------------------------\u001b[0m",
      "\u001b[0;31mNotFittedError\u001b[0m                            Traceback (most recent call last)",
      "\u001b[0;32m<ipython-input-250-ac534ca79fd7>\u001b[0m in \u001b[0;36m<module>\u001b[0;34m\u001b[0m\n\u001b[0;32m----> 1\u001b[0;31m \u001b[0mames_best\u001b[0m\u001b[0;34m[\u001b[0m\u001b[0;34m'SalePrice'\u001b[0m\u001b[0;34m]\u001b[0m \u001b[0;34m=\u001b[0m \u001b[0munder\u001b[0m\u001b[0;34m.\u001b[0m\u001b[0mpredict\u001b[0m\u001b[0;34m(\u001b[0m\u001b[0mames_best\u001b[0m\u001b[0;34m)\u001b[0m\u001b[0;34m\u001b[0m\u001b[0;34m\u001b[0m\u001b[0m\n\u001b[0m",
      "\u001b[0;32m~/anaconda3/lib/python3.8/site-packages/sklearn/linear_model/_base.py\u001b[0m in \u001b[0;36mpredict\u001b[0;34m(self, X)\u001b[0m\n\u001b[1;32m    236\u001b[0m             \u001b[0mReturns\u001b[0m \u001b[0mpredicted\u001b[0m \u001b[0mvalues\u001b[0m\u001b[0;34m.\u001b[0m\u001b[0;34m\u001b[0m\u001b[0;34m\u001b[0m\u001b[0m\n\u001b[1;32m    237\u001b[0m         \"\"\"\n\u001b[0;32m--> 238\u001b[0;31m         \u001b[0;32mreturn\u001b[0m \u001b[0mself\u001b[0m\u001b[0;34m.\u001b[0m\u001b[0m_decision_function\u001b[0m\u001b[0;34m(\u001b[0m\u001b[0mX\u001b[0m\u001b[0;34m)\u001b[0m\u001b[0;34m\u001b[0m\u001b[0;34m\u001b[0m\u001b[0m\n\u001b[0m\u001b[1;32m    239\u001b[0m \u001b[0;34m\u001b[0m\u001b[0m\n\u001b[1;32m    240\u001b[0m     \u001b[0m_preprocess_data\u001b[0m \u001b[0;34m=\u001b[0m \u001b[0mstaticmethod\u001b[0m\u001b[0;34m(\u001b[0m\u001b[0m_preprocess_data\u001b[0m\u001b[0;34m)\u001b[0m\u001b[0;34m\u001b[0m\u001b[0;34m\u001b[0m\u001b[0m\n",
      "\u001b[0;32m~/anaconda3/lib/python3.8/site-packages/sklearn/linear_model/_base.py\u001b[0m in \u001b[0;36m_decision_function\u001b[0;34m(self, X)\u001b[0m\n\u001b[1;32m    216\u001b[0m \u001b[0;34m\u001b[0m\u001b[0m\n\u001b[1;32m    217\u001b[0m     \u001b[0;32mdef\u001b[0m \u001b[0m_decision_function\u001b[0m\u001b[0;34m(\u001b[0m\u001b[0mself\u001b[0m\u001b[0;34m,\u001b[0m \u001b[0mX\u001b[0m\u001b[0;34m)\u001b[0m\u001b[0;34m:\u001b[0m\u001b[0;34m\u001b[0m\u001b[0;34m\u001b[0m\u001b[0m\n\u001b[0;32m--> 218\u001b[0;31m         \u001b[0mcheck_is_fitted\u001b[0m\u001b[0;34m(\u001b[0m\u001b[0mself\u001b[0m\u001b[0;34m)\u001b[0m\u001b[0;34m\u001b[0m\u001b[0;34m\u001b[0m\u001b[0m\n\u001b[0m\u001b[1;32m    219\u001b[0m \u001b[0;34m\u001b[0m\u001b[0m\n\u001b[1;32m    220\u001b[0m         \u001b[0mX\u001b[0m \u001b[0;34m=\u001b[0m \u001b[0mcheck_array\u001b[0m\u001b[0;34m(\u001b[0m\u001b[0mX\u001b[0m\u001b[0;34m,\u001b[0m \u001b[0maccept_sparse\u001b[0m\u001b[0;34m=\u001b[0m\u001b[0;34m[\u001b[0m\u001b[0;34m'csr'\u001b[0m\u001b[0;34m,\u001b[0m \u001b[0;34m'csc'\u001b[0m\u001b[0;34m,\u001b[0m \u001b[0;34m'coo'\u001b[0m\u001b[0;34m]\u001b[0m\u001b[0;34m)\u001b[0m\u001b[0;34m\u001b[0m\u001b[0;34m\u001b[0m\u001b[0m\n",
      "\u001b[0;32m~/anaconda3/lib/python3.8/site-packages/sklearn/utils/validation.py\u001b[0m in \u001b[0;36minner_f\u001b[0;34m(*args, **kwargs)\u001b[0m\n\u001b[1;32m     61\u001b[0m             \u001b[0mextra_args\u001b[0m \u001b[0;34m=\u001b[0m \u001b[0mlen\u001b[0m\u001b[0;34m(\u001b[0m\u001b[0margs\u001b[0m\u001b[0;34m)\u001b[0m \u001b[0;34m-\u001b[0m \u001b[0mlen\u001b[0m\u001b[0;34m(\u001b[0m\u001b[0mall_args\u001b[0m\u001b[0;34m)\u001b[0m\u001b[0;34m\u001b[0m\u001b[0;34m\u001b[0m\u001b[0m\n\u001b[1;32m     62\u001b[0m             \u001b[0;32mif\u001b[0m \u001b[0mextra_args\u001b[0m \u001b[0;34m<=\u001b[0m \u001b[0;36m0\u001b[0m\u001b[0;34m:\u001b[0m\u001b[0;34m\u001b[0m\u001b[0;34m\u001b[0m\u001b[0m\n\u001b[0;32m---> 63\u001b[0;31m                 \u001b[0;32mreturn\u001b[0m \u001b[0mf\u001b[0m\u001b[0;34m(\u001b[0m\u001b[0;34m*\u001b[0m\u001b[0margs\u001b[0m\u001b[0;34m,\u001b[0m \u001b[0;34m**\u001b[0m\u001b[0mkwargs\u001b[0m\u001b[0;34m)\u001b[0m\u001b[0;34m\u001b[0m\u001b[0;34m\u001b[0m\u001b[0m\n\u001b[0m\u001b[1;32m     64\u001b[0m \u001b[0;34m\u001b[0m\u001b[0m\n\u001b[1;32m     65\u001b[0m             \u001b[0;31m# extra_args > 0\u001b[0m\u001b[0;34m\u001b[0m\u001b[0;34m\u001b[0m\u001b[0;34m\u001b[0m\u001b[0m\n",
      "\u001b[0;32m~/anaconda3/lib/python3.8/site-packages/sklearn/utils/validation.py\u001b[0m in \u001b[0;36mcheck_is_fitted\u001b[0;34m(estimator, attributes, msg, all_or_any)\u001b[0m\n\u001b[1;32m   1039\u001b[0m \u001b[0;34m\u001b[0m\u001b[0m\n\u001b[1;32m   1040\u001b[0m     \u001b[0;32mif\u001b[0m \u001b[0;32mnot\u001b[0m \u001b[0mattrs\u001b[0m\u001b[0;34m:\u001b[0m\u001b[0;34m\u001b[0m\u001b[0;34m\u001b[0m\u001b[0m\n\u001b[0;32m-> 1041\u001b[0;31m         \u001b[0;32mraise\u001b[0m \u001b[0mNotFittedError\u001b[0m\u001b[0;34m(\u001b[0m\u001b[0mmsg\u001b[0m \u001b[0;34m%\u001b[0m \u001b[0;34m{\u001b[0m\u001b[0;34m'name'\u001b[0m\u001b[0;34m:\u001b[0m \u001b[0mtype\u001b[0m\u001b[0;34m(\u001b[0m\u001b[0mestimator\u001b[0m\u001b[0;34m)\u001b[0m\u001b[0;34m.\u001b[0m\u001b[0m__name__\u001b[0m\u001b[0;34m}\u001b[0m\u001b[0;34m)\u001b[0m\u001b[0;34m\u001b[0m\u001b[0;34m\u001b[0m\u001b[0m\n\u001b[0m\u001b[1;32m   1042\u001b[0m \u001b[0;34m\u001b[0m\u001b[0m\n\u001b[1;32m   1043\u001b[0m \u001b[0;34m\u001b[0m\u001b[0m\n",
      "\u001b[0;31mNotFittedError\u001b[0m: This LinearRegression instance is not fitted yet. Call 'fit' with appropriate arguments before using this estimator."
     ]
    }
   ],
   "source": [
    "ames_best['SalePrice'] = under.predict(ames_best)"
   ]
  },
  {
   "cell_type": "code",
   "execution_count": 269,
   "id": "611b6130-1685-4532-a387-c24f5e4332f2",
   "metadata": {},
   "outputs": [],
   "source": [
    "ames_best[['SalePrice']]= dicts\n",
    "\n",
    "submission = ames_best[['Id', 'SalePrice']]"
   ]
  },
  {
   "cell_type": "code",
   "execution_count": 393,
   "id": "53669932-c154-426e-95b5-37f70c582f34",
   "metadata": {},
   "outputs": [],
   "source": [
    "ames_best = ames_under._get_numeric_data()\n",
    "ames_under = ames_under.fillna(0)\n",
    "preds = under.predict(X_test)\n",
    "predtr = under.predict(X_train)"
   ]
  },
  {
   "cell_type": "code",
   "execution_count": 273,
   "id": "c1cb3d0e-2849-4767-af16-0b5c0c5190c3",
   "metadata": {},
   "outputs": [],
   "source": [
    "submission.to_csv('../datasets/final/tryy.csv', index = False)"
   ]
  },
  {
   "cell_type": "code",
   "execution_count": 392,
   "id": "002179f2-6c18-449c-934e-a79623ae2ab8",
   "metadata": {},
   "outputs": [
    {
     "data": {
      "text/plain": [
       "894017622.2843026"
      ]
     },
     "execution_count": 392,
     "metadata": {},
     "output_type": "execute_result"
    }
   ],
   "source": [
    "mean_squared_error(preds, y_test)"
   ]
  },
  {
   "cell_type": "code",
   "execution_count": 394,
   "id": "d15eeae4-fade-488d-af54-07ea8274850f",
   "metadata": {},
   "outputs": [
    {
     "data": {
      "text/plain": [
       "1047828067.7968353"
      ]
     },
     "execution_count": 394,
     "metadata": {},
     "output_type": "execute_result"
    }
   ],
   "source": [
    "mean_squared_error(predtr, y_train)"
   ]
  },
  {
   "cell_type": "markdown",
   "id": "eee7af07-dcab-4f89-8718-273e5610ae9e",
   "metadata": {},
   "source": [
    "# Second bad model\n",
    "\n",
    "Demonstrates overfitting"
   ]
  },
  {
   "cell_type": "code",
   "execution_count": 42,
   "id": "aa0407e1-d8a5-48c0-ae18-0a5c0fd0c9ba",
   "metadata": {},
   "outputs": [],
   "source": [
    "ames_over = pd.read_csv('../datasets/train.csv')"
   ]
  },
  {
   "cell_type": "code",
   "execution_count": 271,
   "id": "dcd5bd48-da95-454a-8966-198cdbb7c319",
   "metadata": {},
   "outputs": [
    {
     "data": {
      "text/html": [
       "<div>\n",
       "<style scoped>\n",
       "    .dataframe tbody tr th:only-of-type {\n",
       "        vertical-align: middle;\n",
       "    }\n",
       "\n",
       "    .dataframe tbody tr th {\n",
       "        vertical-align: top;\n",
       "    }\n",
       "\n",
       "    .dataframe thead th {\n",
       "        text-align: right;\n",
       "    }\n",
       "</style>\n",
       "<table border=\"1\" class=\"dataframe\">\n",
       "  <thead>\n",
       "    <tr style=\"text-align: right;\">\n",
       "      <th></th>\n",
       "      <th>Id</th>\n",
       "      <th>SalePrice</th>\n",
       "    </tr>\n",
       "  </thead>\n",
       "  <tbody>\n",
       "    <tr>\n",
       "      <th>0</th>\n",
       "      <td>2658</td>\n",
       "      <td>134037.050328</td>\n",
       "    </tr>\n",
       "    <tr>\n",
       "      <th>1</th>\n",
       "      <td>2718</td>\n",
       "      <td>152967.822880</td>\n",
       "    </tr>\n",
       "    <tr>\n",
       "      <th>2</th>\n",
       "      <td>2414</td>\n",
       "      <td>213541.849735</td>\n",
       "    </tr>\n",
       "    <tr>\n",
       "      <th>3</th>\n",
       "      <td>1989</td>\n",
       "      <td>120302.425563</td>\n",
       "    </tr>\n",
       "    <tr>\n",
       "      <th>4</th>\n",
       "      <td>625</td>\n",
       "      <td>196433.605530</td>\n",
       "    </tr>\n",
       "  </tbody>\n",
       "</table>\n",
       "</div>"
      ],
      "text/plain": [
       "     Id      SalePrice\n",
       "0  2658  134037.050328\n",
       "1  2718  152967.822880\n",
       "2  2414  213541.849735\n",
       "3  1989  120302.425563\n",
       "4   625  196433.605530"
      ]
     },
     "execution_count": 271,
     "metadata": {},
     "output_type": "execute_result"
    }
   ],
   "source": [
    "submission.head()"
   ]
  },
  {
   "cell_type": "code",
   "execution_count": 43,
   "id": "42858812-f23f-41cb-90ce-1fc87ca67784",
   "metadata": {},
   "outputs": [
    {
     "data": {
      "text/plain": [
       "array(['RRAe', 'Norm', 'PosA', 'Artery', 'Feedr', 'PosN', 'RRAn', 'RRNe',\n",
       "       'RRNn'], dtype=object)"
      ]
     },
     "execution_count": 43,
     "metadata": {},
     "output_type": "execute_result"
    }
   ],
   "source": [
    " ames_over['Condition 1'].unique()"
   ]
  },
  {
   "cell_type": "code",
   "execution_count": 44,
   "id": "74fba8ab-a0a9-4353-9881-275c5cf19ae5",
   "metadata": {},
   "outputs": [],
   "source": [
    "ames_over.fillna(0, inplace = True)\n",
    "ames_over.drop('Id',1, inplace =True)\n",
    "ames_over.drop('PID', 1, inplace = True)"
   ]
  },
  {
   "cell_type": "code",
   "execution_count": 47,
   "id": "dc58077c-28a9-492e-93da-a8ebf2f6b2bd",
   "metadata": {},
   "outputs": [
    {
     "name": "stdout",
     "output_type": "stream",
     "text": [
      "<class 'pandas.core.frame.DataFrame'>\n",
      "RangeIndex: 2051 entries, 0 to 2050\n",
      "Data columns (total 79 columns):\n",
      " #   Column           Non-Null Count  Dtype  \n",
      "---  ------           --------------  -----  \n",
      " 0   MS SubClass      2051 non-null   int64  \n",
      " 1   MS Zoning        2051 non-null   object \n",
      " 2   Lot Frontage     2051 non-null   float64\n",
      " 3   Lot Area         2051 non-null   int64  \n",
      " 4   Street           2051 non-null   object \n",
      " 5   Alley            2051 non-null   object \n",
      " 6   Lot Shape        2051 non-null   object \n",
      " 7   Land Contour     2051 non-null   object \n",
      " 8   Utilities        2051 non-null   object \n",
      " 9   Lot Config       2051 non-null   object \n",
      " 10  Land Slope       2051 non-null   object \n",
      " 11  Neighborhood     2051 non-null   object \n",
      " 12  Condition 1      2051 non-null   object \n",
      " 13  Condition 2      2051 non-null   object \n",
      " 14  Bldg Type        2051 non-null   object \n",
      " 15  House Style      2051 non-null   object \n",
      " 16  Overall Qual     2051 non-null   int64  \n",
      " 17  Overall Cond     2051 non-null   int64  \n",
      " 18  Year Built       2051 non-null   int64  \n",
      " 19  Year Remod/Add   2051 non-null   int64  \n",
      " 20  Roof Style       2051 non-null   object \n",
      " 21  Roof Matl        2051 non-null   object \n",
      " 22  Exterior 1st     2051 non-null   object \n",
      " 23  Exterior 2nd     2051 non-null   object \n",
      " 24  Mas Vnr Type     2051 non-null   object \n",
      " 25  Mas Vnr Area     2051 non-null   float64\n",
      " 26  Exter Qual       2051 non-null   object \n",
      " 27  Exter Cond       2051 non-null   object \n",
      " 28  Foundation       2051 non-null   object \n",
      " 29  Bsmt Qual        2051 non-null   object \n",
      " 30  Bsmt Cond        2051 non-null   object \n",
      " 31  Bsmt Exposure    2051 non-null   object \n",
      " 32  BsmtFin Type 1   2051 non-null   object \n",
      " 33  BsmtFin SF 1     2051 non-null   float64\n",
      " 34  BsmtFin Type 2   2051 non-null   object \n",
      " 35  BsmtFin SF 2     2051 non-null   float64\n",
      " 36  Bsmt Unf SF      2051 non-null   float64\n",
      " 37  Total Bsmt SF    2051 non-null   float64\n",
      " 38  Heating          2051 non-null   object \n",
      " 39  Heating QC       2051 non-null   object \n",
      " 40  Central Air      2051 non-null   object \n",
      " 41  Electrical       2051 non-null   object \n",
      " 42  1st Flr SF       2051 non-null   int64  \n",
      " 43  2nd Flr SF       2051 non-null   int64  \n",
      " 44  Low Qual Fin SF  2051 non-null   int64  \n",
      " 45  Gr Liv Area      2051 non-null   int64  \n",
      " 46  Bsmt Full Bath   2051 non-null   float64\n",
      " 47  Bsmt Half Bath   2051 non-null   float64\n",
      " 48  Full Bath        2051 non-null   int64  \n",
      " 49  Half Bath        2051 non-null   int64  \n",
      " 50  Bedroom AbvGr    2051 non-null   int64  \n",
      " 51  Kitchen AbvGr    2051 non-null   int64  \n",
      " 52  Kitchen Qual     2051 non-null   object \n",
      " 53  TotRms AbvGrd    2051 non-null   int64  \n",
      " 54  Functional       2051 non-null   object \n",
      " 55  Fireplaces       2051 non-null   int64  \n",
      " 56  Fireplace Qu     2051 non-null   object \n",
      " 57  Garage Type      2051 non-null   object \n",
      " 58  Garage Yr Blt    2051 non-null   float64\n",
      " 59  Garage Finish    2051 non-null   object \n",
      " 60  Garage Cars      2051 non-null   float64\n",
      " 61  Garage Area      2051 non-null   float64\n",
      " 62  Garage Qual      2051 non-null   object \n",
      " 63  Garage Cond      2051 non-null   object \n",
      " 64  Paved Drive      2051 non-null   object \n",
      " 65  Wood Deck SF     2051 non-null   int64  \n",
      " 66  Open Porch SF    2051 non-null   int64  \n",
      " 67  Enclosed Porch   2051 non-null   int64  \n",
      " 68  3Ssn Porch       2051 non-null   int64  \n",
      " 69  Screen Porch     2051 non-null   int64  \n",
      " 70  Pool Area        2051 non-null   int64  \n",
      " 71  Pool QC          2051 non-null   object \n",
      " 72  Fence            2051 non-null   object \n",
      " 73  Misc Feature     2051 non-null   object \n",
      " 74  Misc Val         2051 non-null   int64  \n",
      " 75  Mo Sold          2051 non-null   int64  \n",
      " 76  Yr Sold          2051 non-null   int64  \n",
      " 77  Sale Type        2051 non-null   object \n",
      " 78  SalePrice        2051 non-null   int64  \n",
      "dtypes: float64(11), int64(26), object(42)\n",
      "memory usage: 1.2+ MB\n"
     ]
    }
   ],
   "source": [
    "cols_finite = [column for column in ames_over.columns] \n",
    "ames_over.info()"
   ]
  },
  {
   "cell_type": "code",
   "execution_count": 48,
   "id": "5b8eb504-ba23-434a-a91b-8971a20f849c",
   "metadata": {},
   "outputs": [],
   "source": [
    "for column in cols_finite:\n",
    "    if str(ames_over[column].dtype) == 'object':\n",
    "        ames_over = pd.get_dummies(data = ames_over, columns = [column], drop_first = True)"
   ]
  },
  {
   "cell_type": "code",
   "execution_count": 49,
   "id": "a0fb0c33-b136-43f0-97a6-4ad7c02642ed",
   "metadata": {},
   "outputs": [
    {
     "name": "stdout",
     "output_type": "stream",
     "text": [
      "<class 'pandas.core.frame.DataFrame'>\n",
      "RangeIndex: 2051 entries, 0 to 2050\n",
      "Columns: 263 entries, MS SubClass to Sale Type_WD \n",
      "dtypes: float64(11), int64(26), uint8(226)\n",
      "memory usage: 1.0 MB\n"
     ]
    }
   ],
   "source": [
    "ames_over.info()"
   ]
  },
  {
   "cell_type": "code",
   "execution_count": 396,
   "id": "d0f96cc1-ad3d-4405-a708-eb8e752984b6",
   "metadata": {},
   "outputs": [],
   "source": [
    "X = ames_over.drop('SalePrice',1)\n",
    "y = ames_over['SalePrice']"
   ]
  },
  {
   "cell_type": "code",
   "execution_count": 397,
   "id": "c29ea36e-28f5-4665-a8b2-b24c52a69916",
   "metadata": {},
   "outputs": [],
   "source": [
    "reg_over = LinearRegression()\n",
    "X_train, X_test, y_train, y_test = train_test_split(X, y, random_state = 37)"
   ]
  },
  {
   "cell_type": "code",
   "execution_count": 398,
   "id": "1b09e124-669d-436a-958f-de357ff255ad",
   "metadata": {},
   "outputs": [
    {
     "data": {
      "text/plain": [
       "LinearRegression()"
      ]
     },
     "execution_count": 398,
     "metadata": {},
     "output_type": "execute_result"
    }
   ],
   "source": [
    "reg_over.fit(X_train, y_train)"
   ]
  },
  {
   "cell_type": "code",
   "execution_count": 84,
   "id": "5cab8eea-54ea-487e-bb9e-da17bda8feb8",
   "metadata": {},
   "outputs": [
    {
     "data": {
      "text/plain": [
       "0.9480446618012022"
      ]
     },
     "execution_count": 84,
     "metadata": {},
     "output_type": "execute_result"
    }
   ],
   "source": [
    "reg_over.score(X_train, y_train)"
   ]
  },
  {
   "cell_type": "code",
   "execution_count": 85,
   "id": "8cecea57-d8d7-4a47-b6cf-86fa92f879ae",
   "metadata": {},
   "outputs": [
    {
     "data": {
      "text/plain": [
       "0.7756839765035066"
      ]
     },
     "execution_count": 85,
     "metadata": {},
     "output_type": "execute_result"
    }
   ],
   "source": [
    "reg_over.score(X_test, y_test)"
   ]
  },
  {
   "cell_type": "code",
   "execution_count": 401,
   "id": "911bec0b-d9db-4fa5-8951-cafd3f8d990e",
   "metadata": {},
   "outputs": [],
   "source": [
    "OpredTr = reg_over.predict(X_train)\n",
    "OpredTe = reg_over.predict(X_test)"
   ]
  },
  {
   "cell_type": "code",
   "execution_count": 400,
   "id": "df17830c-b7bb-467b-93e0-3dabee197967",
   "metadata": {},
   "outputs": [
    {
     "data": {
      "text/plain": [
       "302902197.7328259"
      ]
     },
     "execution_count": 400,
     "metadata": {},
     "output_type": "execute_result"
    }
   ],
   "source": [
    "mean_squared_error(OpredTr, y_train)"
   ]
  },
  {
   "cell_type": "code",
   "execution_count": 403,
   "id": "70a93ec1-14a4-44d6-bbb6-d24a283746b5",
   "metadata": {},
   "outputs": [
    {
     "data": {
      "text/plain": [
       "1709187344.2759871"
      ]
     },
     "execution_count": 403,
     "metadata": {},
     "output_type": "execute_result"
    }
   ],
   "source": [
    "mean_squared_error(OpredTe, y_test)"
   ]
  },
  {
   "cell_type": "markdown",
   "id": "830a9020-7feb-4527-83da-c10d98d915da",
   "metadata": {},
   "source": [
    "# Good (I hope) models"
   ]
  },
  {
   "cell_type": "markdown",
   "id": "180da624-dee2-4d77-ad31-091c94086566",
   "metadata": {},
   "source": [
    "## Simple linear regression"
   ]
  },
  {
   "cell_type": "code",
   "execution_count": 577,
   "id": "ed7f99e9-d972-41dc-a8fe-672ed5ee356b",
   "metadata": {},
   "outputs": [],
   "source": [
    "ames = pd.read_pickle('../datasets/pickles/pickled_train.csv.pkl')"
   ]
  },
  {
   "cell_type": "code",
   "execution_count": null,
   "id": "5334ffa0-e2d3-4ce8-bdf6-8e01077d2bde",
   "metadata": {},
   "outputs": [],
   "source": []
  },
  {
   "cell_type": "code",
   "execution_count": 578,
   "id": "8e63dd61-fffe-43b0-a810-7882b89cf88e",
   "metadata": {},
   "outputs": [],
   "source": [
    "for column in ames.columns:\n",
    "    if str(ames[column].dtype) == 'object':\n",
    "        ames = pd.get_dummies(data = ames, columns = [column], drop_first = True)\n",
    "     "
   ]
  },
  {
   "cell_type": "code",
   "execution_count": 579,
   "id": "d9d910a2-400a-45e5-86f3-d8eccfaeae1b",
   "metadata": {},
   "outputs": [],
   "source": [
    "ames.drop('MS SubClass', 1, inplace = True)"
   ]
  },
  {
   "cell_type": "code",
   "execution_count": 580,
   "id": "e1719893-7002-4b1e-b089-a205823a51bc",
   "metadata": {},
   "outputs": [
    {
     "name": "stdout",
     "output_type": "stream",
     "text": [
      "<class 'pandas.core.frame.DataFrame'>\n",
      "RangeIndex: 2051 entries, 0 to 2050\n",
      "Columns: 157 entries, Lot Frontage to roof_ShedWdShngl\n",
      "dtypes: float64(11), int64(37), uint8(109)\n",
      "memory usage: 987.6 KB\n"
     ]
    }
   ],
   "source": [
    "ames.info()"
   ]
  },
  {
   "cell_type": "code",
   "execution_count": 581,
   "id": "0586835f-72ef-4332-94eb-ea043e05f3f6",
   "metadata": {},
   "outputs": [],
   "source": [
    "y = ames['SalePrice']\n",
    "X = ames.drop('SalePrice', 1)\n",
    "\n",
    "X_train, X_test, y_train, y_test = train_test_split(X,y, random_state = 19)"
   ]
  },
  {
   "cell_type": "code",
   "execution_count": 582,
   "id": "af8e1734-b462-4021-a2ad-c439db70cbac",
   "metadata": {},
   "outputs": [],
   "source": [
    "lr = LinearRegression()"
   ]
  },
  {
   "cell_type": "code",
   "execution_count": 583,
   "id": "a0fd1b58-1a63-4e70-8944-cf6067977585",
   "metadata": {},
   "outputs": [
    {
     "data": {
      "text/plain": [
       "LinearRegression()"
      ]
     },
     "execution_count": 583,
     "metadata": {},
     "output_type": "execute_result"
    }
   ],
   "source": [
    "lr.fit(X_train, y_train)"
   ]
  },
  {
   "cell_type": "code",
   "execution_count": 584,
   "id": "527d07b8-8946-4a0e-98e8-13514249aebe",
   "metadata": {},
   "outputs": [
    {
     "data": {
      "text/plain": [
       "0.9217024762630339"
      ]
     },
     "execution_count": 584,
     "metadata": {},
     "output_type": "execute_result"
    }
   ],
   "source": [
    "lr.score(X_train, y_train)"
   ]
  },
  {
   "cell_type": "code",
   "execution_count": 585,
   "id": "712643aa-53cf-4fe6-864c-8de2befb4042",
   "metadata": {},
   "outputs": [
    {
     "data": {
      "text/plain": [
       "0.7924134807312397"
      ]
     },
     "execution_count": 585,
     "metadata": {},
     "output_type": "execute_result"
    }
   ],
   "source": [
    "lr.score(X_test, y_test)"
   ]
  },
  {
   "cell_type": "code",
   "execution_count": 586,
   "id": "4f180ce4-9e46-4628-8985-cd1c76c51de2",
   "metadata": {},
   "outputs": [
    {
     "data": {
      "text/html": [
       "<div>\n",
       "<style scoped>\n",
       "    .dataframe tbody tr th:only-of-type {\n",
       "        vertical-align: middle;\n",
       "    }\n",
       "\n",
       "    .dataframe tbody tr th {\n",
       "        vertical-align: top;\n",
       "    }\n",
       "\n",
       "    .dataframe thead th {\n",
       "        text-align: right;\n",
       "    }\n",
       "</style>\n",
       "<table border=\"1\" class=\"dataframe\">\n",
       "  <thead>\n",
       "    <tr style=\"text-align: right;\">\n",
       "      <th></th>\n",
       "      <th>Model</th>\n",
       "      <th># Features</th>\n",
       "      <th>R2 Training Data</th>\n",
       "      <th>R2 Test Data</th>\n",
       "      <th>Mean Squared Error Train</th>\n",
       "      <th>Mean Squared Error Test</th>\n",
       "      <th>Root Mean Squared Error Train</th>\n",
       "      <th>Root Mean Squared Error Test</th>\n",
       "    </tr>\n",
       "  </thead>\n",
       "  <tbody>\n",
       "    <tr>\n",
       "      <th>0</th>\n",
       "      <td>Underfit</td>\n",
       "      <td>38</td>\n",
       "      <td>0.827420</td>\n",
       "      <td>0.857440</td>\n",
       "      <td>1.047828e+09</td>\n",
       "      <td>8.940176e+08</td>\n",
       "      <td>32370.172502</td>\n",
       "      <td>29900.127463</td>\n",
       "    </tr>\n",
       "    <tr>\n",
       "      <th>1</th>\n",
       "      <td>Overfit</td>\n",
       "      <td>262</td>\n",
       "      <td>0.948045</td>\n",
       "      <td>0.775684</td>\n",
       "      <td>3.029022e+08</td>\n",
       "      <td>1.709187e+09</td>\n",
       "      <td>17404.085662</td>\n",
       "      <td>41342.319048</td>\n",
       "    </tr>\n",
       "    <tr>\n",
       "      <th>2</th>\n",
       "      <td>Reduced One Hot</td>\n",
       "      <td>2051</td>\n",
       "      <td>0.921702</td>\n",
       "      <td>0.792413</td>\n",
       "      <td>5.016665e+08</td>\n",
       "      <td>1.223223e+09</td>\n",
       "      <td>22397.913534</td>\n",
       "      <td>34974.600339</td>\n",
       "    </tr>\n",
       "    <tr>\n",
       "      <th>3</th>\n",
       "      <td>Reduced Numeric</td>\n",
       "      <td>2051</td>\n",
       "      <td>0.871101</td>\n",
       "      <td>0.761640</td>\n",
       "      <td>8.258792e+08</td>\n",
       "      <td>1.404559e+09</td>\n",
       "      <td>28738.113317</td>\n",
       "      <td>37477.451495</td>\n",
       "    </tr>\n",
       "    <tr>\n",
       "      <th>4</th>\n",
       "      <td>Reduced One Hot Ridge</td>\n",
       "      <td>2051</td>\n",
       "      <td>0.921258</td>\n",
       "      <td>0.792751</td>\n",
       "      <td>5.045140e+08</td>\n",
       "      <td>1.221234e+09</td>\n",
       "      <td>22461.388822</td>\n",
       "      <td>34946.165595</td>\n",
       "    </tr>\n",
       "  </tbody>\n",
       "</table>\n",
       "</div>"
      ],
      "text/plain": [
       "                   Model  # Features  R2 Training Data  R2 Test Data  \\\n",
       "0               Underfit          38          0.827420      0.857440   \n",
       "1                Overfit         262          0.948045      0.775684   \n",
       "2        Reduced One Hot        2051          0.921702      0.792413   \n",
       "3        Reduced Numeric        2051          0.871101      0.761640   \n",
       "4  Reduced One Hot Ridge        2051          0.921258      0.792751   \n",
       "\n",
       "   Mean Squared Error Train  Mean Squared Error Test  \\\n",
       "0              1.047828e+09             8.940176e+08   \n",
       "1              3.029022e+08             1.709187e+09   \n",
       "2              5.016665e+08             1.223223e+09   \n",
       "3              8.258792e+08             1.404559e+09   \n",
       "4              5.045140e+08             1.221234e+09   \n",
       "\n",
       "   Root Mean Squared Error Train  Root Mean Squared Error Test  \n",
       "0                   32370.172502                  29900.127463  \n",
       "1                   17404.085662                  41342.319048  \n",
       "2                   22397.913534                  34974.600339  \n",
       "3                   28738.113317                  37477.451495  \n",
       "4                   22461.388822                  34946.165595  "
      ]
     },
     "execution_count": 586,
     "metadata": {},
     "output_type": "execute_result"
    }
   ],
   "source": [
    "table.head()"
   ]
  },
  {
   "cell_type": "code",
   "execution_count": 590,
   "id": "fd449f06-1e90-4ce3-8af1-c7f90e67528f",
   "metadata": {},
   "outputs": [],
   "source": [
    "#I made this table, but made some code changes that will change outcomes slightly. So I have to refill it. \n",
    "\n",
    "table = pd.read_pickle('../datasets/pickles/table')\n",
    "\n",
    "r2_train = lr.score(X_train, y_train)\n",
    "r2_test = lr.score(X_test, y_test)\n",
    "preds = lr.predict(X_train)\n",
    "predsTe = lr.predict(X_test)\n",
    "mse_train = mean_squared_error(preds, y_train)\n",
    "mse_test = mean_squared_error(predsTe, y_test)\n",
    "features = len(X.columns)\n",
    "\n",
    "table.loc[2] = ['Reduced One Hot', features, r2_train, r2_test, mse_train, mse_test, mse_train**.5, mse_test**.5]\n",
    "    \n",
    "    "
   ]
  },
  {
   "cell_type": "code",
   "execution_count": 591,
   "id": "9495f787-dcb5-4483-957f-e8f600171f98",
   "metadata": {},
   "outputs": [
    {
     "data": {
      "text/plain": [
       "156"
      ]
     },
     "execution_count": 591,
     "metadata": {},
     "output_type": "execute_result"
    }
   ],
   "source": [
    "features"
   ]
  },
  {
   "cell_type": "code",
   "execution_count": 592,
   "id": "ff6783bd-5223-4662-9c0e-2f155948a013",
   "metadata": {},
   "outputs": [
    {
     "data": {
      "text/html": [
       "<div>\n",
       "<style scoped>\n",
       "    .dataframe tbody tr th:only-of-type {\n",
       "        vertical-align: middle;\n",
       "    }\n",
       "\n",
       "    .dataframe tbody tr th {\n",
       "        vertical-align: top;\n",
       "    }\n",
       "\n",
       "    .dataframe thead th {\n",
       "        text-align: right;\n",
       "    }\n",
       "</style>\n",
       "<table border=\"1\" class=\"dataframe\">\n",
       "  <thead>\n",
       "    <tr style=\"text-align: right;\">\n",
       "      <th></th>\n",
       "      <th>Model</th>\n",
       "      <th># Features</th>\n",
       "      <th>R2 Training Data</th>\n",
       "      <th>R2 Test Data</th>\n",
       "      <th>Mean Squared Error Train</th>\n",
       "      <th>Mean Squared Error Test</th>\n",
       "      <th>Root Mean Squared Error Train</th>\n",
       "      <th>Root Mean Squared Error Test</th>\n",
       "    </tr>\n",
       "  </thead>\n",
       "  <tbody>\n",
       "    <tr>\n",
       "      <th>0</th>\n",
       "      <td>Underfit</td>\n",
       "      <td>38</td>\n",
       "      <td>0.827420</td>\n",
       "      <td>0.857440</td>\n",
       "      <td>1.047828e+09</td>\n",
       "      <td>8.940176e+08</td>\n",
       "      <td>32370.172502</td>\n",
       "      <td>29900.127463</td>\n",
       "    </tr>\n",
       "    <tr>\n",
       "      <th>1</th>\n",
       "      <td>Overfit</td>\n",
       "      <td>262</td>\n",
       "      <td>0.948045</td>\n",
       "      <td>0.775684</td>\n",
       "      <td>3.029022e+08</td>\n",
       "      <td>1.709187e+09</td>\n",
       "      <td>17404.085662</td>\n",
       "      <td>41342.319048</td>\n",
       "    </tr>\n",
       "    <tr>\n",
       "      <th>2</th>\n",
       "      <td>Reduced One Hot</td>\n",
       "      <td>156</td>\n",
       "      <td>0.921702</td>\n",
       "      <td>0.792413</td>\n",
       "      <td>5.016665e+08</td>\n",
       "      <td>1.223223e+09</td>\n",
       "      <td>22397.913534</td>\n",
       "      <td>34974.600339</td>\n",
       "    </tr>\n",
       "    <tr>\n",
       "      <th>3</th>\n",
       "      <td>reduced numeric</td>\n",
       "      <td>43</td>\n",
       "      <td>0.921257</td>\n",
       "      <td>0.789490</td>\n",
       "      <td>8.592893e+08</td>\n",
       "      <td>1.714364e+09</td>\n",
       "      <td>29313.636812</td>\n",
       "      <td>41404.882233</td>\n",
       "    </tr>\n",
       "    <tr>\n",
       "      <th>4</th>\n",
       "      <td>reduced 1hot ridgeCV (Best)</td>\n",
       "      <td>146</td>\n",
       "      <td>0.853206</td>\n",
       "      <td>0.765365</td>\n",
       "      <td>5.066631e+08</td>\n",
       "      <td>1.240451e+09</td>\n",
       "      <td>22509.177374</td>\n",
       "      <td>35220.030933</td>\n",
       "    </tr>\n",
       "    <tr>\n",
       "      <th>5</th>\n",
       "      <td>reduced 1hot lassoCV (Best)</td>\n",
       "      <td>146</td>\n",
       "      <td>0.920923</td>\n",
       "      <td>0.808473</td>\n",
       "      <td>6.023400e+08</td>\n",
       "      <td>1.128589e+09</td>\n",
       "      <td>24542.615682</td>\n",
       "      <td>33594.472944</td>\n",
       "    </tr>\n",
       "    <tr>\n",
       "      <th>6</th>\n",
       "      <td>reduced numeric ridgeCV(best)</td>\n",
       "      <td>43</td>\n",
       "      <td>0.853115</td>\n",
       "      <td>0.775923</td>\n",
       "      <td>8.601491e+08</td>\n",
       "      <td>1.586311e+09</td>\n",
       "      <td>29328.298938</td>\n",
       "      <td>39828.519866</td>\n",
       "    </tr>\n",
       "    <tr>\n",
       "      <th>7</th>\n",
       "      <td>reduced numeric lassoCV(best)</td>\n",
       "      <td>43</td>\n",
       "      <td>0.805618</td>\n",
       "      <td>0.858332</td>\n",
       "      <td>1.043421e+09</td>\n",
       "      <td>1.015111e+09</td>\n",
       "      <td>32302.021427</td>\n",
       "      <td>31860.802889</td>\n",
       "    </tr>\n",
       "  </tbody>\n",
       "</table>\n",
       "</div>"
      ],
      "text/plain": [
       "                           Model  # Features  R2 Training Data  R2 Test Data  \\\n",
       "0                       Underfit          38          0.827420      0.857440   \n",
       "1                        Overfit         262          0.948045      0.775684   \n",
       "2                Reduced One Hot         156          0.921702      0.792413   \n",
       "3                reduced numeric          43          0.921257      0.789490   \n",
       "4    reduced 1hot ridgeCV (Best)         146          0.853206      0.765365   \n",
       "5    reduced 1hot lassoCV (Best)         146          0.920923      0.808473   \n",
       "6  reduced numeric ridgeCV(best)          43          0.853115      0.775923   \n",
       "7  reduced numeric lassoCV(best)          43          0.805618      0.858332   \n",
       "\n",
       "   Mean Squared Error Train  Mean Squared Error Test  \\\n",
       "0              1.047828e+09             8.940176e+08   \n",
       "1              3.029022e+08             1.709187e+09   \n",
       "2              5.016665e+08             1.223223e+09   \n",
       "3              8.592893e+08             1.714364e+09   \n",
       "4              5.066631e+08             1.240451e+09   \n",
       "5              6.023400e+08             1.128589e+09   \n",
       "6              8.601491e+08             1.586311e+09   \n",
       "7              1.043421e+09             1.015111e+09   \n",
       "\n",
       "   Root Mean Squared Error Train  Root Mean Squared Error Test  \n",
       "0                   32370.172502                  29900.127463  \n",
       "1                   17404.085662                  41342.319048  \n",
       "2                   22397.913534                  34974.600339  \n",
       "3                   29313.636812                  41404.882233  \n",
       "4                   22509.177374                  35220.030933  \n",
       "5                   24542.615682                  33594.472944  \n",
       "6                   29328.298938                  39828.519866  \n",
       "7                   32302.021427                  31860.802889  "
      ]
     },
     "execution_count": 592,
     "metadata": {},
     "output_type": "execute_result"
    }
   ],
   "source": [
    "table"
   ]
  },
  {
   "cell_type": "code",
   "execution_count": 593,
   "id": "c7ccc39a-ffea-48e7-8c56-d83ec678d02a",
   "metadata": {},
   "outputs": [
    {
     "data": {
      "text/plain": [
       "501666530.67409515"
      ]
     },
     "execution_count": 593,
     "metadata": {},
     "output_type": "execute_result"
    }
   ],
   "source": [
    "mean_squared_error(preds, y_train)"
   ]
  },
  {
   "cell_type": "markdown",
   "id": "bfeae173-90fa-4394-b8b4-c5c30da6cbf5",
   "metadata": {},
   "source": [
    "That barely made a dent lets see how some other linear models perform"
   ]
  },
  {
   "cell_type": "code",
   "execution_count": 594,
   "id": "aa82d530-b72f-4a1d-8c81-1172c8ac606c",
   "metadata": {},
   "outputs": [],
   "source": [
    "ridge = RidgeCV()"
   ]
  },
  {
   "cell_type": "code",
   "execution_count": 595,
   "id": "e7740b6e-ccb6-4451-8bfa-cb6e44a98195",
   "metadata": {},
   "outputs": [],
   "source": [
    "ss = StandardScaler()"
   ]
  },
  {
   "cell_type": "code",
   "execution_count": 596,
   "id": "d8d20517-a0d1-45d5-b15d-88925f3b614f",
   "metadata": {},
   "outputs": [],
   "source": [
    "Z = ss.fit_transform(X, y)"
   ]
  },
  {
   "cell_type": "code",
   "execution_count": 597,
   "id": "0d797915-4ea9-403d-b489-c63d2f2d3979",
   "metadata": {},
   "outputs": [],
   "source": [
    "Z_train, Z_test, y_train, y_test = train_test_split(Z,y, random_state = 19)"
   ]
  },
  {
   "cell_type": "code",
   "execution_count": 598,
   "id": "3a9b8fda-5a0e-4792-ac11-f47a77e61c98",
   "metadata": {},
   "outputs": [
    {
     "data": {
      "text/plain": [
       "RidgeCV(alphas=array([ 0.1,  1. , 10. ]))"
      ]
     },
     "execution_count": 598,
     "metadata": {},
     "output_type": "execute_result"
    }
   ],
   "source": [
    "ridge.fit(Z_train, y_train)"
   ]
  },
  {
   "cell_type": "code",
   "execution_count": 599,
   "id": "a77d89fc-5784-415e-a00d-c0bb5998c6ea",
   "metadata": {},
   "outputs": [
    {
     "data": {
      "text/plain": [
       "0.9212580598436296"
      ]
     },
     "execution_count": 599,
     "metadata": {},
     "output_type": "execute_result"
    }
   ],
   "source": [
    "ridge.score(Z_train, y_train)"
   ]
  },
  {
   "cell_type": "code",
   "execution_count": 600,
   "id": "b00b6bde-56c4-4678-92fc-8a31820db555",
   "metadata": {},
   "outputs": [],
   "source": [
    "ridge.score(Z_test, y_test)\n",
    "lr = ridge"
   ]
  },
  {
   "cell_type": "code",
   "execution_count": 605,
   "id": "499a05c4-b1d9-40e6-ab4e-ed77e525d38c",
   "metadata": {},
   "outputs": [],
   "source": [
    "\n",
    "r2_train = lr.score(Z_train, y_train)\n",
    "r2_test = lr.score(Z_test, y_test)\n",
    "preds = lr.predict(Z_train)\n",
    "predsTe = lr.predict(Z_test)\n",
    "mse_train = mean_squared_error(preds, y_train)\n",
    "mse_test = mean_squared_error(predsTe, y_test)\n",
    "features = len(X.columns)\n",
    "\n",
    "table.loc[4] = ['Reduced Ridge', features, r2_train, r2_test, mse_train, mse_test, mse_train**.5, mse_test**.5]"
   ]
  },
  {
   "cell_type": "code",
   "execution_count": 606,
   "id": "cea3a12a-de8e-4652-b8ce-b6cec0133cae",
   "metadata": {},
   "outputs": [
    {
     "data": {
      "text/plain": [
       "504513987.81777364"
      ]
     },
     "execution_count": 606,
     "metadata": {},
     "output_type": "execute_result"
    }
   ],
   "source": [
    "mean_squared_error(preds, y_train)"
   ]
  },
  {
   "cell_type": "code",
   "execution_count": 607,
   "id": "7184cdac-9e8b-4e95-999a-12990b4dbdfb",
   "metadata": {},
   "outputs": [
    {
     "data": {
      "text/plain": [
       "1221234489.760213"
      ]
     },
     "execution_count": 607,
     "metadata": {},
     "output_type": "execute_result"
    }
   ],
   "source": [
    "mean_squared_error(predsTe, y_test)"
   ]
  },
  {
   "cell_type": "code",
   "execution_count": 608,
   "id": "324ee454-3eb9-4016-800b-b91ffc275c6a",
   "metadata": {},
   "outputs": [],
   "source": [
    "llr = LassoCV(verbose = True)"
   ]
  },
  {
   "cell_type": "code",
   "execution_count": 609,
   "id": "d987ad67-f87d-4079-8a9a-9a8c27ae2c34",
   "metadata": {},
   "outputs": [
    {
     "name": "stderr",
     "output_type": "stream",
     "text": [
      "[Parallel(n_jobs=1)]: Using backend SequentialBackend with 1 concurrent workers.\n",
      "....................................................................................................................................................................................................................................................................................................................................................................................................................................................................................................................[Parallel(n_jobs=1)]: Done   5 out of   5 | elapsed:    0.6s finished\n"
     ]
    },
    {
     "data": {
      "text/plain": [
       "LassoCV(verbose=True)"
      ]
     },
     "execution_count": 609,
     "metadata": {},
     "output_type": "execute_result"
    }
   ],
   "source": [
    "llr.fit(Z_train, y_train)"
   ]
  },
  {
   "cell_type": "code",
   "execution_count": 610,
   "id": "8e65145e-534a-44e0-a4c3-8d58a97d799c",
   "metadata": {},
   "outputs": [
    {
     "data": {
      "text/plain": [
       "0.9072485932659737"
      ]
     },
     "execution_count": 610,
     "metadata": {},
     "output_type": "execute_result"
    }
   ],
   "source": [
    "llr.score(Z_train, y_train)"
   ]
  },
  {
   "cell_type": "code",
   "execution_count": 611,
   "id": "8c937a9b-3d57-414f-b185-2f048ce81e19",
   "metadata": {},
   "outputs": [
    {
     "data": {
      "text/plain": [
       "0.8078656599166636"
      ]
     },
     "execution_count": 611,
     "metadata": {},
     "output_type": "execute_result"
    }
   ],
   "source": [
    "llr.score(Z_test, y_test)"
   ]
  },
  {
   "cell_type": "code",
   "execution_count": 612,
   "id": "d9f0c8e8-cf8c-40ad-bc18-387db598000b",
   "metadata": {},
   "outputs": [],
   "source": [
    "\n",
    "r2_train = llr.score(Z_train, y_train)\n",
    "r2_test = llr.score(Z_test, y_test)\n",
    "preds = llr.predict(Z_train)\n",
    "predsTe = llr.predict(Z_test)\n",
    "mse_train = mean_squared_error(preds, y_train)\n",
    "mse_test = mean_squared_error(predsTe, y_test)\n",
    "features = len(X.columns)\n",
    "\n",
    "table.loc[5] = ['Reduced One Hot Lasso', features, r2_train, r2_test, mse_train, mse_test, mse_train**.5, mse_test**.5]"
   ]
  },
  {
   "cell_type": "markdown",
   "id": "20c6e67f-f5b7-491c-9fe5-504648257248",
   "metadata": {},
   "source": []
  },
  {
   "cell_type": "markdown",
   "id": "11348a77-4ba7-4eca-a78b-97563a8cd972",
   "metadata": {},
   "source": [
    "I suspect that there was already a lot of signal in the numeric data, and that my changes weren't sufficient to cut out the noise. I did improve the model substanitally over my most overfit attempt, however.\n",
    "\n",
    "I wonder if there's a simple refinement to make. Perhaps I'll only include numeric columns but include those that I modified"
   ]
  },
  {
   "cell_type": "code",
   "execution_count": 613,
   "id": "5b154e01-c47b-4f16-b0e7-e2aed8871dad",
   "metadata": {},
   "outputs": [],
   "source": [
    "ames = pd.read_pickle('../datasets/pickles/pickled_train.csv.pkl')\n",
    "ames_hyb = ames._get_numeric_data()"
   ]
  },
  {
   "cell_type": "code",
   "execution_count": 614,
   "id": "b550935d-3d25-4b88-89b2-7e5913ebf7df",
   "metadata": {},
   "outputs": [],
   "source": [
    "\n",
    "X = ames_hyb.drop('SalePrice',1)\n",
    "y= ames_hyb['SalePrice']"
   ]
  },
  {
   "cell_type": "code",
   "execution_count": 615,
   "id": "4412983e-cc49-4cc5-beb9-79cc0f9501a9",
   "metadata": {},
   "outputs": [],
   "source": [
    "X_train, X_test, y_train, y_test = train_test_split(X,y, random_state = 19)"
   ]
  },
  {
   "cell_type": "code",
   "execution_count": 616,
   "id": "ad8d003c-d63f-45db-bb51-e9cd42d80888",
   "metadata": {},
   "outputs": [],
   "source": [
    "lrh = LinearRegression()"
   ]
  },
  {
   "cell_type": "code",
   "execution_count": 617,
   "id": "d9b38a0d-e1e5-4ec7-af10-674042c40696",
   "metadata": {},
   "outputs": [
    {
     "data": {
      "text/plain": [
       "LinearRegression()"
      ]
     },
     "execution_count": 617,
     "metadata": {},
     "output_type": "execute_result"
    }
   ],
   "source": [
    "lrh.fit(X_train, y_train)"
   ]
  },
  {
   "cell_type": "code",
   "execution_count": 618,
   "id": "6e45ecad-be0d-4055-82fe-6a13a5807009",
   "metadata": {},
   "outputs": [],
   "source": [
    "r2_train = lrh.score(X_train, y_train)\n",
    "r2_test = lrh.score(X_test, y_test)\n",
    "preds = lrh.predict(X_train)\n",
    "predsTe = lrh.predict(X_test)\n",
    "mse_train = mean_squared_error(preds, y_train)\n",
    "mse_test = mean_squared_error(predsTe, y_test)\n",
    "features = len(X.columns)\n",
    "\n",
    "table.loc[3] = ['Reduced Numeric', features, r2_train, r2_test, mse_train, mse_test, mse_train**.5, mse_test**.5]"
   ]
  },
  {
   "cell_type": "code",
   "execution_count": 619,
   "id": "0182668e-934d-4ed5-948d-f2dd943ae5d6",
   "metadata": {},
   "outputs": [
    {
     "data": {
      "text/plain": [
       "0.7616398074761873"
      ]
     },
     "execution_count": 619,
     "metadata": {},
     "output_type": "execute_result"
    }
   ],
   "source": [
    "lrh.score(X_test, y_test)"
   ]
  },
  {
   "cell_type": "code",
   "execution_count": 620,
   "id": "f50375a8-ba1b-4bfa-8bc9-0a9932a4e901",
   "metadata": {},
   "outputs": [
    {
     "name": "stdout",
     "output_type": "stream",
     "text": [
      "<class 'pandas.core.frame.DataFrame'>\n",
      "RangeIndex: 2051 entries, 0 to 2050\n",
      "Data columns (total 57 columns):\n",
      " #   Column             Non-Null Count  Dtype  \n",
      "---  ------             --------------  -----  \n",
      " 0   MS SubClass        2051 non-null   int64  \n",
      " 1   Lot Frontage       2051 non-null   float64\n",
      " 2   Lot Area           2051 non-null   int64  \n",
      " 3   Street             2051 non-null   int64  \n",
      " 4   Overall Qual       2051 non-null   int64  \n",
      " 5   Overall Cond       2051 non-null   int64  \n",
      " 6   Year Built         2051 non-null   int64  \n",
      " 7   Year Remod/Add     2051 non-null   int64  \n",
      " 8   Mas Vnr Area       2051 non-null   float64\n",
      " 9   Bsmt Qual          2051 non-null   int64  \n",
      " 10  Bsmt Cond          2051 non-null   int64  \n",
      " 11  BsmtFin SF 1       2051 non-null   float64\n",
      " 12  BsmtFin SF 2       2051 non-null   float64\n",
      " 13  Bsmt Unf SF        2051 non-null   float64\n",
      " 14  Total Bsmt SF      2051 non-null   float64\n",
      " 15  Central Air        2051 non-null   int64  \n",
      " 16  1st Flr SF         2051 non-null   int64  \n",
      " 17  2nd Flr SF         2051 non-null   int64  \n",
      " 18  Low Qual Fin SF    2051 non-null   int64  \n",
      " 19  Gr Liv Area        2051 non-null   int64  \n",
      " 20  Bsmt Full Bath     2051 non-null   float64\n",
      " 21  Full Bath          2051 non-null   int64  \n",
      " 22  Half Bath          2051 non-null   int64  \n",
      " 23  Bedroom AbvGr      2051 non-null   int64  \n",
      " 24  Kitchen AbvGr      2051 non-null   int64  \n",
      " 25  Kitchen Qual       2051 non-null   int64  \n",
      " 26  TotRms AbvGrd      2051 non-null   int64  \n",
      " 27  Functional         2051 non-null   int64  \n",
      " 28  Fireplaces         2051 non-null   int64  \n",
      " 29  Garage Yr Blt      2051 non-null   float64\n",
      " 30  Garage Cars        2051 non-null   float64\n",
      " 31  Garage Area        2051 non-null   float64\n",
      " 32  Garage Qual        2051 non-null   int64  \n",
      " 33  Wood Deck SF       2051 non-null   int64  \n",
      " 34  Open Porch SF      2051 non-null   int64  \n",
      " 35  Enclosed Porch     2051 non-null   int64  \n",
      " 36  3Ssn Porch         2051 non-null   int64  \n",
      " 37  Screen Porch       2051 non-null   int64  \n",
      " 38  Pool Area          2051 non-null   int64  \n",
      " 39  Pool QC            2051 non-null   float64\n",
      " 40  Misc Val           2051 non-null   int64  \n",
      " 41  Mo Sold            2051 non-null   int64  \n",
      " 42  Yr Sold            2051 non-null   int64  \n",
      " 43  SalePrice          2051 non-null   int64  \n",
      " 44  NeighborhoodScore  2051 non-null   int64  \n",
      " 45  isResidential      2051 non-null   int64  \n",
      " 46  Sale Type__CWD     2051 non-null   uint8  \n",
      " 47  Sale Type__Con     2051 non-null   uint8  \n",
      " 48  Sale Type__ConLD   2051 non-null   uint8  \n",
      " 49  Sale Type__ConLI   2051 non-null   uint8  \n",
      " 50  Sale Type__ConLw   2051 non-null   uint8  \n",
      " 51  Sale Type__New     2051 non-null   uint8  \n",
      " 52  Sale Type__Oth     2051 non-null   uint8  \n",
      " 53  Sale Type__WD      2051 non-null   uint8  \n",
      " 54  Ex1Score           2051 non-null   int64  \n",
      " 55  Ex2Score           2051 non-null   int64  \n",
      " 56  Exter Qual * Cond  2051 non-null   int64  \n",
      "dtypes: float64(11), int64(38), uint8(8)\n",
      "memory usage: 801.3 KB\n"
     ]
    }
   ],
   "source": [
    "ames_hyb.info()\n",
    "ames_hyb.drop('MS SubClass', 1, inplace = True)"
   ]
  },
  {
   "cell_type": "code",
   "execution_count": 621,
   "id": "1eec2745-611f-4d80-886f-e41377310da6",
   "metadata": {},
   "outputs": [
    {
     "data": {
      "text/plain": [
       "1404559370.577563"
      ]
     },
     "execution_count": 621,
     "metadata": {},
     "output_type": "execute_result"
    }
   ],
   "source": [
    "pred = lrh.predict(X_train)\n",
    "predTe = lrh.predict(X_test)\n",
    "mean_squared_error(predTe, y_test)"
   ]
  },
  {
   "cell_type": "code",
   "execution_count": 622,
   "id": "c0d7a477-4609-4ac6-a2db-8fa239f1d1a6",
   "metadata": {},
   "outputs": [],
   "source": [
    "ridge = RidgeCV()\n",
    "ss = StandardScaler()\n",
    "Z = ss.fit_transform(X, y)"
   ]
  },
  {
   "cell_type": "code",
   "execution_count": 623,
   "id": "a2b3c4b0-0ee3-4a12-9a53-440d4eb9e78f",
   "metadata": {},
   "outputs": [],
   "source": [
    "\n",
    "\n",
    "Z_train, Z_test, y_train, y_test = train_test_split(Z,y, random_state = 19)"
   ]
  },
  {
   "cell_type": "code",
   "execution_count": 624,
   "id": "0a56e4a7-085a-46d5-a016-3dc5fbc3a68c",
   "metadata": {},
   "outputs": [
    {
     "data": {
      "text/plain": [
       "RidgeCV(alphas=array([ 0.1,  1. , 10. ]))"
      ]
     },
     "execution_count": 624,
     "metadata": {},
     "output_type": "execute_result"
    }
   ],
   "source": [
    "ridge.fit(Z_train, y_train)"
   ]
  },
  {
   "cell_type": "code",
   "execution_count": 625,
   "id": "212709c2-c39c-4bcd-ade6-2c95e0541c04",
   "metadata": {},
   "outputs": [],
   "source": [
    "r2_train = ridge.score(Z_train, y_train)\n",
    "r2_test = ridge.score(Z_test, y_test)\n",
    "preds = ridge.predict(Z_train)\n",
    "predsTe = ridge.predict(Z_test)\n",
    "mse_train = mean_squared_error(preds, y_train)\n",
    "mse_test = mean_squared_error(predsTe, y_test)\n",
    "features = len(X.columns)\n",
    "\n",
    "table.loc[6] = ['Reduced Numeric Ridge', features, r2_train, r2_test, mse_train, mse_test, mse_train**.5, mse_test**.5]"
   ]
  },
  {
   "cell_type": "code",
   "execution_count": 626,
   "id": "ad62f4a2-acd3-40ba-b1f1-279a31cedcc6",
   "metadata": {},
   "outputs": [
    {
     "data": {
      "text/plain": [
       "0.7661423150200297"
      ]
     },
     "execution_count": 626,
     "metadata": {},
     "output_type": "execute_result"
    }
   ],
   "source": [
    "ridge.score(Z_test, y_test)"
   ]
  },
  {
   "cell_type": "code",
   "execution_count": 627,
   "id": "06daa7c3-2eb9-41c6-9738-4a8e5e84cf85",
   "metadata": {},
   "outputs": [
    {
     "data": {
      "text/plain": [
       "1378027930.5126777"
      ]
     },
     "execution_count": 627,
     "metadata": {},
     "output_type": "execute_result"
    }
   ],
   "source": [
    "preds= ridge.predict(Z_train)\n",
    "predsTe= ridge.predict(Z_test)\n",
    "mean_squared_error(predsTe, y_test)"
   ]
  },
  {
   "cell_type": "code",
   "execution_count": 628,
   "id": "820c53b2-01f5-44c6-8035-b295e545fe93",
   "metadata": {},
   "outputs": [
    {
     "data": {
      "text/plain": [
       "LassoCV()"
      ]
     },
     "execution_count": 628,
     "metadata": {},
     "output_type": "execute_result"
    }
   ],
   "source": [
    "las = LassoCV()\n",
    "las.fit(Z_train, y_train)"
   ]
  },
  {
   "cell_type": "code",
   "execution_count": 629,
   "id": "d7b15b26-cfbd-43b4-a81a-824bf0b5fdb2",
   "metadata": {},
   "outputs": [],
   "source": [
    "r2_train = las.score(Z_train, y_train)\n",
    "r2_test = las.score(Z_test, y_test)\n",
    "preds = las.predict(Z_train)\n",
    "predsTe = las.predict(Z_test)\n",
    "mse_train = mean_squared_error(preds, y_train)\n",
    "mse_test = mean_squared_error(predsTe, y_test)\n",
    "features = len(X.columns)\n",
    "\n",
    "table.loc[7] = ['Reduced Numeric Lasso', features, r2_train, r2_test, mse_train, mse_test, mse_train**.5, mse_test**.5]"
   ]
  },
  {
   "cell_type": "code",
   "execution_count": 630,
   "id": "94d73e7d-e1df-43bd-8353-a192ebe87ec5",
   "metadata": {},
   "outputs": [
    {
     "data": {
      "text/plain": [
       "0.8308572212971429"
      ]
     },
     "execution_count": 630,
     "metadata": {},
     "output_type": "execute_result"
    }
   ],
   "source": [
    "las.score(Z_test, y_test)"
   ]
  },
  {
   "cell_type": "code",
   "execution_count": 631,
   "id": "1ac17de4-968c-43fb-9d06-83918465d149",
   "metadata": {},
   "outputs": [],
   "source": [
    "test = test._get_numeric_data()"
   ]
  },
  {
   "cell_type": "code",
   "execution_count": 632,
   "id": "32e29a5a-de48-40b3-9cb5-71e888358d7c",
   "metadata": {},
   "outputs": [
    {
     "data": {
      "text/plain": [
       "996689389.6047306"
      ]
     },
     "execution_count": 632,
     "metadata": {},
     "output_type": "execute_result"
    }
   ],
   "source": [
    "preds= las.predict(Z_train)\n",
    "predsTe= las.predict(Z_test)\n",
    "mean_squared_error(predsTe, y_test)"
   ]
  },
  {
   "cell_type": "code",
   "execution_count": 633,
   "id": "78a1bd39-cda2-4c65-9f80-6c346b8a6a21",
   "metadata": {},
   "outputs": [],
   "source": [
    "table.loc[4, 'Model'] = 'Reduced One Hot Ridge'"
   ]
  },
  {
   "cell_type": "code",
   "execution_count": 634,
   "id": "292a4ea6-e0fc-4ac7-abf6-d80aaaa186d0",
   "metadata": {},
   "outputs": [],
   "source": [
    "table.to_pickle('../datasets/pickles/table.pkl')"
   ]
  },
  {
   "cell_type": "code",
   "execution_count": null,
   "id": "f02266d4-4781-49d2-ae69-785d9dbdba24",
   "metadata": {},
   "outputs": [],
   "source": []
  },
  {
   "cell_type": "code",
   "execution_count": 635,
   "id": "3422bd3e-c5a0-44e3-a9c4-98ba9d9be10e",
   "metadata": {},
   "outputs": [
    {
     "data": {
      "text/html": [
       "<div>\n",
       "<style scoped>\n",
       "    .dataframe tbody tr th:only-of-type {\n",
       "        vertical-align: middle;\n",
       "    }\n",
       "\n",
       "    .dataframe tbody tr th {\n",
       "        vertical-align: top;\n",
       "    }\n",
       "\n",
       "    .dataframe thead th {\n",
       "        text-align: right;\n",
       "    }\n",
       "</style>\n",
       "<table border=\"1\" class=\"dataframe\">\n",
       "  <thead>\n",
       "    <tr style=\"text-align: right;\">\n",
       "      <th></th>\n",
       "      <th>Model</th>\n",
       "      <th># Features</th>\n",
       "      <th>R2 Training Data</th>\n",
       "      <th>R2 Test Data</th>\n",
       "      <th>Mean Squared Error Train</th>\n",
       "      <th>Mean Squared Error Test</th>\n",
       "      <th>Root Mean Squared Error Train</th>\n",
       "      <th>Root Mean Squared Error Test</th>\n",
       "    </tr>\n",
       "  </thead>\n",
       "  <tbody>\n",
       "    <tr>\n",
       "      <th>0</th>\n",
       "      <td>Underfit</td>\n",
       "      <td>38</td>\n",
       "      <td>0.827420</td>\n",
       "      <td>0.857440</td>\n",
       "      <td>1.047828e+09</td>\n",
       "      <td>8.940176e+08</td>\n",
       "      <td>32370.172502</td>\n",
       "      <td>29900.127463</td>\n",
       "    </tr>\n",
       "    <tr>\n",
       "      <th>1</th>\n",
       "      <td>Overfit</td>\n",
       "      <td>262</td>\n",
       "      <td>0.948045</td>\n",
       "      <td>0.775684</td>\n",
       "      <td>3.029022e+08</td>\n",
       "      <td>1.709187e+09</td>\n",
       "      <td>17404.085662</td>\n",
       "      <td>41342.319048</td>\n",
       "    </tr>\n",
       "    <tr>\n",
       "      <th>2</th>\n",
       "      <td>Reduced One Hot</td>\n",
       "      <td>156</td>\n",
       "      <td>0.921702</td>\n",
       "      <td>0.792413</td>\n",
       "      <td>5.016665e+08</td>\n",
       "      <td>1.223223e+09</td>\n",
       "      <td>22397.913534</td>\n",
       "      <td>34974.600339</td>\n",
       "    </tr>\n",
       "    <tr>\n",
       "      <th>3</th>\n",
       "      <td>Reduced Numeric</td>\n",
       "      <td>56</td>\n",
       "      <td>0.871101</td>\n",
       "      <td>0.761640</td>\n",
       "      <td>8.258792e+08</td>\n",
       "      <td>1.404559e+09</td>\n",
       "      <td>28738.113317</td>\n",
       "      <td>37477.451495</td>\n",
       "    </tr>\n",
       "    <tr>\n",
       "      <th>4</th>\n",
       "      <td>Reduced One Hot Ridge</td>\n",
       "      <td>156</td>\n",
       "      <td>0.921258</td>\n",
       "      <td>0.792751</td>\n",
       "      <td>5.045140e+08</td>\n",
       "      <td>1.221234e+09</td>\n",
       "      <td>22461.388822</td>\n",
       "      <td>34946.165595</td>\n",
       "    </tr>\n",
       "    <tr>\n",
       "      <th>5</th>\n",
       "      <td>Reduced One Hot Lasso</td>\n",
       "      <td>156</td>\n",
       "      <td>0.907249</td>\n",
       "      <td>0.807866</td>\n",
       "      <td>5.942752e+08</td>\n",
       "      <td>1.132169e+09</td>\n",
       "      <td>24377.760318</td>\n",
       "      <td>33647.723265</td>\n",
       "    </tr>\n",
       "    <tr>\n",
       "      <th>6</th>\n",
       "      <td>Reduced Numeric Ridge</td>\n",
       "      <td>56</td>\n",
       "      <td>0.871067</td>\n",
       "      <td>0.766142</td>\n",
       "      <td>8.260959e+08</td>\n",
       "      <td>1.378028e+09</td>\n",
       "      <td>28741.884741</td>\n",
       "      <td>37121.798589</td>\n",
       "    </tr>\n",
       "    <tr>\n",
       "      <th>7</th>\n",
       "      <td>Reduced Numeric Lasso</td>\n",
       "      <td>56</td>\n",
       "      <td>0.838132</td>\n",
       "      <td>0.830857</td>\n",
       "      <td>1.037116e+09</td>\n",
       "      <td>9.966894e+08</td>\n",
       "      <td>32204.292429</td>\n",
       "      <td>31570.387860</td>\n",
       "    </tr>\n",
       "  </tbody>\n",
       "</table>\n",
       "</div>"
      ],
      "text/plain": [
       "                   Model  # Features  R2 Training Data  R2 Test Data  \\\n",
       "0               Underfit          38          0.827420      0.857440   \n",
       "1                Overfit         262          0.948045      0.775684   \n",
       "2        Reduced One Hot         156          0.921702      0.792413   \n",
       "3        Reduced Numeric          56          0.871101      0.761640   \n",
       "4  Reduced One Hot Ridge         156          0.921258      0.792751   \n",
       "5  Reduced One Hot Lasso         156          0.907249      0.807866   \n",
       "6  Reduced Numeric Ridge          56          0.871067      0.766142   \n",
       "7  Reduced Numeric Lasso          56          0.838132      0.830857   \n",
       "\n",
       "   Mean Squared Error Train  Mean Squared Error Test  \\\n",
       "0              1.047828e+09             8.940176e+08   \n",
       "1              3.029022e+08             1.709187e+09   \n",
       "2              5.016665e+08             1.223223e+09   \n",
       "3              8.258792e+08             1.404559e+09   \n",
       "4              5.045140e+08             1.221234e+09   \n",
       "5              5.942752e+08             1.132169e+09   \n",
       "6              8.260959e+08             1.378028e+09   \n",
       "7              1.037116e+09             9.966894e+08   \n",
       "\n",
       "   Root Mean Squared Error Train  Root Mean Squared Error Test  \n",
       "0                   32370.172502                  29900.127463  \n",
       "1                   17404.085662                  41342.319048  \n",
       "2                   22397.913534                  34974.600339  \n",
       "3                   28738.113317                  37477.451495  \n",
       "4                   22461.388822                  34946.165595  \n",
       "5                   24377.760318                  33647.723265  \n",
       "6                   28741.884741                  37121.798589  \n",
       "7                   32204.292429                  31570.387860  "
      ]
     },
     "execution_count": 635,
     "metadata": {},
     "output_type": "execute_result"
    }
   ],
   "source": [
    "table"
   ]
  },
  {
   "cell_type": "code",
   "execution_count": 376,
   "id": "f3bf13be-a8a2-47ff-8cf2-dff23c9556fc",
   "metadata": {},
   "outputs": [],
   "source": []
  },
  {
   "cell_type": "code",
   "execution_count": 378,
   "id": "7754292a-5407-4536-8771-0b45d77b3496",
   "metadata": {},
   "outputs": [
    {
     "name": "stdout",
     "output_type": "stream",
     "text": [
      "<class 'pandas.core.frame.DataFrame'>\n",
      "RangeIndex: 878 entries, 0 to 877\n",
      "Data columns (total 45 columns):\n",
      " #   Column             Non-Null Count  Dtype  \n",
      "---  ------             --------------  -----  \n",
      " 0   MS SubClass        878 non-null    int64  \n",
      " 1   Lot Frontage       878 non-null    float64\n",
      " 2   Lot Area           878 non-null    int64  \n",
      " 3   Overall Qual       878 non-null    int64  \n",
      " 4   Overall Cond       878 non-null    int64  \n",
      " 5   Year Built         878 non-null    int64  \n",
      " 6   Year Remod/Add     878 non-null    int64  \n",
      " 7   Exter Cond         878 non-null    int64  \n",
      " 8   Bsmt Qual          878 non-null    int64  \n",
      " 9   Bsmt Cond          878 non-null    int64  \n",
      " 10  BsmtFin SF 1       878 non-null    int64  \n",
      " 11  BsmtFin SF 2       878 non-null    int64  \n",
      " 12  Bsmt Unf SF        878 non-null    int64  \n",
      " 13  Total Bsmt SF      878 non-null    int64  \n",
      " 14  Central Air        878 non-null    int64  \n",
      " 15  1st Flr SF         878 non-null    int64  \n",
      " 16  2nd Flr SF         878 non-null    int64  \n",
      " 17  Low Qual Fin SF    878 non-null    int64  \n",
      " 18  Gr Liv Area        878 non-null    int64  \n",
      " 19  Bsmt Full Bath     878 non-null    int64  \n",
      " 20  Full Bath          878 non-null    int64  \n",
      " 21  Half Bath          878 non-null    int64  \n",
      " 22  Bedroom AbvGr      878 non-null    int64  \n",
      " 23  Kitchen AbvGr      878 non-null    int64  \n",
      " 24  TotRms AbvGrd      878 non-null    int64  \n",
      " 25  Functional         878 non-null    int64  \n",
      " 26  Fireplaces         878 non-null    int64  \n",
      " 27  Garage Yr Blt      878 non-null    float64\n",
      " 28  Garage Cars        878 non-null    float64\n",
      " 29  Garage Area        878 non-null    float64\n",
      " 30  Garage Qual        878 non-null    int64  \n",
      " 31  Garage Cond        878 non-null    int64  \n",
      " 32  Wood Deck SF       878 non-null    int64  \n",
      " 33  Open Porch SF      878 non-null    int64  \n",
      " 34  Enclosed Porch     878 non-null    int64  \n",
      " 35  3Ssn Porch         878 non-null    int64  \n",
      " 36  Screen Porch       878 non-null    int64  \n",
      " 37  Pool Area          878 non-null    int64  \n",
      " 38  Pool QC            878 non-null    int64  \n",
      " 39  Misc Val           878 non-null    int64  \n",
      " 40  Mo Sold            878 non-null    int64  \n",
      " 41  Yr Sold            878 non-null    int64  \n",
      " 42  NeighborhoodScore  878 non-null    int64  \n",
      " 43  isResidential      878 non-null    int64  \n",
      " 44  Ex2Score           878 non-null    int64  \n",
      "dtypes: float64(4), int64(41)\n",
      "memory usage: 308.8 KB\n"
     ]
    }
   ],
   "source": []
  },
  {
   "cell_type": "code",
   "execution_count": 493,
   "id": "7d27f077-4e0a-48a4-a27c-18f21ad78b2f",
   "metadata": {},
   "outputs": [
    {
     "name": "stdout",
     "output_type": "stream",
     "text": [
      "<class 'pandas.core.frame.DataFrame'>\n",
      "RangeIndex: 2051 entries, 0 to 2050\n",
      "Data columns (total 49 columns):\n",
      " #   Column             Non-Null Count  Dtype  \n",
      "---  ------             --------------  -----  \n",
      " 0   Lot Frontage       2051 non-null   float64\n",
      " 1   Lot Area           2051 non-null   int64  \n",
      " 2   Overall Qual       2051 non-null   int64  \n",
      " 3   Overall Cond       2051 non-null   int64  \n",
      " 4   Year Built         2051 non-null   int64  \n",
      " 5   Year Remod/Add     2051 non-null   int64  \n",
      " 6   Mas Vnr Area       2051 non-null   float64\n",
      " 7   Bsmt Qual          2051 non-null   int64  \n",
      " 8   Bsmt Cond          2051 non-null   int64  \n",
      " 9   BsmtFin SF 1       2051 non-null   float64\n",
      " 10  BsmtFin SF 2       2051 non-null   float64\n",
      " 11  Bsmt Unf SF        2051 non-null   float64\n",
      " 12  Total Bsmt SF      2051 non-null   float64\n",
      " 13  Central Air        2051 non-null   int64  \n",
      " 14  1st Flr SF         2051 non-null   int64  \n",
      " 15  2nd Flr SF         2051 non-null   int64  \n",
      " 16  Low Qual Fin SF    2051 non-null   int64  \n",
      " 17  Gr Liv Area        2051 non-null   int64  \n",
      " 18  Bsmt Full Bath     2051 non-null   float64\n",
      " 19  Full Bath          2051 non-null   int64  \n",
      " 20  Half Bath          2051 non-null   int64  \n",
      " 21  Bedroom AbvGr      2051 non-null   int64  \n",
      " 22  Kitchen AbvGr      2051 non-null   int64  \n",
      " 23  Kitchen Qual       2051 non-null   int64  \n",
      " 24  TotRms AbvGrd      2051 non-null   int64  \n",
      " 25  Functional         2051 non-null   int64  \n",
      " 26  Fireplaces         2051 non-null   int64  \n",
      " 27  Garage Yr Blt      2051 non-null   float64\n",
      " 28  Garage Finish      2051 non-null   int64  \n",
      " 29  Garage Cars        2051 non-null   float64\n",
      " 30  Garage Area        2051 non-null   float64\n",
      " 31  Garage Qual        2051 non-null   int64  \n",
      " 32  Garage Cond        2051 non-null   int64  \n",
      " 33  Wood Deck SF       2051 non-null   int64  \n",
      " 34  Open Porch SF      2051 non-null   int64  \n",
      " 35  Enclosed Porch     2051 non-null   int64  \n",
      " 36  3Ssn Porch         2051 non-null   int64  \n",
      " 37  Screen Porch       2051 non-null   int64  \n",
      " 38  Pool Area          2051 non-null   int64  \n",
      " 39  Pool QC            2051 non-null   int64  \n",
      " 40  Misc Val           2051 non-null   int64  \n",
      " 41  Mo Sold            2051 non-null   int64  \n",
      " 42  Yr Sold            2051 non-null   int64  \n",
      " 43  SalePrice          2051 non-null   int64  \n",
      " 44  NeighborhoodScore  2051 non-null   int64  \n",
      " 45  isResidential      2051 non-null   int64  \n",
      " 46  Ex1Score           2051 non-null   int64  \n",
      " 47  Ex2Score           2051 non-null   int64  \n",
      " 48  Exter Qual * Cond  2051 non-null   int64  \n",
      "dtypes: float64(10), int64(39)\n",
      "memory usage: 785.3 KB\n"
     ]
    }
   ],
   "source": []
  },
  {
   "cell_type": "code",
   "execution_count": 380,
   "id": "f37e03a8-b12b-444f-8f1a-68cedfc5ec30",
   "metadata": {},
   "outputs": [
    {
     "name": "stdout",
     "output_type": "stream",
     "text": [
      "<class 'pandas.core.frame.DataFrame'>\n",
      "RangeIndex: 2051 entries, 0 to 2050\n",
      "Data columns (total 44 columns):\n",
      " #   Column             Non-Null Count  Dtype  \n",
      "---  ------             --------------  -----  \n",
      " 0   MS SubClass        2051 non-null   int64  \n",
      " 1   Lot Frontage       2051 non-null   float64\n",
      " 2   Lot Area           2051 non-null   int64  \n",
      " 3   Overall Qual       2051 non-null   int64  \n",
      " 4   Overall Cond       2051 non-null   int64  \n",
      " 5   Year Built         2051 non-null   int64  \n",
      " 6   Year Remod/Add     2051 non-null   int64  \n",
      " 7   Bsmt Qual          2051 non-null   int64  \n",
      " 8   Bsmt Cond          2051 non-null   int64  \n",
      " 9   Central Air        2051 non-null   int64  \n",
      " 10  1st Flr SF         2051 non-null   int64  \n",
      " 11  2nd Flr SF         2051 non-null   int64  \n",
      " 12  Low Qual Fin SF    2051 non-null   int64  \n",
      " 13  Gr Liv Area        2051 non-null   int64  \n",
      " 14  Full Bath          2051 non-null   int64  \n",
      " 15  Half Bath          2051 non-null   int64  \n",
      " 16  Bedroom AbvGr      2051 non-null   int64  \n",
      " 17  Kitchen AbvGr      2051 non-null   int64  \n",
      " 18  Kitchen Qual       2051 non-null   int64  \n",
      " 19  TotRms AbvGrd      2051 non-null   int64  \n",
      " 20  Functional         2051 non-null   int64  \n",
      " 21  Fireplaces         2051 non-null   int64  \n",
      " 22  Garage Yr Blt      2051 non-null   float64\n",
      " 23  Garage Finish      2051 non-null   int64  \n",
      " 24  Garage Cars        2051 non-null   float64\n",
      " 25  Garage Area        2051 non-null   float64\n",
      " 26  Garage Qual        2051 non-null   int64  \n",
      " 27  Garage Cond        2051 non-null   int64  \n",
      " 28  Wood Deck SF       2051 non-null   int64  \n",
      " 29  Open Porch SF      2051 non-null   int64  \n",
      " 30  Enclosed Porch     2051 non-null   int64  \n",
      " 31  3Ssn Porch         2051 non-null   int64  \n",
      " 32  Screen Porch       2051 non-null   int64  \n",
      " 33  Pool Area          2051 non-null   int64  \n",
      " 34  Pool QC            2051 non-null   int64  \n",
      " 35  Misc Val           2051 non-null   int64  \n",
      " 36  Mo Sold            2051 non-null   int64  \n",
      " 37  Yr Sold            2051 non-null   int64  \n",
      " 38  SalePrice          2051 non-null   int64  \n",
      " 39  NeighborhoodScore  2051 non-null   int64  \n",
      " 40  isResidential      2051 non-null   int64  \n",
      " 41  Ex1Score           2051 non-null   int64  \n",
      " 42  Ex2Score           2051 non-null   int64  \n",
      " 43  Exter Qual * Cond  2051 non-null   int64  \n",
      "dtypes: float64(4), int64(40)\n",
      "memory usage: 705.2 KB\n"
     ]
    }
   ],
   "source": []
  },
  {
   "cell_type": "code",
   "execution_count": null,
   "id": "03b3838c-4fe2-49e9-bb38-8ed948ebfd66",
   "metadata": {},
   "outputs": [],
   "source": []
  },
  {
   "cell_type": "code",
   "execution_count": null,
   "id": "2a0ebd2c-757e-4416-be4a-890131c27d59",
   "metadata": {},
   "outputs": [],
   "source": []
  }
 ],
 "metadata": {
  "kernelspec": {
   "display_name": "Python 3",
   "language": "python",
   "name": "python3"
  },
  "language_info": {
   "codemirror_mode": {
    "name": "ipython",
    "version": 3
   },
   "file_extension": ".py",
   "mimetype": "text/x-python",
   "name": "python",
   "nbconvert_exporter": "python",
   "pygments_lexer": "ipython3",
   "version": "3.8.8"
  }
 },
 "nbformat": 4,
 "nbformat_minor": 5
}
