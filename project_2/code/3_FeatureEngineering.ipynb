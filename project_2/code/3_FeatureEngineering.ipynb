{
 "cells": [
  {
   "cell_type": "markdown",
   "id": "8633752b-e982-4bcf-83a1-f7855b34c6c5",
   "metadata": {},
   "source": [
    "# Feature Engineering\n"
   ]
  },
  {
   "cell_type": "markdown",
   "id": "4f48d6d6-b1d2-4160-97db-d4406c4c3333",
   "metadata": {},
   "source": [
    "## 1. Neighborhood Desiriability\n",
    "\n",
    "There are 25 values in the Neighborhood column, which is more than I want to encode as onehot. They also seem to have a strong association with the target variable, which means I don't want to drop them. I decided to create a new ordinal feature, NeighborhoodDesirability, based on the quartile of the overall sale price that the mean house price of the neighborhood falls into: 0 = <25%ile, 1 = 25-50%ile, 2 = 50-75%ile 3 = >75%ile"
   ]
  },
  {
   "cell_type": "code",
   "execution_count": 1,
   "id": "872214ba-ecf9-42ac-874d-5224c837712a",
   "metadata": {},
   "outputs": [],
   "source": [
    "import pandas as pd\n",
    "import numpy as np"
   ]
  },
  {
   "cell_type": "code",
   "execution_count": null,
   "id": "a48a26c7-41ba-45e9-9581-cd2923d88018",
   "metadata": {},
   "outputs": [],
   "source": [
    "\n"
   ]
  },
  {
   "cell_type": "code",
   "execution_count": null,
   "id": "69c45c8c-642b-4d6d-8698-e33f709175f6",
   "metadata": {},
   "outputs": [],
   "source": []
  },
  {
   "cell_type": "code",
   "execution_count": 2,
   "id": "7f43c21d-033b-4695-9b2f-0411951c1472",
   "metadata": {},
   "outputs": [],
   "source": [
    "ames = pd.read_pickle('../datasets/pickles/pickled_train.csv.pkl')\n",
    "amesTest = pd.read_pickle('../datasets/pickles/pickled_test.csv.pkl')\n",
    "dfs = [ames, amesTest]\n",
    "neighs = ames[['Neighborhood', 'SalePrice']].groupby('Neighborhood').mean('SalePrice').reset_index().copy()\n",
    "neighs['Neighborhood' ] = neighs['Neighborhood'].apply(lambda x : str(x))\n",
    "p25 = np.percentile(ames['SalePrice'], 25)\n",
    "p75 = np.percentile(ames['SalePrice'], 75)\n",
    "mean = ames['SalePrice'].mean()"
   ]
  },
  {
   "cell_type": "markdown",
   "id": "9ebee529-723b-472c-b876-106126c279ff",
   "metadata": {},
   "source": [
    "I'm sure there's a more elegant way to do this, but I'll need to declare these variables explicitly in the \"BK Changes\" book and this is simple"
   ]
  },
  {
   "cell_type": "code",
   "execution_count": 3,
   "id": "919f51cb-006f-43fc-a6cb-2915a8e67d0b",
   "metadata": {},
   "outputs": [
    {
     "data": {
      "text/plain": [
       "2      BrDale\n",
       "3     BrkSide\n",
       "11     IDOTRR\n",
       "13    MeadowV\n",
       "20    OldTown\n",
       "Name: Neighborhood, dtype: object"
      ]
     },
     "metadata": {},
     "output_type": "display_data"
    },
    {
     "data": {
      "text/plain": [
       "1     Blueste\n",
       "2      BrDale\n",
       "3     BrkSide\n",
       "7     Edwards\n",
       "11     IDOTRR\n",
       "12    Landmrk\n",
       "13    MeadowV\n",
       "14    Mitchel\n",
       "15      NAmes\n",
       "16    NPkVill\n",
       "20    OldTown\n",
       "21      SWISU\n",
       "22     Sawyer\n",
       "Name: Neighborhood, dtype: object"
      ]
     },
     "metadata": {},
     "output_type": "display_data"
    },
    {
     "data": {
      "text/plain": [
       "0     Blmngtn\n",
       "1     Blueste\n",
       "2      BrDale\n",
       "3     BrkSide\n",
       "5     CollgCr\n",
       "6     Crawfor\n",
       "7     Edwards\n",
       "8     Gilbert\n",
       "9      Greens\n",
       "11     IDOTRR\n",
       "12    Landmrk\n",
       "13    MeadowV\n",
       "14    Mitchel\n",
       "15      NAmes\n",
       "16    NPkVill\n",
       "17     NWAmes\n",
       "20    OldTown\n",
       "21      SWISU\n",
       "22     Sawyer\n",
       "23    SawyerW\n",
       "Name: Neighborhood, dtype: object"
      ]
     },
     "metadata": {},
     "output_type": "display_data"
    },
    {
     "data": {
      "text/plain": [
       "4     ClearCr\n",
       "10    GrnHill\n",
       "18    NoRidge\n",
       "19    NridgHt\n",
       "24    Somerst\n",
       "25    StoneBr\n",
       "26     Timber\n",
       "27    Veenker\n",
       "Name: Neighborhood, dtype: object"
      ]
     },
     "metadata": {},
     "output_type": "display_data"
    }
   ],
   "source": [
    "# https://www.delftstack.com/howto/python-pandas/pandas-column-to-list/ showed me the tolist() menthod\n",
    "display(neighs.loc[neighs['SalePrice'] < p25]['Neighborhood'])\n",
    "display(neighs.loc[neighs['SalePrice'] < mean]['Neighborhood'])\n",
    "display(neighs.loc[neighs['SalePrice'] < p75]['Neighborhood'])\n",
    "display(neighs.loc[neighs['SalePrice'] > p75]['Neighborhood'])"
   ]
  },
  {
   "cell_type": "code",
   "execution_count": null,
   "id": "cbaf1903-bc08-4da0-ac09-5177aa1bd956",
   "metadata": {},
   "outputs": [],
   "source": []
  },
  {
   "cell_type": "code",
   "execution_count": null,
   "id": "95d73949-457c-49e0-bbd4-d3f15e0ad5cd",
   "metadata": {},
   "outputs": [],
   "source": []
  },
  {
   "cell_type": "code",
   "execution_count": 4,
   "id": "0d27499d-f08c-40cf-a76e-ad67fb1f4db8",
   "metadata": {},
   "outputs": [
    {
     "data": {
      "text/plain": [
       "1     Blueste\n",
       "7     Edwards\n",
       "12    Landmrk\n",
       "14    Mitchel\n",
       "15      NAmes\n",
       "16    NPkVill\n",
       "21      SWISU\n",
       "22     Sawyer\n",
       "Name: Neighborhood, dtype: object"
      ]
     },
     "metadata": {},
     "output_type": "display_data"
    }
   ],
   "source": [
    "display(neighs.loc[(neighs['SalePrice'] < mean) & (neighs['SalePrice'] >= p25)]['Neighborhood'])"
   ]
  },
  {
   "cell_type": "code",
   "execution_count": 5,
   "id": "8031bee5-4a7e-4fb8-8313-f7d1c06e5342",
   "metadata": {},
   "outputs": [],
   "source": [
    "neighs_1 = [ 'Blueste','Edwards','Landmrk', 'Mitchel', 'NAmes', 'NPkVill', 'SWISU', 'Sawyer']"
   ]
  },
  {
   "cell_type": "code",
   "execution_count": 6,
   "id": "242a8729-cf95-4525-a480-89406deca9c9",
   "metadata": {},
   "outputs": [
    {
     "data": {
      "text/plain": [
       "0     Blmngtn\n",
       "5     CollgCr\n",
       "6     Crawfor\n",
       "8     Gilbert\n",
       "9      Greens\n",
       "17     NWAmes\n",
       "23    SawyerW\n",
       "Name: Neighborhood, dtype: object"
      ]
     },
     "metadata": {},
     "output_type": "display_data"
    }
   ],
   "source": [
    "display(neighs.loc[(neighs['SalePrice'] >= mean) & (neighs['SalePrice'] <p75)]['Neighborhood'])"
   ]
  },
  {
   "cell_type": "code",
   "execution_count": 7,
   "id": "fca697b4-8f97-4b9e-b3de-8e49a7177da7",
   "metadata": {},
   "outputs": [],
   "source": [
    "neighs_2 = ['Blmngtn', 'CollgCr', 'Crawfor', 'Gilbert','Greens', 'NWAmes', 'SawyerW']"
   ]
  },
  {
   "cell_type": "code",
   "execution_count": 8,
   "id": "ea3ce246-04c5-47b7-b9d5-2675260fbafe",
   "metadata": {},
   "outputs": [
    {
     "data": {
      "text/plain": [
       "4     ClearCr\n",
       "10    GrnHill\n",
       "18    NoRidge\n",
       "19    NridgHt\n",
       "24    Somerst\n",
       "25    StoneBr\n",
       "26     Timber\n",
       "27    Veenker\n",
       "Name: Neighborhood, dtype: object"
      ]
     },
     "metadata": {},
     "output_type": "display_data"
    }
   ],
   "source": [
    "display(neighs.loc[(neighs['SalePrice'] >= p75)]['Neighborhood'])"
   ]
  },
  {
   "cell_type": "code",
   "execution_count": 9,
   "id": "04ed7f22-9cf0-41eb-915e-eda42cee3b2a",
   "metadata": {},
   "outputs": [
    {
     "data": {
      "text/html": [
       "<div>\n",
       "<style scoped>\n",
       "    .dataframe tbody tr th:only-of-type {\n",
       "        vertical-align: middle;\n",
       "    }\n",
       "\n",
       "    .dataframe tbody tr th {\n",
       "        vertical-align: top;\n",
       "    }\n",
       "\n",
       "    .dataframe thead th {\n",
       "        text-align: right;\n",
       "    }\n",
       "</style>\n",
       "<table border=\"1\" class=\"dataframe\">\n",
       "  <thead>\n",
       "    <tr style=\"text-align: right;\">\n",
       "      <th></th>\n",
       "      <th>Neighborhood</th>\n",
       "      <th>NeighborhoodScore</th>\n",
       "    </tr>\n",
       "  </thead>\n",
       "  <tbody>\n",
       "    <tr>\n",
       "      <th>0</th>\n",
       "      <td>Sawyer</td>\n",
       "      <td>1.0</td>\n",
       "    </tr>\n",
       "    <tr>\n",
       "      <th>1</th>\n",
       "      <td>SawyerW</td>\n",
       "      <td>2.0</td>\n",
       "    </tr>\n",
       "    <tr>\n",
       "      <th>2</th>\n",
       "      <td>NAmes</td>\n",
       "      <td>1.0</td>\n",
       "    </tr>\n",
       "    <tr>\n",
       "      <th>3</th>\n",
       "      <td>Timber</td>\n",
       "      <td>3.0</td>\n",
       "    </tr>\n",
       "    <tr>\n",
       "      <th>4</th>\n",
       "      <td>SawyerW</td>\n",
       "      <td>2.0</td>\n",
       "    </tr>\n",
       "    <tr>\n",
       "      <th>5</th>\n",
       "      <td>NAmes</td>\n",
       "      <td>1.0</td>\n",
       "    </tr>\n",
       "    <tr>\n",
       "      <th>6</th>\n",
       "      <td>Edwards</td>\n",
       "      <td>1.0</td>\n",
       "    </tr>\n",
       "    <tr>\n",
       "      <th>7</th>\n",
       "      <td>NAmes</td>\n",
       "      <td>1.0</td>\n",
       "    </tr>\n",
       "    <tr>\n",
       "      <th>8</th>\n",
       "      <td>OldTown</td>\n",
       "      <td>NaN</td>\n",
       "    </tr>\n",
       "    <tr>\n",
       "      <th>9</th>\n",
       "      <td>NAmes</td>\n",
       "      <td>1.0</td>\n",
       "    </tr>\n",
       "    <tr>\n",
       "      <th>10</th>\n",
       "      <td>BrDale</td>\n",
       "      <td>NaN</td>\n",
       "    </tr>\n",
       "    <tr>\n",
       "      <th>11</th>\n",
       "      <td>CollgCr</td>\n",
       "      <td>2.0</td>\n",
       "    </tr>\n",
       "    <tr>\n",
       "      <th>12</th>\n",
       "      <td>SawyerW</td>\n",
       "      <td>2.0</td>\n",
       "    </tr>\n",
       "    <tr>\n",
       "      <th>13</th>\n",
       "      <td>Somerst</td>\n",
       "      <td>3.0</td>\n",
       "    </tr>\n",
       "    <tr>\n",
       "      <th>14</th>\n",
       "      <td>CollgCr</td>\n",
       "      <td>2.0</td>\n",
       "    </tr>\n",
       "    <tr>\n",
       "      <th>15</th>\n",
       "      <td>Mitchel</td>\n",
       "      <td>1.0</td>\n",
       "    </tr>\n",
       "    <tr>\n",
       "      <th>16</th>\n",
       "      <td>OldTown</td>\n",
       "      <td>NaN</td>\n",
       "    </tr>\n",
       "    <tr>\n",
       "      <th>17</th>\n",
       "      <td>Sawyer</td>\n",
       "      <td>1.0</td>\n",
       "    </tr>\n",
       "    <tr>\n",
       "      <th>18</th>\n",
       "      <td>Sawyer</td>\n",
       "      <td>1.0</td>\n",
       "    </tr>\n",
       "    <tr>\n",
       "      <th>19</th>\n",
       "      <td>Somerst</td>\n",
       "      <td>3.0</td>\n",
       "    </tr>\n",
       "  </tbody>\n",
       "</table>\n",
       "</div>"
      ],
      "text/plain": [
       "   Neighborhood  NeighborhoodScore\n",
       "0        Sawyer                1.0\n",
       "1       SawyerW                2.0\n",
       "2         NAmes                1.0\n",
       "3        Timber                3.0\n",
       "4       SawyerW                2.0\n",
       "5         NAmes                1.0\n",
       "6       Edwards                1.0\n",
       "7         NAmes                1.0\n",
       "8       OldTown                NaN\n",
       "9         NAmes                1.0\n",
       "10       BrDale                NaN\n",
       "11      CollgCr                2.0\n",
       "12      SawyerW                2.0\n",
       "13      Somerst                3.0\n",
       "14      CollgCr                2.0\n",
       "15      Mitchel                1.0\n",
       "16      OldTown                NaN\n",
       "17       Sawyer                1.0\n",
       "18       Sawyer                1.0\n",
       "19      Somerst                3.0"
      ]
     },
     "execution_count": 9,
     "metadata": {},
     "output_type": "execute_result"
    }
   ],
   "source": [
    "neighs_3 = ['ClearCr', 'GrnHill', 'NoRidge', 'NridgHt','Somerst','StoneBr','Timber','Veenker']\n",
    "ames.loc[ames['Neighborhood'].isin(neighs_1), 'NeighborhoodScore'] = 1\n",
    "ames.loc[ames['Neighborhood'].isin(neighs_2), 'NeighborhoodScore'] = 2\n",
    "ames.loc[ames['Neighborhood'].isin(neighs_3), 'NeighborhoodScore'] = 3\n",
    "ames[['Neighborhood', 'NeighborhoodScore']].head(20)"
   ]
  },
  {
   "cell_type": "code",
   "execution_count": 10,
   "id": "091fcba7-ff2c-4330-a322-9cd8d32b668e",
   "metadata": {},
   "outputs": [],
   "source": [
    "neighs_3 = ['ClearCr','GrnHill', 'NoRidge', 'NridgHt', 'Somerst', 'StoneBr', 'Timber', 'Veenker']"
   ]
  },
  {
   "cell_type": "code",
   "execution_count": 11,
   "id": "d8cc2eb8-61ef-46a1-908e-600e0dc69257",
   "metadata": {},
   "outputs": [],
   "source": [
    "ames['NeighborhoodScore']=0"
   ]
  },
  {
   "cell_type": "code",
   "execution_count": 12,
   "id": "685f24cc-8d92-4fff-9ae9-b73b97ff4781",
   "metadata": {},
   "outputs": [
    {
     "data": {
      "text/html": [
       "<div>\n",
       "<style scoped>\n",
       "    .dataframe tbody tr th:only-of-type {\n",
       "        vertical-align: middle;\n",
       "    }\n",
       "\n",
       "    .dataframe tbody tr th {\n",
       "        vertical-align: top;\n",
       "    }\n",
       "\n",
       "    .dataframe thead th {\n",
       "        text-align: right;\n",
       "    }\n",
       "</style>\n",
       "<table border=\"1\" class=\"dataframe\">\n",
       "  <thead>\n",
       "    <tr style=\"text-align: right;\">\n",
       "      <th></th>\n",
       "      <th>Neighborhood</th>\n",
       "      <th>NeighborhoodScore</th>\n",
       "    </tr>\n",
       "  </thead>\n",
       "  <tbody>\n",
       "    <tr>\n",
       "      <th>0</th>\n",
       "      <td>OldTown</td>\n",
       "      <td>0</td>\n",
       "    </tr>\n",
       "    <tr>\n",
       "      <th>1</th>\n",
       "      <td>Sawyer</td>\n",
       "      <td>1</td>\n",
       "    </tr>\n",
       "    <tr>\n",
       "      <th>2</th>\n",
       "      <td>Gilbert</td>\n",
       "      <td>2</td>\n",
       "    </tr>\n",
       "    <tr>\n",
       "      <th>3</th>\n",
       "      <td>OldTown</td>\n",
       "      <td>0</td>\n",
       "    </tr>\n",
       "    <tr>\n",
       "      <th>4</th>\n",
       "      <td>NAmes</td>\n",
       "      <td>1</td>\n",
       "    </tr>\n",
       "    <tr>\n",
       "      <th>5</th>\n",
       "      <td>MeadowV</td>\n",
       "      <td>0</td>\n",
       "    </tr>\n",
       "    <tr>\n",
       "      <th>6</th>\n",
       "      <td>OldTown</td>\n",
       "      <td>0</td>\n",
       "    </tr>\n",
       "    <tr>\n",
       "      <th>7</th>\n",
       "      <td>CollgCr</td>\n",
       "      <td>2</td>\n",
       "    </tr>\n",
       "    <tr>\n",
       "      <th>8</th>\n",
       "      <td>Somerst</td>\n",
       "      <td>3</td>\n",
       "    </tr>\n",
       "    <tr>\n",
       "      <th>9</th>\n",
       "      <td>Mitchel</td>\n",
       "      <td>1</td>\n",
       "    </tr>\n",
       "    <tr>\n",
       "      <th>10</th>\n",
       "      <td>SawyerW</td>\n",
       "      <td>2</td>\n",
       "    </tr>\n",
       "    <tr>\n",
       "      <th>11</th>\n",
       "      <td>IDOTRR</td>\n",
       "      <td>0</td>\n",
       "    </tr>\n",
       "    <tr>\n",
       "      <th>12</th>\n",
       "      <td>NAmes</td>\n",
       "      <td>1</td>\n",
       "    </tr>\n",
       "    <tr>\n",
       "      <th>13</th>\n",
       "      <td>SawyerW</td>\n",
       "      <td>2</td>\n",
       "    </tr>\n",
       "    <tr>\n",
       "      <th>14</th>\n",
       "      <td>BrkSide</td>\n",
       "      <td>0</td>\n",
       "    </tr>\n",
       "    <tr>\n",
       "      <th>15</th>\n",
       "      <td>Edwards</td>\n",
       "      <td>1</td>\n",
       "    </tr>\n",
       "    <tr>\n",
       "      <th>16</th>\n",
       "      <td>OldTown</td>\n",
       "      <td>0</td>\n",
       "    </tr>\n",
       "    <tr>\n",
       "      <th>17</th>\n",
       "      <td>Edwards</td>\n",
       "      <td>1</td>\n",
       "    </tr>\n",
       "    <tr>\n",
       "      <th>18</th>\n",
       "      <td>NAmes</td>\n",
       "      <td>1</td>\n",
       "    </tr>\n",
       "    <tr>\n",
       "      <th>19</th>\n",
       "      <td>OldTown</td>\n",
       "      <td>0</td>\n",
       "    </tr>\n",
       "  </tbody>\n",
       "</table>\n",
       "</div>"
      ],
      "text/plain": [
       "   Neighborhood  NeighborhoodScore\n",
       "0       OldTown                  0\n",
       "1        Sawyer                  1\n",
       "2       Gilbert                  2\n",
       "3       OldTown                  0\n",
       "4         NAmes                  1\n",
       "5       MeadowV                  0\n",
       "6       OldTown                  0\n",
       "7       CollgCr                  2\n",
       "8       Somerst                  3\n",
       "9       Mitchel                  1\n",
       "10      SawyerW                  2\n",
       "11       IDOTRR                  0\n",
       "12        NAmes                  1\n",
       "13      SawyerW                  2\n",
       "14      BrkSide                  0\n",
       "15      Edwards                  1\n",
       "16      OldTown                  0\n",
       "17      Edwards                  1\n",
       "18        NAmes                  1\n",
       "19      OldTown                  0"
      ]
     },
     "execution_count": 12,
     "metadata": {},
     "output_type": "execute_result"
    }
   ],
   "source": [
    "amesTest['NeighborhoodScore'] = 0\n",
    "amesTest.loc[amesTest['Neighborhood'].isin(neighs_1), 'NeighborhoodScore'] = 1\n",
    "amesTest.loc[amesTest['Neighborhood'].isin(neighs_2), 'NeighborhoodScore'] = 2\n",
    "amesTest.loc[amesTest['Neighborhood'].isin(neighs_3), 'NeighborhoodScore'] = 3\n",
    "amesTest[['Neighborhood', 'NeighborhoodScore']].head(20)"
   ]
  },
  {
   "cell_type": "code",
   "execution_count": 13,
   "id": "f3a09274-732a-496e-8a2d-2309f572a25e",
   "metadata": {},
   "outputs": [
    {
     "data": {
      "text/html": [
       "<div>\n",
       "<style scoped>\n",
       "    .dataframe tbody tr th:only-of-type {\n",
       "        vertical-align: middle;\n",
       "    }\n",
       "\n",
       "    .dataframe tbody tr th {\n",
       "        vertical-align: top;\n",
       "    }\n",
       "\n",
       "    .dataframe thead th {\n",
       "        text-align: right;\n",
       "    }\n",
       "</style>\n",
       "<table border=\"1\" class=\"dataframe\">\n",
       "  <thead>\n",
       "    <tr style=\"text-align: right;\">\n",
       "      <th></th>\n",
       "      <th>Neighborhood</th>\n",
       "      <th>NeighborhoodScore</th>\n",
       "    </tr>\n",
       "  </thead>\n",
       "  <tbody>\n",
       "    <tr>\n",
       "      <th>0</th>\n",
       "      <td>Sawyer</td>\n",
       "      <td>1</td>\n",
       "    </tr>\n",
       "    <tr>\n",
       "      <th>1</th>\n",
       "      <td>SawyerW</td>\n",
       "      <td>2</td>\n",
       "    </tr>\n",
       "    <tr>\n",
       "      <th>2</th>\n",
       "      <td>NAmes</td>\n",
       "      <td>1</td>\n",
       "    </tr>\n",
       "    <tr>\n",
       "      <th>3</th>\n",
       "      <td>Timber</td>\n",
       "      <td>3</td>\n",
       "    </tr>\n",
       "    <tr>\n",
       "      <th>4</th>\n",
       "      <td>SawyerW</td>\n",
       "      <td>2</td>\n",
       "    </tr>\n",
       "    <tr>\n",
       "      <th>5</th>\n",
       "      <td>NAmes</td>\n",
       "      <td>1</td>\n",
       "    </tr>\n",
       "    <tr>\n",
       "      <th>6</th>\n",
       "      <td>Edwards</td>\n",
       "      <td>1</td>\n",
       "    </tr>\n",
       "    <tr>\n",
       "      <th>7</th>\n",
       "      <td>NAmes</td>\n",
       "      <td>1</td>\n",
       "    </tr>\n",
       "    <tr>\n",
       "      <th>8</th>\n",
       "      <td>OldTown</td>\n",
       "      <td>0</td>\n",
       "    </tr>\n",
       "    <tr>\n",
       "      <th>9</th>\n",
       "      <td>NAmes</td>\n",
       "      <td>1</td>\n",
       "    </tr>\n",
       "    <tr>\n",
       "      <th>10</th>\n",
       "      <td>BrDale</td>\n",
       "      <td>0</td>\n",
       "    </tr>\n",
       "    <tr>\n",
       "      <th>11</th>\n",
       "      <td>CollgCr</td>\n",
       "      <td>2</td>\n",
       "    </tr>\n",
       "    <tr>\n",
       "      <th>12</th>\n",
       "      <td>SawyerW</td>\n",
       "      <td>2</td>\n",
       "    </tr>\n",
       "    <tr>\n",
       "      <th>13</th>\n",
       "      <td>Somerst</td>\n",
       "      <td>3</td>\n",
       "    </tr>\n",
       "    <tr>\n",
       "      <th>14</th>\n",
       "      <td>CollgCr</td>\n",
       "      <td>2</td>\n",
       "    </tr>\n",
       "    <tr>\n",
       "      <th>15</th>\n",
       "      <td>Mitchel</td>\n",
       "      <td>1</td>\n",
       "    </tr>\n",
       "    <tr>\n",
       "      <th>16</th>\n",
       "      <td>OldTown</td>\n",
       "      <td>0</td>\n",
       "    </tr>\n",
       "    <tr>\n",
       "      <th>17</th>\n",
       "      <td>Sawyer</td>\n",
       "      <td>1</td>\n",
       "    </tr>\n",
       "    <tr>\n",
       "      <th>18</th>\n",
       "      <td>Sawyer</td>\n",
       "      <td>1</td>\n",
       "    </tr>\n",
       "    <tr>\n",
       "      <th>19</th>\n",
       "      <td>Somerst</td>\n",
       "      <td>3</td>\n",
       "    </tr>\n",
       "  </tbody>\n",
       "</table>\n",
       "</div>"
      ],
      "text/plain": [
       "   Neighborhood  NeighborhoodScore\n",
       "0        Sawyer                  1\n",
       "1       SawyerW                  2\n",
       "2         NAmes                  1\n",
       "3        Timber                  3\n",
       "4       SawyerW                  2\n",
       "5         NAmes                  1\n",
       "6       Edwards                  1\n",
       "7         NAmes                  1\n",
       "8       OldTown                  0\n",
       "9         NAmes                  1\n",
       "10       BrDale                  0\n",
       "11      CollgCr                  2\n",
       "12      SawyerW                  2\n",
       "13      Somerst                  3\n",
       "14      CollgCr                  2\n",
       "15      Mitchel                  1\n",
       "16      OldTown                  0\n",
       "17       Sawyer                  1\n",
       "18       Sawyer                  1\n",
       "19      Somerst                  3"
      ]
     },
     "execution_count": 13,
     "metadata": {},
     "output_type": "execute_result"
    }
   ],
   "source": [
    "ames['NeighborhoodScore'] = 0\n",
    "ames.loc[ames['Neighborhood'].isin(neighs_1), 'NeighborhoodScore'] = 1\n",
    "ames.loc[ames['Neighborhood'].isin(neighs_2), 'NeighborhoodScore'] = 2\n",
    "ames.loc[ames['Neighborhood'].isin(neighs_3), 'NeighborhoodScore'] = 3\n",
    "ames[['Neighborhood', 'NeighborhoodScore']].head(20)"
   ]
  },
  {
   "cell_type": "markdown",
   "id": "e89b1d57-4c17-4a37-b77e-95e308a766c9",
   "metadata": {},
   "source": [
    "## MS Zoning\n",
    "Based on my EDA, I'm going to convert MS Zoning into a simpler isResidential column"
   ]
  },
  {
   "cell_type": "code",
   "execution_count": 14,
   "id": "e26e50f8-f2b1-4b2c-b471-d96c9f17077f",
   "metadata": {},
   "outputs": [
    {
     "data": {
      "text/plain": [
       "array(['RL', 'RM', 'FV', 'C (all)', 'A (agr)', 'RH', 'I (all)'],\n",
       "      dtype=object)"
      ]
     },
     "execution_count": 14,
     "metadata": {},
     "output_type": "execute_result"
    }
   ],
   "source": [
    "ames['MS Zoning'].unique()"
   ]
  },
  {
   "cell_type": "code",
   "execution_count": 15,
   "id": "651ade0b-4159-48dd-98fa-ed54c17665fc",
   "metadata": {},
   "outputs": [],
   "source": [
    "res = ['RL', 'RM', 'FV', 'RH']"
   ]
  },
  {
   "cell_type": "code",
   "execution_count": 16,
   "id": "b524b701-3133-466c-8104-c3a0a46020dd",
   "metadata": {},
   "outputs": [],
   "source": [
    "ames['isResidential'] = (ames['MS Zoning'].isin(res))*1"
   ]
  },
  {
   "cell_type": "code",
   "execution_count": 17,
   "id": "4aaf1929-835a-4f7f-97df-346780f16549",
   "metadata": {},
   "outputs": [
    {
     "data": {
      "text/plain": [
       "MS Zoning\n",
       "RL           1598\n",
       "RM            316\n",
       "FV            101\n",
       "C (all)        19\n",
       "RH             14\n",
       "A (agr)         2\n",
       "I (all)         1\n",
       "dtype: int64"
      ]
     },
     "execution_count": 17,
     "metadata": {},
     "output_type": "execute_result"
    }
   ],
   "source": [
    "ames[['MS Zoning']].value_counts()"
   ]
  },
  {
   "cell_type": "code",
   "execution_count": 18,
   "id": "b229b6b5-0ac3-42f9-8790-7404f6654fb3",
   "metadata": {},
   "outputs": [
    {
     "data": {
      "text/plain": [
       "isResidential\n",
       "1                2029\n",
       "0                  22\n",
       "dtype: int64"
      ]
     },
     "execution_count": 18,
     "metadata": {},
     "output_type": "execute_result"
    }
   ],
   "source": [
    "ames[['isResidential']].value_counts()"
   ]
  },
  {
   "cell_type": "code",
   "execution_count": 19,
   "id": "0a6151d5-6e1e-456f-803a-aeba97c4e7f9",
   "metadata": {},
   "outputs": [],
   "source": [
    "amesTest['isResidential'] = (amesTest['MS Zoning'].isin(res))*1"
   ]
  },
  {
   "cell_type": "markdown",
   "id": "be94d2d8-1be0-4eb8-87aa-85b79e62ac8a",
   "metadata": {},
   "source": [
    "Sums match"
   ]
  },
  {
   "cell_type": "code",
   "execution_count": 20,
   "id": "631ec6db-7327-4482-90c3-9360c29fe27f",
   "metadata": {},
   "outputs": [],
   "source": [
    "ames.drop('MS Zoning',1, inplace = True)\n"
   ]
  },
  {
   "cell_type": "code",
   "execution_count": 21,
   "id": "e293d793-e7c2-4af7-bd14-284e32757991",
   "metadata": {},
   "outputs": [],
   "source": [
    "amesTest.drop('MS Zoning', 1, inplace = True)"
   ]
  },
  {
   "cell_type": "markdown",
   "id": "8b5ccf47-05b3-41bc-848a-0911e355d920",
   "metadata": {},
   "source": [
    "# Condition 1\n",
    "I'll reduce dimensionality by combining the features called \"positive\" and the ones mentioning railroads into PosA and RR respective;y. The price values were pretty close across these catagories, so I think that's justified. This turns 8 unique values to 4."
   ]
  },
  {
   "cell_type": "code",
   "execution_count": 22,
   "id": "dd408260-c1c8-4e5f-8475-b3b58d7625e2",
   "metadata": {},
   "outputs": [],
   "source": [
    "ames['Condition 1'].replace('PosA', 'PosN', inplace = True)\n",
    "amesTest['Condition 1'].replace('PosA', 'PosN', inplace = True)"
   ]
  },
  {
   "cell_type": "code",
   "execution_count": 23,
   "id": "5cb95c53-bca4-43db-a902-4e78044170a8",
   "metadata": {},
   "outputs": [],
   "source": [
    "ames['Condition 1'].replace('RRNn', 'RR', inplace = True)\n",
    "ames['Condition 1'].replace('RRAn', 'RR', inplace = True)\n",
    "ames['Condition 1'].replace('RRNe', 'RR', inplace = True)\n",
    "ames['Condition 1'].replace('RRAe', 'RR', inplace = True)"
   ]
  },
  {
   "cell_type": "code",
   "execution_count": 24,
   "id": "68d7cf30-5665-4466-9bd0-1dbf16b9b881",
   "metadata": {},
   "outputs": [],
   "source": [
    "amesTest['Condition 1'].replace('RRNn', 'RR', inplace = True)\n",
    "amesTest['Condition 1'].replace('RRAn', 'RR', inplace = True)\n",
    "amesTest['Condition 1'].replace('RRNe', 'RR', inplace = True)\n",
    "amesTest['Condition 1'].replace('RRAe', 'RR', inplace = True)"
   ]
  },
  {
   "cell_type": "markdown",
   "id": "db8b0ee9-6d38-4388-bfba-9f99c688a42c",
   "metadata": {},
   "source": [
    "# Roof Style and Roof Matl\n",
    "\n",
    "As I predicted, not all combinationsof roof styles and roof materials were present in my dataset (see EDA notbook). I'll combine them to reduce my dimensionality a by 21 features (6 roof styles * 6 roof materials) vs 15 combinations."
   ]
  },
  {
   "cell_type": "code",
   "execution_count": null,
   "id": "a53649ba-f9f5-48c3-9628-51ddcc1010ef",
   "metadata": {},
   "outputs": [],
   "source": []
  },
  {
   "cell_type": "code",
   "execution_count": 25,
   "id": "5c87e163-1ec9-4a52-9aa2-2754d4893b58",
   "metadata": {},
   "outputs": [],
   "source": [
    "ames['roof'] = ames['Roof Style'] + ames['Roof Matl']\n"
   ]
  },
  {
   "cell_type": "code",
   "execution_count": 26,
   "id": "6b099e15-2a63-492d-8041-001428ac6428",
   "metadata": {},
   "outputs": [],
   "source": [
    "ames.drop('Roof Style', 1, inplace = True)"
   ]
  },
  {
   "cell_type": "code",
   "execution_count": 27,
   "id": "71f43e86-841e-4041-af14-73c1f587d6f9",
   "metadata": {},
   "outputs": [],
   "source": [
    "ames.drop('Roof Matl', 1, inplace = True)"
   ]
  },
  {
   "cell_type": "code",
   "execution_count": 28,
   "id": "21a89290-ce86-4d91-9cdc-728ea396cfc0",
   "metadata": {},
   "outputs": [],
   "source": [
    "amesTest['roof'] = amesTest['Roof Style'] + amesTest['Roof Matl']"
   ]
  },
  {
   "cell_type": "code",
   "execution_count": 29,
   "id": "9c2c65a5-d43c-401e-b3da-49967a50569e",
   "metadata": {},
   "outputs": [],
   "source": [
    "amesTest.drop('Roof Style', 1, inplace = True)\n",
    "amesTest.drop('Roof Matl', 1, inplace = True)"
   ]
  },
  {
   "cell_type": "markdown",
   "id": "5072410d-cc91-4041-993b-127fa429b985",
   "metadata": {},
   "source": [
    "## One Hot\n",
    "\n",
    "For the purpose of modeling, I sometimes transformed all catagorical data to one hot, these are features I found particularly interesting\n",
    "### SaleType"
   ]
  },
  {
   "cell_type": "code",
   "execution_count": 30,
   "id": "fffa0aa6-8f98-4e2d-81d8-3918cc6dc313",
   "metadata": {},
   "outputs": [],
   "source": [
    "ames = pd.get_dummies(data = ames, columns = ['Sale Type'], drop_first = True, prefix = 'Sale Type_')\n",
    "amesTest = pd.get_dummies(data = amesTest, columns = ['Sale Type'], drop_first = True, prefix = 'Sale Type_')"
   ]
  },
  {
   "cell_type": "markdown",
   "id": "dae19da0-e4de-4b8b-b7fa-08f51ca34449",
   "metadata": {},
   "source": []
  },
  {
   "cell_type": "code",
   "execution_count": 31,
   "id": "66e2cc44-674f-4138-aa76-574fea0c795c",
   "metadata": {},
   "outputs": [],
   "source": [
    "## Central air"
   ]
  },
  {
   "cell_type": "code",
   "execution_count": 32,
   "id": "61d74ecc-a1f8-4d7a-8d50-c319c8f72825",
   "metadata": {},
   "outputs": [],
   "source": [
    "ames['Central Air'].replace('Y', 1, inplace = True)\n",
    "ames['Central Air'].replace('N', 0, inplace = True)\n"
   ]
  },
  {
   "cell_type": "code",
   "execution_count": 33,
   "id": "3d64891c-fd92-41b8-83c8-7376f2d43643",
   "metadata": {},
   "outputs": [],
   "source": [
    "amesTest['Central Air'].replace('Y', 1, inplace = True)\n",
    "amesTest['Central Air'].replace('N', 0, inplace = True)\n"
   ]
  },
  {
   "cell_type": "markdown",
   "id": "cd9d8bf1-7507-42d2-b508-753b9961cc37",
   "metadata": {},
   "source": [
    "## Street\n",
    "Changed to 1 hot \"is paved\""
   ]
  },
  {
   "cell_type": "code",
   "execution_count": 34,
   "id": "9fc1b81b-da88-4460-819c-fdd250991155",
   "metadata": {},
   "outputs": [],
   "source": [
    "ames['Street'].replace('Pave', 1, inplace = True)\n",
    "amesTest['Street'].replace('Grvl', 0, inplace = True)"
   ]
  },
  {
   "cell_type": "code",
   "execution_count": 35,
   "id": "261883a6-d29c-43e3-896d-0f0271118aac",
   "metadata": {},
   "outputs": [],
   "source": [
    "amesTest.rename(columns = {'Street':'isPaved'}, inplace = True)"
   ]
  },
  {
   "cell_type": "code",
   "execution_count": null,
   "id": "b8f93f1b-6726-4fe1-a77e-b4ba92d714cb",
   "metadata": {},
   "outputs": [],
   "source": []
  },
  {
   "cell_type": "markdown",
   "id": "8b044504-1f7e-46ff-a8f7-ce7bd181080c",
   "metadata": {},
   "source": [
    "# Drops\n",
    "The following catagories were dropeed because all but 20 or fewer observations were in the same category, there was not enpugh of a relationship between this category snd sale price  to justify the extra dimensionality, it was already accounted for by new features or similar "
   ]
  },
  {
   "cell_type": "code",
   "execution_count": 36,
   "id": "d5a4ade2-f443-43e0-8256-e6827000f310",
   "metadata": {},
   "outputs": [],
   "source": [
    "# Utilities: all but 2 houses are in the same catagory so I'll drop it\n",
    "ames.drop('Utilities', 1, inplace = True)\n",
    "amesTest.drop('Utilities', 1, inplace = True)"
   ]
  },
  {
   "cell_type": "code",
   "execution_count": 37,
   "id": "259b64aa-9aeb-4a06-80bc-6027ed56e5af",
   "metadata": {},
   "outputs": [],
   "source": [
    "# condition 2\n",
    "ames.drop('Condition 2', 1, inplace = True)\n",
    "amesTest.drop('Condition 2', 1, inplace = True)"
   ]
  },
  {
   "cell_type": "code",
   "execution_count": 38,
   "id": "251349df-db4f-4e72-b1d0-23600149cbce",
   "metadata": {},
   "outputs": [
    {
     "data": {
      "text/plain": [
       "array(['None', 'Pave', 'Grvl'], dtype=object)"
      ]
     },
     "execution_count": 38,
     "metadata": {},
     "output_type": "execute_result"
    }
   ],
   "source": [
    "ames['Alley'].unique()"
   ]
  },
  {
   "cell_type": "code",
   "execution_count": 39,
   "id": "7a51b2d8-9bc0-45ad-b972-0d5bcabf2970",
   "metadata": {},
   "outputs": [],
   "source": [
    "ames.drop('Land Slope', 1, inplace = True)\n",
    "amesTest.drop('Land Slope', 1, inplace = True)"
   ]
  },
  {
   "cell_type": "code",
   "execution_count": 40,
   "id": "cfe6fed9-9b9a-443e-860d-1c8d60b3beba",
   "metadata": {},
   "outputs": [],
   "source": [
    "ames.drop('Alley', 1, inplace = True)\n",
    "amesTest.drop('Alley', 1, inplace = True)"
   ]
  },
  {
   "cell_type": "code",
   "execution_count": 41,
   "id": "4592faf7-e10b-474f-a84b-bf2a422b0a4e",
   "metadata": {},
   "outputs": [],
   "source": [
    "ames.drop('Id',1 ,inplace = True)\n",
    "ames.drop('PID',1, inplace = True )\n",
    "ames.drop('Neighborhood', 1, inplace = True)"
   ]
  },
  {
   "cell_type": "code",
   "execution_count": 42,
   "id": "da11f935-0643-4b9d-8881-6dc3650eddaf",
   "metadata": {},
   "outputs": [
    {
     "name": "stdout",
     "output_type": "stream",
     "text": [
      "<class 'pandas.core.frame.DataFrame'>\n",
      "RangeIndex: 2051 entries, 0 to 2050\n",
      "Data columns (total 79 columns):\n",
      " #   Column             Non-Null Count  Dtype \n",
      "---  ------             --------------  ----- \n",
      " 0   MS SubClass        2051 non-null   int64 \n",
      " 1   Lot Frontage       2051 non-null   object\n",
      " 2   Lot Area           2051 non-null   int64 \n",
      " 3   Street             2051 non-null   object\n",
      " 4   Lot Shape          2051 non-null   object\n",
      " 5   Land Contour       2051 non-null   object\n",
      " 6   Lot Config         2051 non-null   object\n",
      " 7   Condition 1        2051 non-null   object\n",
      " 8   Bldg Type          2051 non-null   object\n",
      " 9   House Style        2051 non-null   object\n",
      " 10  Overall Qual       2051 non-null   int64 \n",
      " 11  Overall Cond       2051 non-null   int64 \n",
      " 12  Year Built         2051 non-null   int64 \n",
      " 13  Year Remod/Add     2051 non-null   int64 \n",
      " 14  Exterior 1st       2051 non-null   object\n",
      " 15  Exterior 2nd       2051 non-null   object\n",
      " 16  Mas Vnr Type       2051 non-null   object\n",
      " 17  Mas Vnr Area       2051 non-null   object\n",
      " 18  Exter Qual         2051 non-null   object\n",
      " 19  Exter Cond         2051 non-null   object\n",
      " 20  Foundation         2051 non-null   object\n",
      " 21  Bsmt Qual          2051 non-null   int64 \n",
      " 22  Bsmt Cond          2051 non-null   int64 \n",
      " 23  Bsmt Exposure      2051 non-null   object\n",
      " 24  BsmtFin Type 1     2051 non-null   object\n",
      " 25  BsmtFin SF 1       2051 non-null   object\n",
      " 26  BsmtFin SF 2       2051 non-null   object\n",
      " 27  Bsmt Unf SF        2051 non-null   object\n",
      " 28  Total Bsmt SF      2051 non-null   object\n",
      " 29  Heating            2051 non-null   object\n",
      " 30  Heating QC         2051 non-null   object\n",
      " 31  Central Air        2051 non-null   int64 \n",
      " 32  Electrical         2051 non-null   object\n",
      " 33  1st Flr SF         2051 non-null   int64 \n",
      " 34  2nd Flr SF         2051 non-null   int64 \n",
      " 35  Low Qual Fin SF    2051 non-null   int64 \n",
      " 36  Gr Liv Area        2051 non-null   int64 \n",
      " 37  Bsmt Full Bath     2051 non-null   object\n",
      " 38  Full Bath          2051 non-null   int64 \n",
      " 39  Half Bath          2051 non-null   int64 \n",
      " 40  Bedroom AbvGr      2051 non-null   int64 \n",
      " 41  Kitchen AbvGr      2051 non-null   int64 \n",
      " 42  Kitchen Qual       2051 non-null   object\n",
      " 43  TotRms AbvGrd      2051 non-null   int64 \n",
      " 44  Functional         2051 non-null   int64 \n",
      " 45  Fireplaces         2051 non-null   int64 \n",
      " 46  Fireplace Qu       2051 non-null   object\n",
      " 47  Garage Type        2051 non-null   object\n",
      " 48  Garage Yr Blt      2051 non-null   object\n",
      " 49  Garage Finish      2051 non-null   object\n",
      " 50  Garage Cars        2051 non-null   object\n",
      " 51  Garage Area        2051 non-null   object\n",
      " 52  Garage Qual        2051 non-null   object\n",
      " 53  Garage Cond        2051 non-null   object\n",
      " 54  Paved Drive        2051 non-null   object\n",
      " 55  Wood Deck SF       2051 non-null   int64 \n",
      " 56  Open Porch SF      2051 non-null   int64 \n",
      " 57  Enclosed Porch     2051 non-null   int64 \n",
      " 58  3Ssn Porch         2051 non-null   int64 \n",
      " 59  Screen Porch       2051 non-null   int64 \n",
      " 60  Pool Area          2051 non-null   int64 \n",
      " 61  Pool QC            2051 non-null   object\n",
      " 62  Fence              2051 non-null   object\n",
      " 63  Misc Feature       2051 non-null   object\n",
      " 64  Misc Val           2051 non-null   int64 \n",
      " 65  Mo Sold            2051 non-null   int64 \n",
      " 66  Yr Sold            2051 non-null   int64 \n",
      " 67  SalePrice          2051 non-null   int64 \n",
      " 68  NeighborhoodScore  2051 non-null   int64 \n",
      " 69  isResidential      2051 non-null   int64 \n",
      " 70  roof               2051 non-null   object\n",
      " 71  Sale Type__CWD     2051 non-null   uint8 \n",
      " 72  Sale Type__Con     2051 non-null   uint8 \n",
      " 73  Sale Type__ConLD   2051 non-null   uint8 \n",
      " 74  Sale Type__ConLI   2051 non-null   uint8 \n",
      " 75  Sale Type__ConLw   2051 non-null   uint8 \n",
      " 76  Sale Type__New     2051 non-null   uint8 \n",
      " 77  Sale Type__Oth     2051 non-null   uint8 \n",
      " 78  Sale Type__WD      2051 non-null   uint8 \n",
      "dtypes: int64(32), object(39), uint8(8)\n",
      "memory usage: 1.1+ MB\n"
     ]
    }
   ],
   "source": [
    "ames.info()"
   ]
  },
  {
   "cell_type": "markdown",
   "id": "ec4cc8ce-9f72-4c9f-be2f-3cadb3e3b666",
   "metadata": {},
   "source": [
    "# Exteriors\n",
    "Exter Qual and Exter Cond are ordinal and need to be fixed. I'm going to try an Exter Qual vs Exter Cond product column and I think a percentile ordinal score is a good strategy for the material columns, which would add another 30 columns as onehot"
   ]
  },
  {
   "cell_type": "code",
   "execution_count": 43,
   "id": "28a2404b-eaf4-442b-a894-11d5adfdcff4",
   "metadata": {},
   "outputs": [],
   "source": [
    "to_numeric= {'Fa':0, 'TA':1, 'Gd':2, 'Ex':3}\n",
    "ames['Exter Qual'] = ames['Exter Qual'].replace(to_numeric)\n",
    "amesTest['Exter Qual'] = amesTest['Exter Qual'].replace(to_numeric)\n"
   ]
  },
  {
   "cell_type": "code",
   "execution_count": 44,
   "id": "b215b088-ec69-4163-9a63-ddae850d1327",
   "metadata": {},
   "outputs": [],
   "source": [
    "to_numeric= {'Po': 0, 'Fa':1, 'Gd':2, 'TA':3, 'Ex':4}\n",
    "ames['Exter Cond'] = ames['Exter Cond'].replace(to_numeric)\n",
    "amesTest['Exter Cond'] = amesTest['Exter Cond'].replace(to_numeric)\n"
   ]
  },
  {
   "cell_type": "code",
   "execution_count": 45,
   "id": "434f0fed-2be0-47f7-ac95-c63984ebb819",
   "metadata": {},
   "outputs": [],
   "source": [
    "Ex1 = ames[['Exterior 1st', 'SalePrice']].groupby('Exterior 1st').mean('SalePrice').reset_index().copy()\n",
    "p25 = np.percentile(ames['SalePrice'], 25)\n",
    "p75 = np.percentile(ames['SalePrice'], 75)\n",
    "mean = ames['SalePrice'].mean()\n"
   ]
  },
  {
   "cell_type": "code",
   "execution_count": null,
   "id": "9b515a0f-a334-4979-a212-f1deff78ae10",
   "metadata": {},
   "outputs": [],
   "source": []
  },
  {
   "cell_type": "code",
   "execution_count": 46,
   "id": "e15f0390-d5b1-42e3-a9d9-6c897191d4d5",
   "metadata": {},
   "outputs": [
    {
     "data": {
      "text/plain": [
       "0    AsbShng\n",
       "1    AsphShn\n",
       "4     CBlock\n",
       "Name: Exterior 1st, dtype: object"
      ]
     },
     "metadata": {},
     "output_type": "display_data"
    }
   ],
   "source": [
    "display(Ex1.loc[Ex1['SalePrice'] < p25]['Exterior 1st'])\n",
    "ex0 = ['AsbShng','AsphShn', 'Cblock']"
   ]
  },
  {
   "cell_type": "code",
   "execution_count": 47,
   "id": "182f81f8-af09-4132-ae06-5bf880e0d8b9",
   "metadata": {},
   "outputs": [
    {
     "data": {
      "text/plain": [
       "2     BrkComm\n",
       "6     HdBoard\n",
       "8     MetalSd\n",
       "9     Plywood\n",
       "11     Stucco\n",
       "13    Wd Sdng\n",
       "14    WdShing\n",
       "Name: Exterior 1st, dtype: object"
      ]
     },
     "metadata": {},
     "output_type": "display_data"
    }
   ],
   "source": [
    "display(Ex1.loc[(Ex1['SalePrice'] < mean) & (Ex1['SalePrice'] >= p25)]['Exterior 1st'])\n",
    "ex1 = ['BrkComm', 'HdBoard', 'MetalSd','Plywood','Stucco','Wd Sdng','WdShing']"
   ]
  },
  {
   "cell_type": "code",
   "execution_count": 48,
   "id": "6236aca1-7575-4fb0-b5f6-b9ca30fde755",
   "metadata": {},
   "outputs": [
    {
     "data": {
      "text/plain": [
       "3    BrkFace\n",
       "Name: Exterior 1st, dtype: object"
      ]
     },
     "metadata": {},
     "output_type": "display_data"
    }
   ],
   "source": [
    "display(Ex1.loc[(Ex1['SalePrice'] >= mean) & (Ex1['SalePrice'] < p75)]['Exterior 1st'])\n",
    "ex2 =['BrkFace']"
   ]
  },
  {
   "cell_type": "code",
   "execution_count": 49,
   "id": "00a9077e-c8d2-4697-9db5-b1cee2a5fbbd",
   "metadata": {},
   "outputs": [
    {
     "data": {
      "text/plain": [
       "5     CemntBd\n",
       "7     ImStucc\n",
       "10      Stone\n",
       "12    VinylSd\n",
       "Name: Exterior 1st, dtype: object"
      ]
     },
     "metadata": {},
     "output_type": "display_data"
    }
   ],
   "source": [
    "display(Ex1.loc[Ex1['SalePrice'] >= p75]['Exterior 1st'])\n",
    "ex3 = ['CemntBd','ImStucc','Stone','VinylSd']"
   ]
  },
  {
   "cell_type": "code",
   "execution_count": 50,
   "id": "52958a46-f33b-4979-9e14-1b6262e144fb",
   "metadata": {},
   "outputs": [],
   "source": [
    "ames['Ex1Score'] = 0\n",
    "ames.loc[ames['Exterior 1st'].isin(ex1), 'Exterior 1st'] = 1\n",
    "ames.loc[ames['Exterior 1st'].isin(ex2), 'Exterior 1st'] = 2\n",
    "ames.loc[ames['Exterior 1st'].isin(ex3), 'Exterior 1st'] = 3"
   ]
  },
  {
   "cell_type": "code",
   "execution_count": 51,
   "id": "37b6b6ed-c05b-42c0-994f-d33381032573",
   "metadata": {},
   "outputs": [],
   "source": [
    "amesTest.loc[ames['Exterior 1st'].isin(ex1), 'Exterior 1st'] = 1\n",
    "amesTest.loc[ames['Exterior 1st'].isin(ex2), 'Exterior 1st'] = 2\n",
    "amesTest.loc[ames['Exterior 1st'].isin(ex3), 'Exterior 1st'] = 3"
   ]
  },
  {
   "cell_type": "code",
   "execution_count": 52,
   "id": "45f94730-d6af-40d9-81d6-f4adf00e600e",
   "metadata": {},
   "outputs": [],
   "source": [
    "ames.drop('Exterior 1st',1, inplace = True)"
   ]
  },
  {
   "cell_type": "code",
   "execution_count": 53,
   "id": "a2bb2aa7-713c-49e6-82b8-2b60a6a6a02e",
   "metadata": {},
   "outputs": [],
   "source": [
    "Ex2 = ames[['Exterior 2nd', 'SalePrice']].groupby('Exterior 2nd').mean('SalePrice').reset_index().copy()\n"
   ]
  },
  {
   "cell_type": "code",
   "execution_count": 54,
   "id": "fb488f2d-f156-46cc-97a9-e1e66b4cdd7d",
   "metadata": {},
   "outputs": [
    {
     "data": {
      "text/plain": [
       "0    AsbShng\n",
       "4     CBlock\n",
       "Name: Exterior 2nd, dtype: object"
      ]
     },
     "metadata": {},
     "output_type": "display_data"
    }
   ],
   "source": [
    "display(Ex2.loc[Ex2['SalePrice'] < p25]['Exterior 2nd'])\n",
    "ex20 = ['AsbShng', 'CBlock']"
   ]
  },
  {
   "cell_type": "code",
   "execution_count": 55,
   "id": "4737fa1d-106f-41c9-9fc9-5b264097a347",
   "metadata": {},
   "outputs": [
    {
     "data": {
      "text/plain": [
       "1     AsphShn\n",
       "2     Brk Cmn\n",
       "6     HdBoard\n",
       "8     MetalSd\n",
       "9     Plywood\n",
       "10      Stone\n",
       "11     Stucco\n",
       "13    Wd Sdng\n",
       "14    Wd Shng\n",
       "Name: Exterior 2nd, dtype: object"
      ]
     },
     "metadata": {},
     "output_type": "display_data"
    }
   ],
   "source": [
    "display(Ex2.loc[(Ex2['SalePrice'] < mean) & (Ex2['SalePrice'] >= p25)]['Exterior 2nd'])\n",
    "ex21 = ['AsphShn', 'Brk Cmn', 'HdBoard', 'MetalSd', 'Plywood', 'Stone', 'Stucco', 'Wd Sdng', 'Wd Shng']"
   ]
  },
  {
   "cell_type": "code",
   "execution_count": 56,
   "id": "42981535-245c-48d2-ab90-8a1f013ff7e7",
   "metadata": {},
   "outputs": [
    {
     "data": {
      "text/plain": [
       "3    BrkFace\n",
       "Name: Exterior 2nd, dtype: object"
      ]
     },
     "metadata": {},
     "output_type": "display_data"
    }
   ],
   "source": [
    "display(Ex2.loc[(Ex2['SalePrice'] >= mean) & (Ex2['SalePrice'] < p75)]['Exterior 2nd'])\n",
    "ex22 =  ['BrkFace']"
   ]
  },
  {
   "cell_type": "code",
   "execution_count": 57,
   "id": "71afa89c-f2f1-4356-9a43-1c65f7ebb5d3",
   "metadata": {},
   "outputs": [
    {
     "data": {
      "text/plain": [
       "5     CmentBd\n",
       "7     ImStucc\n",
       "12    VinylSd\n",
       "Name: Exterior 2nd, dtype: object"
      ]
     },
     "metadata": {},
     "output_type": "display_data"
    }
   ],
   "source": [
    "ex23 = display(Ex2.loc[Ex2['SalePrice'] >= p75]['Exterior 2nd'])\n",
    "\n",
    "ex23 = ['CmentBd', 'ImStucc', 'VinylSd']\n"
   ]
  },
  {
   "cell_type": "code",
   "execution_count": 58,
   "id": "56352a80-0b86-467b-b4e9-5adead92910a",
   "metadata": {},
   "outputs": [],
   "source": [
    "ames['Ex2Score'] = 0\n",
    "ames.loc[ames['Exterior 2nd'].isin(ex21), 'Exterior 2nd'] = 1\n",
    "ames.loc[ames['Exterior 2nd'].isin(ex22), 'Exterior 2nd'] = 2\n",
    "ames.loc[ames['Exterior 2nd'].isin(ex23), 'Exterior 2nd'] = 3"
   ]
  },
  {
   "cell_type": "code",
   "execution_count": 59,
   "id": "7eb02f9d-1ace-4f93-91f6-bec56ef0223c",
   "metadata": {},
   "outputs": [],
   "source": [
    "amesTest['Ex2Score'] = 0\n",
    "amesTest.loc[amesTest['Exterior 2nd'].isin(ex21), 'Exterior 2nd'] = 1\n",
    "amesTest.loc[amesTest['Exterior 2nd'].isin(ex22), 'Exterior 2nd'] = 2\n",
    "amesTest.loc[amesTest['Exterior 2nd'].isin(ex23), 'Exterior 2nd'] = 3"
   ]
  },
  {
   "cell_type": "code",
   "execution_count": 60,
   "id": "c7dc766d-bdef-4c3f-8f3f-b488d20c8bef",
   "metadata": {},
   "outputs": [],
   "source": [
    "ames.drop('Exterior 2nd', 1, inplace = True)"
   ]
  },
  {
   "cell_type": "code",
   "execution_count": 61,
   "id": "1ef9cc66-87fe-4092-9516-9d222a3cba61",
   "metadata": {},
   "outputs": [],
   "source": [
    "amesTest.drop('Exterior 2nd', 1, inplace = True)"
   ]
  },
  {
   "cell_type": "code",
   "execution_count": 62,
   "id": "6681ad66-2fe6-4a7e-9c3b-3c7177d1636a",
   "metadata": {},
   "outputs": [],
   "source": [
    "Exprod = ames[['Exter Cond', 'Exter Qual', 'SalePrice']]"
   ]
  },
  {
   "cell_type": "code",
   "execution_count": 63,
   "id": "4ff65ac8-ae1f-4032-b1d3-2263da7785cf",
   "metadata": {},
   "outputs": [
    {
     "data": {
      "text/plain": [
       "<AxesSubplot:xlabel='Exter Cond', ylabel='SalePrice'>"
      ]
     },
     "execution_count": 63,
     "metadata": {},
     "output_type": "execute_result"
    },
    {
     "data": {
      "image/png": "[encoded data removed]",
      "text/plain": [
       "<Figure size 432x288 with 1 Axes>"
      ]
     },
     "metadata": {
      "needs_background": "light"
     },
     "output_type": "display_data"
    }
   ],
   "source": [
    "import seaborn as sns\n",
    "sns.barplot(data = Exprod, x = 'Exter Cond', y = 'SalePrice')"
   ]
  },
  {
   "cell_type": "code",
   "execution_count": 64,
   "id": "62a87a20-3413-4678-818b-904982d1e510",
   "metadata": {},
   "outputs": [
    {
     "data": {
      "text/plain": [
       "<AxesSubplot:xlabel='Exter Qual', ylabel='SalePrice'>"
      ]
     },
     "execution_count": 64,
     "metadata": {},
     "output_type": "execute_result"
    },
    {
     "data": {
      "image/png": "[encoded data removed]",
      "text/plain": [
       "<Figure size 432x288 with 1 Axes>"
      ]
     },
     "metadata": {
      "needs_background": "light"
     },
     "output_type": "display_data"
    }
   ],
   "source": [
    "sns.barplot(data = Exprod, x = 'Exter Qual', y = 'SalePrice')"
   ]
  },
  {
   "cell_type": "code",
   "execution_count": 65,
   "id": "bd9c03dd-2858-46cb-81f2-6044ae590a10",
   "metadata": {},
   "outputs": [
    {
     "name": "stderr",
     "output_type": "stream",
     "text": [
      "<ipython-input-65-c22e5107d24d>:1: SettingWithCopyWarning: \n",
      "A value is trying to be set on a copy of a slice from a DataFrame.\n",
      "Try using .loc[row_indexer,col_indexer] = value instead\n",
      "\n",
      "See the caveats in the documentation: https://pandas.pydata.org/pandas-docs/stable/user_guide/indexing.html#returning-a-view-versus-a-copy\n",
      "  Exprod['Product'] = Exprod['Exter Qual'] * Exprod['Exter Cond']\n"
     ]
    }
   ],
   "source": [
    "Exprod['Product'] = Exprod['Exter Qual'] * Exprod['Exter Cond']"
   ]
  },
  {
   "cell_type": "code",
   "execution_count": 66,
   "id": "a93f4d7a-f8b1-40f6-bf38-38bc277dbe02",
   "metadata": {},
   "outputs": [
    {
     "data": {
      "text/plain": [
       "<AxesSubplot:xlabel='Product', ylabel='SalePrice'>"
      ]
     },
     "execution_count": 66,
     "metadata": {},
     "output_type": "execute_result"
    },
    {
     "data": {
      "image/png": "[encoded data removed]",
      "text/plain": [
       "<Figure size 432x288 with 1 Axes>"
      ]
     },
     "metadata": {
      "needs_background": "light"
     },
     "output_type": "display_data"
    }
   ],
   "source": [
    "sns.barplot(data = Exprod, x = 'Product', y = 'SalePrice')"
   ]
  },
  {
   "cell_type": "markdown",
   "id": "cc91fd73-574c-4b5b-b9b1-a3243215f2c3",
   "metadata": {},
   "source": [
    "I like the product: I'll use it in my model which means I'll drop Exter 1 and Exter 2"
   ]
  },
  {
   "cell_type": "code",
   "execution_count": 67,
   "id": "d956b66c-7675-4c4e-b4f1-76cafa70ffe3",
   "metadata": {},
   "outputs": [],
   "source": [
    "ames['Exter Qual * Cond']= ames['Exter Qual'] * ames['Exter Cond']\n",
    "#amesTest['Exter Qual * Cond']= amesTest['Exter Qual'] * amesTest['Exter Cond']"
   ]
  },
  {
   "cell_type": "code",
   "execution_count": 68,
   "id": "3aa9a798-a774-40fb-88c0-0404ff9b10e0",
   "metadata": {},
   "outputs": [],
   "source": [
    "ames.drop(['Exter Qual', 'Exter Cond'], 1, inplace = True)"
   ]
  },
  {
   "cell_type": "markdown",
   "id": "2b669095-142f-47d1-a824-a2ffb6da8b16",
   "metadata": {},
   "source": [
    "OK that's a lot of feature engineering done! lets see how my df looks"
   ]
  },
  {
   "cell_type": "code",
   "execution_count": 69,
   "id": "08cdface-5f52-4708-bcc4-25da0b1baf41",
   "metadata": {},
   "outputs": [
    {
     "data": {
      "text/plain": [
       "array([1, 2, 0, 3])"
      ]
     },
     "execution_count": 69,
     "metadata": {},
     "output_type": "execute_result"
    }
   ],
   "source": [
    "amesTest['Exter Qual'].unique()"
   ]
  },
  {
   "cell_type": "code",
   "execution_count": 70,
   "id": "480b8097-4ffb-4a58-9fb0-c50debef527a",
   "metadata": {},
   "outputs": [
    {
     "data": {
      "text/plain": [
       "<AxesSubplot:xlabel='Foundation', ylabel='SalePrice'>"
      ]
     },
     "execution_count": 70,
     "metadata": {},
     "output_type": "execute_result"
    },
    {
     "data": {
      "image/png": "[encoded data removed]",
      "text/plain": [
       "<Figure size 432x288 with 1 Axes>"
      ]
     },
     "metadata": {
      "needs_background": "light"
     },
     "output_type": "display_data"
    }
   ],
   "source": [
    "sns.barplot(data = ames, x = 'Foundation', y= 'SalePrice')"
   ]
  },
  {
   "cell_type": "markdown",
   "id": "f36843d2-c984-4698-b5b5-5c15f027e071",
   "metadata": {},
   "source": [
    "# Garage\n",
    "\n",
    "I'll turn the ordinal data to numeric data, try multiplying condition with quality and see how that looks. Then I'll decide I want to try any dimensional reduction, and if so, how."
   ]
  },
  {
   "cell_type": "code",
   "execution_count": 71,
   "id": "ac5869f2-09fb-40e6-b6d2-f16c2ada522b",
   "metadata": {},
   "outputs": [],
   "source": [
    "garage_feats = ['Garage Type', 'Garage Yr Blt',\n",
    "       'Garage Finish', 'Garage Cars', 'Garage Area', 'Garage Qual',\n",
    "       'Garage Cond', 'SalePrice']"
   ]
  },
  {
   "cell_type": "markdown",
   "id": "c99cc286-21f5-4bf8-b71e-40892361707a",
   "metadata": {},
   "source": [
    "sns.scatterplot(data = ames, x = 'Garage Yr Blt', y = 'SalePrice')\n",
    "\n",
    "The following is more like data cleaning that feature engineering, but I want to do it here because it's small"
   ]
  },
  {
   "cell_type": "code",
   "execution_count": 72,
   "id": "b8e94920-67e8-4f6c-b458-9648533cd13f",
   "metadata": {},
   "outputs": [],
   "source": [
    "ames['Garage Yr Blt'] = ames['Garage Yr Blt'].replace('None', 0)\n",
    "ames['Garage Yr Blt']= ames['Garage Yr Blt'].apply(lambda x : float(x))\n",
    "amesTest['Garage Yr Blt'] = amesTest['Garage Yr Blt'].replace('None', 0)\n",
    "amesTest['Garage Yr Blt'] = amesTest['Garage Yr Blt'].apply(lambda x : float(x))"
   ]
  },
  {
   "cell_type": "code",
   "execution_count": 73,
   "id": "8a3e54d3-2494-44d9-b4f3-f9978d94447b",
   "metadata": {},
   "outputs": [],
   "source": [
    "ames['Garage Cars'] = ames['Garage Cars'].replace('None', 0)\n",
    "ames['Garage Cars']= ames['Garage Cars'].apply(lambda x : float(x))\n",
    "amesTest['Garage Cars'] = amesTest['Garage Cars'].replace('None', 0)\n",
    "amesTest['Garage Cars']= amesTest['Garage Cars'].apply(lambda x : float(x))"
   ]
  },
  {
   "cell_type": "code",
   "execution_count": 74,
   "id": "ad5fb4b0-dca0-4ecc-beae-04f38cdacc19",
   "metadata": {},
   "outputs": [],
   "source": [
    "ames['Garage Area'] = ames['Garage Area'].replace('None', 0)\n",
    "ames['Garage Area']= ames['Garage Area'].apply(lambda x : float(x))\n",
    "amesTest['Garage Area'] = amesTest['Garage Area'].replace('None', 0)\n",
    "amesTest['Garage Area']= amesTest['Garage Area'].apply(lambda x : float(x))"
   ]
  },
  {
   "cell_type": "code",
   "execution_count": 75,
   "id": "a822ce2c-c9bf-4291-bebe-5c855406b20c",
   "metadata": {},
   "outputs": [
    {
     "data": {
      "text/plain": [
       "array(['RFn', 'Unf', 'Fin', 'None'], dtype=object)"
      ]
     },
     "execution_count": 75,
     "metadata": {},
     "output_type": "execute_result"
    }
   ],
   "source": [
    "ames['Garage Finish'].unique()"
   ]
  },
  {
   "cell_type": "code",
   "execution_count": 76,
   "id": "41938dd2-56ef-43a1-bd0d-0092c5ae6f9c",
   "metadata": {},
   "outputs": [],
   "source": [
    "to_numeric = {'None':0, 'Unf':1, 'RFn':2 ,'Fin': 3}\n",
    "ames['Garage Finish'] = ames['Garage Finish'].replace(to_numeric)\n",
    "amesTest['Garage Finish'] = amesTest['Garage Finish'].replace(to_numeric)"
   ]
  },
  {
   "cell_type": "code",
   "execution_count": 77,
   "id": "1f140cb2-f76d-400d-99d2-d8b2a383f4ad",
   "metadata": {},
   "outputs": [
    {
     "data": {
      "text/plain": [
       "array(['TA', 'Fa', 'None', 'Gd', 'Ex', 'Po'], dtype=object)"
      ]
     },
     "execution_count": 77,
     "metadata": {},
     "output_type": "execute_result"
    }
   ],
   "source": [
    "ames['Garage Qual'].unique()"
   ]
  },
  {
   "cell_type": "code",
   "execution_count": 78,
   "id": "b7b9d4bc-4fb3-4efb-bf95-9166620dc899",
   "metadata": {},
   "outputs": [],
   "source": [
    "to_numeric = {'None':0, 'Po':1, 'Fa': 2, 'TA': 3, 'Gd': 4, 'Ex':5}\n",
    "ames['Garage Qual'] = ames['Garage Qual'].replace(to_numeric)\n",
    "amesTest['Garage Qual'] = amesTest['Garage Qual'].replace(to_numeric)"
   ]
  },
  {
   "cell_type": "code",
   "execution_count": 79,
   "id": "4d29181d-eafd-4cd7-a79c-027652b3815f",
   "metadata": {},
   "outputs": [],
   "source": [
    "ames['Garage Cond'] = ames['Garage Cond'].replace(to_numeric)\n",
    "amesTest['Garage Cond'] = amesTest['Garage Cond'].replace(to_numeric)"
   ]
  },
  {
   "cell_type": "code",
   "execution_count": 80,
   "id": "b2064e4c-163e-477d-9523-e9eaf7fa54cd",
   "metadata": {},
   "outputs": [],
   "source": [
    "garage_prod = ames[garage_feats].copy()"
   ]
  },
  {
   "cell_type": "code",
   "execution_count": 81,
   "id": "b766d594-8ed6-4cfb-a55e-99beecf6a853",
   "metadata": {},
   "outputs": [],
   "source": [
    "garage_prod['Garage Qual * Cond'] =  garage_prod['Garage Qual'] * garage_prod['Garage Cond']"
   ]
  },
  {
   "cell_type": "code",
   "execution_count": 82,
   "id": "51bcce22-6b75-49fd-9207-b384f269341d",
   "metadata": {},
   "outputs": [
    {
     "data": {
      "text/plain": [
       "<AxesSubplot:xlabel='Garage Qual * Cond', ylabel='SalePrice'>"
      ]
     },
     "execution_count": 82,
     "metadata": {},
     "output_type": "execute_result"
    },
    {
     "data": {
      "image/png": "[encoded data removed]",
      "text/plain": [
       "<Figure size 432x288 with 1 Axes>"
      ]
     },
     "metadata": {
      "needs_background": "light"
     },
     "output_type": "display_data"
    }
   ],
   "source": [
    "sns.barplot(data = garage_prod, x = 'Garage Qual * Cond', y = 'SalePrice')"
   ]
  },
  {
   "cell_type": "code",
   "execution_count": 83,
   "id": "2566aee4-4a40-43ef-b23d-d8ec867904de",
   "metadata": {},
   "outputs": [],
   "source": [
    "garage_prod['Garage QCF'] = garage_prod['Garage Qual * Cond'] * garage_prod['Garage Finish']"
   ]
  },
  {
   "cell_type": "code",
   "execution_count": 84,
   "id": "180a3c00-dcad-4983-8576-90af8a6b0a58",
   "metadata": {},
   "outputs": [
    {
     "data": {
      "text/plain": [
       "<AxesSubplot:xlabel='Garage QCF', ylabel='SalePrice'>"
      ]
     },
     "execution_count": 84,
     "metadata": {},
     "output_type": "execute_result"
    },
    {
     "data": {
      "image/png": "[encoded data removed]",
      "text/plain": [
       "<Figure size 432x288 with 1 Axes>"
      ]
     },
     "metadata": {
      "needs_background": "light"
     },
     "output_type": "display_data"
    }
   ],
   "source": [
    "sns.barplot(data = garage_prod, x = 'Garage QCF', y = 'SalePrice')"
   ]
  },
  {
   "cell_type": "markdown",
   "id": "37baee1b-65d8-4233-8149-45692e410d7a",
   "metadata": {},
   "source": [
    "I don't think I'll use these products. The relatinoship isn't linear enough"
   ]
  },
  {
   "cell_type": "code",
   "execution_count": 85,
   "id": "c06e7cd3-0c93-4244-b952-6694c02bb246",
   "metadata": {},
   "outputs": [
    {
     "data": {
      "text/plain": [
       "<AxesSubplot:xlabel='Garage Type', ylabel='SalePrice'>"
      ]
     },
     "execution_count": 85,
     "metadata": {},
     "output_type": "execute_result"
    },
    {
     "data": {
      "image/png": "[encoded data removed]",
      "text/plain": [
       "<Figure size 432x288 with 1 Axes>"
      ]
     },
     "metadata": {
      "needs_background": "light"
     },
     "output_type": "display_data"
    }
   ],
   "source": [
    "sns.barplot(data = garage_prod, x = 'Garage Type', y = 'SalePrice')"
   ]
  },
  {
   "cell_type": "markdown",
   "id": "b4d25116-7b82-406a-8dab-2619b45f6719",
   "metadata": {},
   "source": [
    "That can only fairly be treated as catagorical. I'm going to do some final cleaning, then start modeling"
   ]
  },
  {
   "cell_type": "code",
   "execution_count": 86,
   "id": "97e88e87-3c6f-4a8f-9665-3831808066df",
   "metadata": {},
   "outputs": [
    {
     "data": {
      "text/plain": [
       "0       Gd\n",
       "1       Gd\n",
       "2       Gd\n",
       "3       TA\n",
       "4       TA\n",
       "        ..\n",
       "2046    Gd\n",
       "2047    TA\n",
       "2048    TA\n",
       "2049    TA\n",
       "2050    Gd\n",
       "Name: Kitchen Qual, Length: 2051, dtype: object"
      ]
     },
     "execution_count": 86,
     "metadata": {},
     "output_type": "execute_result"
    }
   ],
   "source": [
    "ames['Kitchen Qual']"
   ]
  },
  {
   "cell_type": "code",
   "execution_count": 87,
   "id": "d4a5ebfc-e431-49cc-af1a-67645130921d",
   "metadata": {},
   "outputs": [
    {
     "data": {
      "text/plain": [
       "<AxesSubplot:xlabel='Kitchen Qual', ylabel='SalePrice'>"
      ]
     },
     "execution_count": 87,
     "metadata": {},
     "output_type": "execute_result"
    },
    {
     "data": {
      "image/png": "[encoded data removed]",
      "text/plain": [
       "<Figure size 432x288 with 1 Axes>"
      ]
     },
     "metadata": {
      "needs_background": "light"
     },
     "output_type": "display_data"
    }
   ],
   "source": [
    "sns.barplot(data = ames, x = 'Kitchen Qual', y= 'SalePrice')"
   ]
  },
  {
   "cell_type": "code",
   "execution_count": 88,
   "id": "2bad8c59-b70f-4c99-9305-3a7c8c1212ab",
   "metadata": {},
   "outputs": [],
   "source": [
    "to_numeric = {'Fa':0, 'TA': 1, 'Gd' : 2, 'Ex':3}\n",
    "ames['Kitchen Qual'] = ames['Kitchen Qual'].replace(to_numeric)\n",
    "amesTest['Kitchen Qual'] = amesTest['Kitchen Qual'].replace(to_numeric)"
   ]
  },
  {
   "cell_type": "code",
   "execution_count": 89,
   "id": "438b0f28-7901-44bb-a545-07898d6bddb1",
   "metadata": {},
   "outputs": [
    {
     "name": "stdout",
     "output_type": "stream",
     "text": [
      "<class 'pandas.core.frame.DataFrame'>\n",
      "RangeIndex: 2051 entries, 0 to 2050\n",
      "Data columns (total 78 columns):\n",
      " #   Column             Non-Null Count  Dtype  \n",
      "---  ------             --------------  -----  \n",
      " 0   MS SubClass        2051 non-null   int64  \n",
      " 1   Lot Frontage       2051 non-null   object \n",
      " 2   Lot Area           2051 non-null   int64  \n",
      " 3   Street             2051 non-null   object \n",
      " 4   Lot Shape          2051 non-null   object \n",
      " 5   Land Contour       2051 non-null   object \n",
      " 6   Lot Config         2051 non-null   object \n",
      " 7   Condition 1        2051 non-null   object \n",
      " 8   Bldg Type          2051 non-null   object \n",
      " 9   House Style        2051 non-null   object \n",
      " 10  Overall Qual       2051 non-null   int64  \n",
      " 11  Overall Cond       2051 non-null   int64  \n",
      " 12  Year Built         2051 non-null   int64  \n",
      " 13  Year Remod/Add     2051 non-null   int64  \n",
      " 14  Mas Vnr Type       2051 non-null   object \n",
      " 15  Mas Vnr Area       2051 non-null   object \n",
      " 16  Foundation         2051 non-null   object \n",
      " 17  Bsmt Qual          2051 non-null   int64  \n",
      " 18  Bsmt Cond          2051 non-null   int64  \n",
      " 19  Bsmt Exposure      2051 non-null   object \n",
      " 20  BsmtFin Type 1     2051 non-null   object \n",
      " 21  BsmtFin SF 1       2051 non-null   object \n",
      " 22  BsmtFin SF 2       2051 non-null   object \n",
      " 23  Bsmt Unf SF        2051 non-null   object \n",
      " 24  Total Bsmt SF      2051 non-null   object \n",
      " 25  Heating            2051 non-null   object \n",
      " 26  Heating QC         2051 non-null   object \n",
      " 27  Central Air        2051 non-null   int64  \n",
      " 28  Electrical         2051 non-null   object \n",
      " 29  1st Flr SF         2051 non-null   int64  \n",
      " 30  2nd Flr SF         2051 non-null   int64  \n",
      " 31  Low Qual Fin SF    2051 non-null   int64  \n",
      " 32  Gr Liv Area        2051 non-null   int64  \n",
      " 33  Bsmt Full Bath     2051 non-null   object \n",
      " 34  Full Bath          2051 non-null   int64  \n",
      " 35  Half Bath          2051 non-null   int64  \n",
      " 36  Bedroom AbvGr      2051 non-null   int64  \n",
      " 37  Kitchen AbvGr      2051 non-null   int64  \n",
      " 38  Kitchen Qual       2051 non-null   int64  \n",
      " 39  TotRms AbvGrd      2051 non-null   int64  \n",
      " 40  Functional         2051 non-null   int64  \n",
      " 41  Fireplaces         2051 non-null   int64  \n",
      " 42  Fireplace Qu       2051 non-null   object \n",
      " 43  Garage Type        2051 non-null   object \n",
      " 44  Garage Yr Blt      2051 non-null   float64\n",
      " 45  Garage Finish      2051 non-null   int64  \n",
      " 46  Garage Cars        2051 non-null   float64\n",
      " 47  Garage Area        2051 non-null   float64\n",
      " 48  Garage Qual        2051 non-null   int64  \n",
      " 49  Garage Cond        2051 non-null   int64  \n",
      " 50  Paved Drive        2051 non-null   object \n",
      " 51  Wood Deck SF       2051 non-null   int64  \n",
      " 52  Open Porch SF      2051 non-null   int64  \n",
      " 53  Enclosed Porch     2051 non-null   int64  \n",
      " 54  3Ssn Porch         2051 non-null   int64  \n",
      " 55  Screen Porch       2051 non-null   int64  \n",
      " 56  Pool Area          2051 non-null   int64  \n",
      " 57  Pool QC            2051 non-null   object \n",
      " 58  Fence              2051 non-null   object \n",
      " 59  Misc Feature       2051 non-null   object \n",
      " 60  Misc Val           2051 non-null   int64  \n",
      " 61  Mo Sold            2051 non-null   int64  \n",
      " 62  Yr Sold            2051 non-null   int64  \n",
      " 63  SalePrice          2051 non-null   int64  \n",
      " 64  NeighborhoodScore  2051 non-null   int64  \n",
      " 65  isResidential      2051 non-null   int64  \n",
      " 66  roof               2051 non-null   object \n",
      " 67  Sale Type__CWD     2051 non-null   uint8  \n",
      " 68  Sale Type__Con     2051 non-null   uint8  \n",
      " 69  Sale Type__ConLD   2051 non-null   uint8  \n",
      " 70  Sale Type__ConLI   2051 non-null   uint8  \n",
      " 71  Sale Type__ConLw   2051 non-null   uint8  \n",
      " 72  Sale Type__New     2051 non-null   uint8  \n",
      " 73  Sale Type__Oth     2051 non-null   uint8  \n",
      " 74  Sale Type__WD      2051 non-null   uint8  \n",
      " 75  Ex1Score           2051 non-null   int64  \n",
      " 76  Ex2Score           2051 non-null   int64  \n",
      " 77  Exter Qual * Cond  2051 non-null   int64  \n",
      "dtypes: float64(3), int64(39), object(28), uint8(8)\n",
      "memory usage: 1.1+ MB\n"
     ]
    }
   ],
   "source": [
    "ames.info()"
   ]
  },
  {
   "cell_type": "code",
   "execution_count": 90,
   "id": "3b954e57-e812-4c6e-99a8-38387696d29d",
   "metadata": {},
   "outputs": [
    {
     "data": {
      "text/plain": [
       "array(['None', 'Fa', 'Gd', 'Ex', 'TA'], dtype=object)"
      ]
     },
     "execution_count": 90,
     "metadata": {},
     "output_type": "execute_result"
    }
   ],
   "source": [
    "ames['Pool QC'].unique()"
   ]
  },
  {
   "cell_type": "code",
   "execution_count": 91,
   "id": "35ea9c74-6317-4537-a5ae-7784cfbc7718",
   "metadata": {},
   "outputs": [
    {
     "data": {
      "text/plain": [
       "<AxesSubplot:xlabel='Pool QC', ylabel='SalePrice'>"
      ]
     },
     "execution_count": 91,
     "metadata": {},
     "output_type": "execute_result"
    },
    {
     "data": {
      "image/png": "[encoded data removed]",
      "text/plain": [
       "<Figure size 432x288 with 1 Axes>"
      ]
     },
     "metadata": {
      "needs_background": "light"
     },
     "output_type": "display_data"
    }
   ],
   "source": [
    "sns.barplot(data = ames, x = 'Pool QC', y = 'SalePrice')"
   ]
  },
  {
   "cell_type": "code",
   "execution_count": 92,
   "id": "a836858d-a3cc-4085-aa88-c4b49b5f0619",
   "metadata": {},
   "outputs": [],
   "source": [
    "to_numeric = {'None':0, 'TA': 1, 'Fa': 2, 'Gd' : 3, 'Ex':4}\n",
    "ames['Pool QC'] = ames['Pool QC'].replace(to_numeric)\n",
    "amesTest['Pool QC'] = amesTest['Pool QC'].replace(to_numeric)"
   ]
  },
  {
   "cell_type": "code",
   "execution_count": 93,
   "id": "2bb9e144-b497-4d42-a27e-e85a523ee479",
   "metadata": {},
   "outputs": [
    {
     "name": "stdout",
     "output_type": "stream",
     "text": [
      "<class 'pandas.core.frame.DataFrame'>\n",
      "RangeIndex: 2051 entries, 0 to 2050\n",
      "Data columns (total 78 columns):\n",
      " #   Column             Non-Null Count  Dtype  \n",
      "---  ------             --------------  -----  \n",
      " 0   MS SubClass        2051 non-null   int64  \n",
      " 1   Lot Frontage       2051 non-null   object \n",
      " 2   Lot Area           2051 non-null   int64  \n",
      " 3   Street             2051 non-null   object \n",
      " 4   Lot Shape          2051 non-null   object \n",
      " 5   Land Contour       2051 non-null   object \n",
      " 6   Lot Config         2051 non-null   object \n",
      " 7   Condition 1        2051 non-null   object \n",
      " 8   Bldg Type          2051 non-null   object \n",
      " 9   House Style        2051 non-null   object \n",
      " 10  Overall Qual       2051 non-null   int64  \n",
      " 11  Overall Cond       2051 non-null   int64  \n",
      " 12  Year Built         2051 non-null   int64  \n",
      " 13  Year Remod/Add     2051 non-null   int64  \n",
      " 14  Mas Vnr Type       2051 non-null   object \n",
      " 15  Mas Vnr Area       2051 non-null   object \n",
      " 16  Foundation         2051 non-null   object \n",
      " 17  Bsmt Qual          2051 non-null   int64  \n",
      " 18  Bsmt Cond          2051 non-null   int64  \n",
      " 19  Bsmt Exposure      2051 non-null   object \n",
      " 20  BsmtFin Type 1     2051 non-null   object \n",
      " 21  BsmtFin SF 1       2051 non-null   object \n",
      " 22  BsmtFin SF 2       2051 non-null   object \n",
      " 23  Bsmt Unf SF        2051 non-null   object \n",
      " 24  Total Bsmt SF      2051 non-null   object \n",
      " 25  Heating            2051 non-null   object \n",
      " 26  Heating QC         2051 non-null   object \n",
      " 27  Central Air        2051 non-null   int64  \n",
      " 28  Electrical         2051 non-null   object \n",
      " 29  1st Flr SF         2051 non-null   int64  \n",
      " 30  2nd Flr SF         2051 non-null   int64  \n",
      " 31  Low Qual Fin SF    2051 non-null   int64  \n",
      " 32  Gr Liv Area        2051 non-null   int64  \n",
      " 33  Bsmt Full Bath     2051 non-null   object \n",
      " 34  Full Bath          2051 non-null   int64  \n",
      " 35  Half Bath          2051 non-null   int64  \n",
      " 36  Bedroom AbvGr      2051 non-null   int64  \n",
      " 37  Kitchen AbvGr      2051 non-null   int64  \n",
      " 38  Kitchen Qual       2051 non-null   int64  \n",
      " 39  TotRms AbvGrd      2051 non-null   int64  \n",
      " 40  Functional         2051 non-null   int64  \n",
      " 41  Fireplaces         2051 non-null   int64  \n",
      " 42  Fireplace Qu       2051 non-null   object \n",
      " 43  Garage Type        2051 non-null   object \n",
      " 44  Garage Yr Blt      2051 non-null   float64\n",
      " 45  Garage Finish      2051 non-null   int64  \n",
      " 46  Garage Cars        2051 non-null   float64\n",
      " 47  Garage Area        2051 non-null   float64\n",
      " 48  Garage Qual        2051 non-null   int64  \n",
      " 49  Garage Cond        2051 non-null   int64  \n",
      " 50  Paved Drive        2051 non-null   object \n",
      " 51  Wood Deck SF       2051 non-null   int64  \n",
      " 52  Open Porch SF      2051 non-null   int64  \n",
      " 53  Enclosed Porch     2051 non-null   int64  \n",
      " 54  3Ssn Porch         2051 non-null   int64  \n",
      " 55  Screen Porch       2051 non-null   int64  \n",
      " 56  Pool Area          2051 non-null   int64  \n",
      " 57  Pool QC            2051 non-null   int64  \n",
      " 58  Fence              2051 non-null   object \n",
      " 59  Misc Feature       2051 non-null   object \n",
      " 60  Misc Val           2051 non-null   int64  \n",
      " 61  Mo Sold            2051 non-null   int64  \n",
      " 62  Yr Sold            2051 non-null   int64  \n",
      " 63  SalePrice          2051 non-null   int64  \n",
      " 64  NeighborhoodScore  2051 non-null   int64  \n",
      " 65  isResidential      2051 non-null   int64  \n",
      " 66  roof               2051 non-null   object \n",
      " 67  Sale Type__CWD     2051 non-null   uint8  \n",
      " 68  Sale Type__Con     2051 non-null   uint8  \n",
      " 69  Sale Type__ConLD   2051 non-null   uint8  \n",
      " 70  Sale Type__ConLI   2051 non-null   uint8  \n",
      " 71  Sale Type__ConLw   2051 non-null   uint8  \n",
      " 72  Sale Type__New     2051 non-null   uint8  \n",
      " 73  Sale Type__Oth     2051 non-null   uint8  \n",
      " 74  Sale Type__WD      2051 non-null   uint8  \n",
      " 75  Ex1Score           2051 non-null   int64  \n",
      " 76  Ex2Score           2051 non-null   int64  \n",
      " 77  Exter Qual * Cond  2051 non-null   int64  \n",
      "dtypes: float64(3), int64(40), object(27), uint8(8)\n",
      "memory usage: 1.1+ MB\n"
     ]
    }
   ],
   "source": [
    "ames.info()"
   ]
  },
  {
   "cell_type": "code",
   "execution_count": 94,
   "id": "656ac20d-947c-4acc-aec2-29daf1341793",
   "metadata": {},
   "outputs": [],
   "source": [
    "ames['Lot Frontage']=ames['Lot Frontage'].replace('None' , 0)\n",
    "amesTest['Lot Frontage']=amesTest['Lot Frontage'].replace('None' , 0)"
   ]
  },
  {
   "cell_type": "code",
   "execution_count": 95,
   "id": "c441df25-ac9e-4537-b8b6-d6d2dc604a6c",
   "metadata": {},
   "outputs": [
    {
     "name": "stdout",
     "output_type": "stream",
     "text": [
      "<class 'pandas.core.frame.DataFrame'>\n",
      "RangeIndex: 2051 entries, 0 to 2050\n",
      "Data columns (total 78 columns):\n",
      " #   Column             Non-Null Count  Dtype  \n",
      "---  ------             --------------  -----  \n",
      " 0   MS SubClass        2051 non-null   int64  \n",
      " 1   Lot Frontage       2051 non-null   float64\n",
      " 2   Lot Area           2051 non-null   int64  \n",
      " 3   Street             2051 non-null   object \n",
      " 4   Lot Shape          2051 non-null   object \n",
      " 5   Land Contour       2051 non-null   object \n",
      " 6   Lot Config         2051 non-null   object \n",
      " 7   Condition 1        2051 non-null   object \n",
      " 8   Bldg Type          2051 non-null   object \n",
      " 9   House Style        2051 non-null   object \n",
      " 10  Overall Qual       2051 non-null   int64  \n",
      " 11  Overall Cond       2051 non-null   int64  \n",
      " 12  Year Built         2051 non-null   int64  \n",
      " 13  Year Remod/Add     2051 non-null   int64  \n",
      " 14  Mas Vnr Type       2051 non-null   object \n",
      " 15  Mas Vnr Area       2051 non-null   object \n",
      " 16  Foundation         2051 non-null   object \n",
      " 17  Bsmt Qual          2051 non-null   int64  \n",
      " 18  Bsmt Cond          2051 non-null   int64  \n",
      " 19  Bsmt Exposure      2051 non-null   object \n",
      " 20  BsmtFin Type 1     2051 non-null   object \n",
      " 21  BsmtFin SF 1       2051 non-null   object \n",
      " 22  BsmtFin SF 2       2051 non-null   object \n",
      " 23  Bsmt Unf SF        2051 non-null   object \n",
      " 24  Total Bsmt SF      2051 non-null   object \n",
      " 25  Heating            2051 non-null   object \n",
      " 26  Heating QC         2051 non-null   object \n",
      " 27  Central Air        2051 non-null   int64  \n",
      " 28  Electrical         2051 non-null   object \n",
      " 29  1st Flr SF         2051 non-null   int64  \n",
      " 30  2nd Flr SF         2051 non-null   int64  \n",
      " 31  Low Qual Fin SF    2051 non-null   int64  \n",
      " 32  Gr Liv Area        2051 non-null   int64  \n",
      " 33  Bsmt Full Bath     2051 non-null   object \n",
      " 34  Full Bath          2051 non-null   int64  \n",
      " 35  Half Bath          2051 non-null   int64  \n",
      " 36  Bedroom AbvGr      2051 non-null   int64  \n",
      " 37  Kitchen AbvGr      2051 non-null   int64  \n",
      " 38  Kitchen Qual       2051 non-null   int64  \n",
      " 39  TotRms AbvGrd      2051 non-null   int64  \n",
      " 40  Functional         2051 non-null   int64  \n",
      " 41  Fireplaces         2051 non-null   int64  \n",
      " 42  Fireplace Qu       2051 non-null   object \n",
      " 43  Garage Type        2051 non-null   object \n",
      " 44  Garage Yr Blt      2051 non-null   float64\n",
      " 45  Garage Finish      2051 non-null   int64  \n",
      " 46  Garage Cars        2051 non-null   float64\n",
      " 47  Garage Area        2051 non-null   float64\n",
      " 48  Garage Qual        2051 non-null   int64  \n",
      " 49  Garage Cond        2051 non-null   int64  \n",
      " 50  Paved Drive        2051 non-null   object \n",
      " 51  Wood Deck SF       2051 non-null   int64  \n",
      " 52  Open Porch SF      2051 non-null   int64  \n",
      " 53  Enclosed Porch     2051 non-null   int64  \n",
      " 54  3Ssn Porch         2051 non-null   int64  \n",
      " 55  Screen Porch       2051 non-null   int64  \n",
      " 56  Pool Area          2051 non-null   int64  \n",
      " 57  Pool QC            2051 non-null   int64  \n",
      " 58  Fence              2051 non-null   object \n",
      " 59  Misc Feature       2051 non-null   object \n",
      " 60  Misc Val           2051 non-null   int64  \n",
      " 61  Mo Sold            2051 non-null   int64  \n",
      " 62  Yr Sold            2051 non-null   int64  \n",
      " 63  SalePrice          2051 non-null   int64  \n",
      " 64  NeighborhoodScore  2051 non-null   int64  \n",
      " 65  isResidential      2051 non-null   int64  \n",
      " 66  roof               2051 non-null   object \n",
      " 67  Sale Type__CWD     2051 non-null   uint8  \n",
      " 68  Sale Type__Con     2051 non-null   uint8  \n",
      " 69  Sale Type__ConLD   2051 non-null   uint8  \n",
      " 70  Sale Type__ConLI   2051 non-null   uint8  \n",
      " 71  Sale Type__ConLw   2051 non-null   uint8  \n",
      " 72  Sale Type__New     2051 non-null   uint8  \n",
      " 73  Sale Type__Oth     2051 non-null   uint8  \n",
      " 74  Sale Type__WD      2051 non-null   uint8  \n",
      " 75  Ex1Score           2051 non-null   int64  \n",
      " 76  Ex2Score           2051 non-null   int64  \n",
      " 77  Exter Qual * Cond  2051 non-null   int64  \n",
      "dtypes: float64(4), int64(40), object(26), uint8(8)\n",
      "memory usage: 1.1+ MB\n"
     ]
    }
   ],
   "source": [
    "ames.info()"
   ]
  },
  {
   "cell_type": "code",
   "execution_count": 106,
   "id": "d6fbc092-5cdc-40fb-b4d1-6708e46c0a8b",
   "metadata": {},
   "outputs": [],
   "source": [
    "ames.to_pickle('../datasets/pickles/TrainForModel.pkl')"
   ]
  },
  {
   "cell_type": "markdown",
   "id": "b1b7ede6-9eca-4e5d-bcb5-1b847b1a5168",
   "metadata": {},
   "source": [
    "Fix Numeric data that I turned into object data earlier"
   ]
  },
  {
   "cell_type": "code",
   "execution_count": 105,
   "id": "2b37cc9d-ab59-4cee-96b1-3d98245b4bac",
   "metadata": {},
   "outputs": [],
   "source": [
    "def fix_numeric(column):\n",
    "\n",
    "    ames[column] = ames[column].replace('None', 0)\n",
    "    ames[column] = ames[column].apply(lambda x : float(x))\n",
    "for column in ames.columns:\n",
    "    \n",
    "    if str(ames[column].dtype) == 'object': \n",
    "        try:\n",
    "            fix_numeric(column)\n",
    "        except:\n",
    "            pass"
   ]
  },
  {
   "cell_type": "code",
   "execution_count": 104,
   "id": "e8e602a2-3ee2-4887-a3a9-871c5ab4b4ed",
   "metadata": {},
   "outputs": [
    {
     "data": {
      "text/plain": [
       "<AxesSubplot:xlabel='Bsmt Exposure', ylabel='SalePrice'>"
      ]
     },
     "execution_count": 104,
     "metadata": {},
     "output_type": "execute_result"
    },
    {
     "data": {
      "image/png": "[encoded data removed]",
      "text/plain": [
       "<Figure size 432x288 with 1 Axes>"
      ]
     },
     "metadata": {
      "needs_background": "light"
     },
     "output_type": "display_data"
    }
   ],
   "source": [
    "sns.barplot(data = ames, x ='Bsmt Exposure', y = 'SalePrice')"
   ]
  },
  {
   "cell_type": "code",
   "execution_count": null,
   "id": "32d0db24-2f33-4210-bb1d-5b77f0b03c22",
   "metadata": {},
   "outputs": [],
   "source": []
  }
 ],
 "metadata": {
  "kernelspec": {
   "display_name": "Python 3",
   "language": "python",
   "name": "python3"
  },
  "language_info": {
   "codemirror_mode": {
    "name": "ipython",
    "version": 3
   },
   "file_extension": ".py",
   "mimetype": "text/x-python",
   "name": "python",
   "nbconvert_exporter": "python",
   "pygments_lexer": "ipython3",
   "version": "3.8.8"
  }
 },
 "nbformat": 4,
 "nbformat_minor": 5
}
