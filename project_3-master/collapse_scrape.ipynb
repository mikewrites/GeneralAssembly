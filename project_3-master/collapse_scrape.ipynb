{
 "cells": [
  {
   "cell_type": "code",
   "execution_count": 12,
   "id": "a3f7ab9c-01d1-4cb6-aa7c-120825387eed",
   "metadata": {},
   "outputs": [],
   "source": [
    "import pandas as pd\n",
    "import requests"
   ]
  },
  {
   "cell_type": "code",
   "execution_count": 13,
   "id": "278a7f2b-2879-4464-864f-6170e62774fe",
   "metadata": {},
   "outputs": [],
   "source": [
    "before = ''\n",
    "comments = []\n",
    "first_run = True\n",
    "url = f'https://api.pushshift.io/reddit/search/comment?subreddit=collapse&size=100{before}'"
   ]
  },
  {
   "cell_type": "code",
   "execution_count": 14,
   "id": "64f4989f-e738-49d6-b840-6753a8239042",
   "metadata": {},
   "outputs": [],
   "source": [
    "while len(comments) <2000:\n",
    "    res = requests.get(url)\n",
    "    as_json = res.json()['data']\n",
    "    for lib in as_json:\n",
    "        if lib['body'] != '[removed]': \n",
    "            data = {'author':lib['author'],\n",
    "               'score': lib['score'], \n",
    "               'body': lib['body'],\n",
    "               'created': lib['created_utc']}\n",
    "            before = '&before={}'.format(lib['created_utc'])\n",
    "            comments.append(data)\n",
    "comments_df = pd.DataFrame(comments)"
   ]
  },
  {
   "cell_type": "code",
   "execution_count": 16,
   "id": "47ba9623-64be-4f74-88bb-7b86fc6cf022",
   "metadata": {},
   "outputs": [],
   "source": [
    "comments_df['subreddit'] = 'collapse'"
   ]
  },
  {
   "cell_type": "code",
   "execution_count": 18,
   "id": "4906faf7-6f6f-4633-9c6b-0e7f93cbff5b",
   "metadata": {},
   "outputs": [],
   "source": [
    "comments_df.to_pickle('data/collapse.pkl')"
   ]
  }
 ],
 "metadata": {
  "kernelspec": {
   "display_name": "Python 3",
   "language": "python",
   "name": "python3"
  },
  "language_info": {
   "codemirror_mode": {
    "name": "ipython",
    "version": 3
   },
   "file_extension": ".py",
   "mimetype": "text/x-python",
   "name": "python",
   "nbconvert_exporter": "python",
   "pygments_lexer": "ipython3",
   "version": "3.8.8"
  }
 },
 "nbformat": 4,
 "nbformat_minor": 5
}
