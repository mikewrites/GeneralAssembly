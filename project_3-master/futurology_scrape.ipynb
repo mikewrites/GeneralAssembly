{
 "cells": [
  {
   "cell_type": "code",
   "execution_count": 1,
   "id": "f4fa63dc-8a74-4d5c-8f8d-a0f1230e8ff7",
   "metadata": {},
   "outputs": [],
   "source": [
    "import pandas as pd\n",
    "import requests"
   ]
  },
  {
   "cell_type": "code",
   "execution_count": 3,
   "id": "eec260f5-5f1a-40ff-b18e-7897ffdb3d5b",
   "metadata": {},
   "outputs": [],
   "source": [
    "before = ''\n",
    "comments = []\n",
    "first_run = True\n",
    "url = f'https://api.pushshift.io/reddit/search/comment?subreddit=futurology&size=100{before}'"
   ]
  },
  {
   "cell_type": "code",
   "execution_count": 4,
   "id": "860262f9-6e05-4756-9bb9-c478dbfbeb5e",
   "metadata": {},
   "outputs": [],
   "source": [
    "while len(comments) <2000:\n",
    "    res = requests.get(url)\n",
    "    as_json = res.json()['data']\n",
    "    for lib in as_json:\n",
    "        if lib['body'] != '[removed]': \n",
    "            data = {'author':lib['author'],\n",
    "               'score': lib['score'], \n",
    "               'body': lib['body'],\n",
    "               'created': lib['created_utc']}\n",
    "            before = '&before={}'.format(lib['created_utc'])\n",
    "            comments.append(data)\n",
    "comments_df = pd.DataFrame(comments)"
   ]
  },
  {
   "cell_type": "code",
   "execution_count": 7,
   "id": "80f785bc-d2b7-4288-abdb-d288eaaade8d",
   "metadata": {},
   "outputs": [],
   "source": [
    "comments_df['subreddit'] = 'futurology'"
   ]
  },
  {
   "cell_type": "code",
   "execution_count": 8,
   "id": "5203e58f-aae6-4c37-8c99-06ddab4de651",
   "metadata": {},
   "outputs": [],
   "source": [
    "comments_df.to_pickle('data/futurology.pkl')"
   ]
  },
  {
   "cell_type": "code",
   "execution_count": null,
   "id": "005f5d0b-58ab-4933-aa4d-eb966a0f431f",
   "metadata": {},
   "outputs": [],
   "source": []
  }
 ],
 "metadata": {
  "kernelspec": {
   "display_name": "Python 3",
   "language": "python",
   "name": "python3"
  },
  "language_info": {
   "codemirror_mode": {
    "name": "ipython",
    "version": 3
   },
   "file_extension": ".py",
   "mimetype": "text/x-python",
   "name": "python",
   "nbconvert_exporter": "python",
   "pygments_lexer": "ipython3",
   "version": "3.8.8"
  }
 },
 "nbformat": 4,
 "nbformat_minor": 5
}
