{
 "cells": [
  {
   "cell_type": "code",
   "execution_count": 3,
   "id": "eb502903-4339-4206-9f1a-05d52584b907",
   "metadata": {},
   "outputs": [],
   "source": [
    "import bs4\n",
    "import requests"
   ]
  },
  {
   "cell_type": "code",
   "execution_count": 4,
   "id": "44220e4a-b964-4529-8904-28e048f856b7",
   "metadata": {},
   "outputs": [],
   "source": [
    "file = requests.get('https://blog.prepscholar.com/historical-percentiles-new-sat')"
   ]
  },
  {
   "cell_type": "code",
   "execution_count": 5,
   "id": "7c4e8505-cb56-48fb-876f-eaf7f1fb0b17",
   "metadata": {},
   "outputs": [],
   "source": [
    "html = file.text"
   ]
  },
  {
   "cell_type": "code",
   "execution_count": 6,
   "id": "60fee4a4-3bb2-43b6-9e97-122a08b4d5de",
   "metadata": {},
   "outputs": [],
   "source": [
    "page = bs4.BeautifulSoup(html, 'html.parser')"
   ]
  },
  {
   "cell_type": "code",
   "execution_count": 7,
   "id": "7b773dac-0305-42e8-af52-effd9b37ecb5",
   "metadata": {},
   "outputs": [],
   "source": [
    "import pandas as pd"
   ]
  },
  {
   "cell_type": "code",
   "execution_count": 8,
   "id": "05e85b07-dc0a-4473-a5b0-ecd97d25427c",
   "metadata": {},
   "outputs": [],
   "source": [
    "tables = page.findAll(\"table\")[0].find(\"tr\")\n",
    "list_header = []\n",
    "data = HTML_data = page.find_all(\"td\")[1:]\n",
    "  \n",
    "for items in tables:\n",
    "    try:\n",
    "        list_header.append(items.get_text())\n",
    "    except:\n",
    "        continue"
   ]
  },
  {
   "cell_type": "code",
   "execution_count": 9,
   "id": "8bb15f4b-398c-4851-b573-0303e484ead3",
   "metadata": {},
   "outputs": [
    {
     "data": {
      "text/plain": [
       "['SAT Composite Score',\n",
       " '\\xa02020 Percentile',\n",
       " '2019 Percentile',\n",
       " '2018 Percentile',\n",
       " '2017 Percentile',\n",
       " '2016 Percentile']"
      ]
     },
     "execution_count": 9,
     "metadata": {},
     "output_type": "execute_result"
    }
   ],
   "source": [
    "list_header"
   ]
  },
  {
   "cell_type": "code",
   "execution_count": 10,
   "id": "7dc7f18c-af8e-48f5-9b97-de56c3788033",
   "metadata": {},
   "outputs": [],
   "source": [
    "other = page.findAll(\"table\")"
   ]
  },
  {
   "cell_type": "code",
   "execution_count": 11,
   "id": "645426d0-5108-4f61-aaaa-5c3eb49c6d5d",
   "metadata": {},
   "outputs": [
    {
     "ename": "TypeError",
     "evalue": "'NoneType' object is not callable",
     "output_type": "error",
     "traceback": [
      "\u001b[0;31m---------------------------------------------------------------------------\u001b[0m",
      "\u001b[0;31mTypeError\u001b[0m                                 Traceback (most recent call last)",
      "\u001b[0;32m<ipython-input-11-a64d2567d187>\u001b[0m in \u001b[0;36m<module>\u001b[0;34m\u001b[0m\n\u001b[0;32m----> 1\u001b[0;31m \u001b[0mpd\u001b[0m\u001b[0;34m.\u001b[0m\u001b[0mread_html\u001b[0m\u001b[0;34m(\u001b[0m\u001b[0mother\u001b[0m\u001b[0;34m[\u001b[0m\u001b[0;36m0\u001b[0m\u001b[0;34m]\u001b[0m\u001b[0;34m)\u001b[0m\u001b[0;34m\u001b[0m\u001b[0;34m\u001b[0m\u001b[0m\n\u001b[0m",
      "\u001b[0;32m~/.local/lib/python3.8/site-packages/pandas/util/_decorators.py\u001b[0m in \u001b[0;36mwrapper\u001b[0;34m(*args, **kwargs)\u001b[0m\n\u001b[1;32m    309\u001b[0m                     \u001b[0mstacklevel\u001b[0m\u001b[0;34m=\u001b[0m\u001b[0mstacklevel\u001b[0m\u001b[0;34m,\u001b[0m\u001b[0;34m\u001b[0m\u001b[0;34m\u001b[0m\u001b[0m\n\u001b[1;32m    310\u001b[0m                 )\n\u001b[0;32m--> 311\u001b[0;31m             \u001b[0;32mreturn\u001b[0m \u001b[0mfunc\u001b[0m\u001b[0;34m(\u001b[0m\u001b[0;34m*\u001b[0m\u001b[0margs\u001b[0m\u001b[0;34m,\u001b[0m \u001b[0;34m**\u001b[0m\u001b[0mkwargs\u001b[0m\u001b[0;34m)\u001b[0m\u001b[0;34m\u001b[0m\u001b[0;34m\u001b[0m\u001b[0m\n\u001b[0m\u001b[1;32m    312\u001b[0m \u001b[0;34m\u001b[0m\u001b[0m\n\u001b[1;32m    313\u001b[0m         \u001b[0;32mreturn\u001b[0m \u001b[0mwrapper\u001b[0m\u001b[0;34m\u001b[0m\u001b[0;34m\u001b[0m\u001b[0m\n",
      "\u001b[0;32m~/.local/lib/python3.8/site-packages/pandas/io/html.py\u001b[0m in \u001b[0;36mread_html\u001b[0;34m(io, match, flavor, header, index_col, skiprows, attrs, parse_dates, thousands, encoding, decimal, converters, na_values, keep_default_na, displayed_only)\u001b[0m\n\u001b[1;32m   1096\u001b[0m     \u001b[0mio\u001b[0m \u001b[0;34m=\u001b[0m \u001b[0mstringify_path\u001b[0m\u001b[0;34m(\u001b[0m\u001b[0mio\u001b[0m\u001b[0;34m)\u001b[0m\u001b[0;34m\u001b[0m\u001b[0;34m\u001b[0m\u001b[0m\n\u001b[1;32m   1097\u001b[0m \u001b[0;34m\u001b[0m\u001b[0m\n\u001b[0;32m-> 1098\u001b[0;31m     return _parse(\n\u001b[0m\u001b[1;32m   1099\u001b[0m         \u001b[0mflavor\u001b[0m\u001b[0;34m=\u001b[0m\u001b[0mflavor\u001b[0m\u001b[0;34m,\u001b[0m\u001b[0;34m\u001b[0m\u001b[0;34m\u001b[0m\u001b[0m\n\u001b[1;32m   1100\u001b[0m         \u001b[0mio\u001b[0m\u001b[0;34m=\u001b[0m\u001b[0mio\u001b[0m\u001b[0;34m,\u001b[0m\u001b[0;34m\u001b[0m\u001b[0;34m\u001b[0m\u001b[0m\n",
      "\u001b[0;32m~/.local/lib/python3.8/site-packages/pandas/io/html.py\u001b[0m in \u001b[0;36m_parse\u001b[0;34m(flavor, io, match, attrs, encoding, displayed_only, **kwargs)\u001b[0m\n\u001b[1;32m    904\u001b[0m \u001b[0;34m\u001b[0m\u001b[0m\n\u001b[1;32m    905\u001b[0m         \u001b[0;32mtry\u001b[0m\u001b[0;34m:\u001b[0m\u001b[0;34m\u001b[0m\u001b[0;34m\u001b[0m\u001b[0m\n\u001b[0;32m--> 906\u001b[0;31m             \u001b[0mtables\u001b[0m \u001b[0;34m=\u001b[0m \u001b[0mp\u001b[0m\u001b[0;34m.\u001b[0m\u001b[0mparse_tables\u001b[0m\u001b[0;34m(\u001b[0m\u001b[0;34m)\u001b[0m\u001b[0;34m\u001b[0m\u001b[0;34m\u001b[0m\u001b[0m\n\u001b[0m\u001b[1;32m    907\u001b[0m         \u001b[0;32mexcept\u001b[0m \u001b[0mValueError\u001b[0m \u001b[0;32mas\u001b[0m \u001b[0mcaught\u001b[0m\u001b[0;34m:\u001b[0m\u001b[0;34m\u001b[0m\u001b[0;34m\u001b[0m\u001b[0m\n\u001b[1;32m    908\u001b[0m             \u001b[0;31m# if `io` is an io-like object, check if it's seekable\u001b[0m\u001b[0;34m\u001b[0m\u001b[0;34m\u001b[0m\u001b[0;34m\u001b[0m\u001b[0m\n",
      "\u001b[0;32m~/.local/lib/python3.8/site-packages/pandas/io/html.py\u001b[0m in \u001b[0;36mparse_tables\u001b[0;34m(self)\u001b[0m\n\u001b[1;32m    220\u001b[0m         \u001b[0mlist\u001b[0m \u001b[0mof\u001b[0m \u001b[0mparsed\u001b[0m \u001b[0;34m(\u001b[0m\u001b[0mheader\u001b[0m\u001b[0;34m,\u001b[0m \u001b[0mbody\u001b[0m\u001b[0;34m,\u001b[0m \u001b[0mfooter\u001b[0m\u001b[0;34m)\u001b[0m \u001b[0mtuples\u001b[0m \u001b[0;32mfrom\u001b[0m \u001b[0mtables\u001b[0m\u001b[0;34m.\u001b[0m\u001b[0;34m\u001b[0m\u001b[0;34m\u001b[0m\u001b[0m\n\u001b[1;32m    221\u001b[0m         \"\"\"\n\u001b[0;32m--> 222\u001b[0;31m         \u001b[0mtables\u001b[0m \u001b[0;34m=\u001b[0m \u001b[0mself\u001b[0m\u001b[0;34m.\u001b[0m\u001b[0m_parse_tables\u001b[0m\u001b[0;34m(\u001b[0m\u001b[0mself\u001b[0m\u001b[0;34m.\u001b[0m\u001b[0m_build_doc\u001b[0m\u001b[0;34m(\u001b[0m\u001b[0;34m)\u001b[0m\u001b[0;34m,\u001b[0m \u001b[0mself\u001b[0m\u001b[0;34m.\u001b[0m\u001b[0mmatch\u001b[0m\u001b[0;34m,\u001b[0m \u001b[0mself\u001b[0m\u001b[0;34m.\u001b[0m\u001b[0mattrs\u001b[0m\u001b[0;34m)\u001b[0m\u001b[0;34m\u001b[0m\u001b[0;34m\u001b[0m\u001b[0m\n\u001b[0m\u001b[1;32m    223\u001b[0m         \u001b[0;32mreturn\u001b[0m \u001b[0;34m(\u001b[0m\u001b[0mself\u001b[0m\u001b[0;34m.\u001b[0m\u001b[0m_parse_thead_tbody_tfoot\u001b[0m\u001b[0;34m(\u001b[0m\u001b[0mtable\u001b[0m\u001b[0;34m)\u001b[0m \u001b[0;32mfor\u001b[0m \u001b[0mtable\u001b[0m \u001b[0;32min\u001b[0m \u001b[0mtables\u001b[0m\u001b[0;34m)\u001b[0m\u001b[0;34m\u001b[0m\u001b[0;34m\u001b[0m\u001b[0m\n\u001b[1;32m    224\u001b[0m \u001b[0;34m\u001b[0m\u001b[0m\n",
      "\u001b[0;32m~/.local/lib/python3.8/site-packages/pandas/io/html.py\u001b[0m in \u001b[0;36m_build_doc\u001b[0;34m(self)\u001b[0m\n\u001b[1;32m    728\u001b[0m             \u001b[0;32melse\u001b[0m\u001b[0;34m:\u001b[0m\u001b[0;34m\u001b[0m\u001b[0;34m\u001b[0m\u001b[0m\n\u001b[1;32m    729\u001b[0m                 \u001b[0;31m# try to parse the input in the simplest way\u001b[0m\u001b[0;34m\u001b[0m\u001b[0;34m\u001b[0m\u001b[0;34m\u001b[0m\u001b[0m\n\u001b[0;32m--> 730\u001b[0;31m                 \u001b[0mr\u001b[0m \u001b[0;34m=\u001b[0m \u001b[0mparse\u001b[0m\u001b[0;34m(\u001b[0m\u001b[0mself\u001b[0m\u001b[0;34m.\u001b[0m\u001b[0mio\u001b[0m\u001b[0;34m,\u001b[0m \u001b[0mparser\u001b[0m\u001b[0;34m=\u001b[0m\u001b[0mparser\u001b[0m\u001b[0;34m)\u001b[0m\u001b[0;34m\u001b[0m\u001b[0;34m\u001b[0m\u001b[0m\n\u001b[0m\u001b[1;32m    731\u001b[0m             \u001b[0;32mtry\u001b[0m\u001b[0;34m:\u001b[0m\u001b[0;34m\u001b[0m\u001b[0;34m\u001b[0m\u001b[0m\n\u001b[1;32m    732\u001b[0m                 \u001b[0mr\u001b[0m \u001b[0;34m=\u001b[0m \u001b[0mr\u001b[0m\u001b[0;34m.\u001b[0m\u001b[0mgetroot\u001b[0m\u001b[0;34m(\u001b[0m\u001b[0;34m)\u001b[0m\u001b[0;34m\u001b[0m\u001b[0;34m\u001b[0m\u001b[0m\n",
      "\u001b[0;32m~/anaconda3/lib/python3.8/site-packages/lxml/html/__init__.py\u001b[0m in \u001b[0;36mparse\u001b[0;34m(filename_or_url, parser, base_url, **kw)\u001b[0m\n\u001b[1;32m    937\u001b[0m     \u001b[0;32mif\u001b[0m \u001b[0mparser\u001b[0m \u001b[0;32mis\u001b[0m \u001b[0;32mNone\u001b[0m\u001b[0;34m:\u001b[0m\u001b[0;34m\u001b[0m\u001b[0;34m\u001b[0m\u001b[0m\n\u001b[1;32m    938\u001b[0m         \u001b[0mparser\u001b[0m \u001b[0;34m=\u001b[0m \u001b[0mhtml_parser\u001b[0m\u001b[0;34m\u001b[0m\u001b[0;34m\u001b[0m\u001b[0m\n\u001b[0;32m--> 939\u001b[0;31m     \u001b[0;32mreturn\u001b[0m \u001b[0metree\u001b[0m\u001b[0;34m.\u001b[0m\u001b[0mparse\u001b[0m\u001b[0;34m(\u001b[0m\u001b[0mfilename_or_url\u001b[0m\u001b[0;34m,\u001b[0m \u001b[0mparser\u001b[0m\u001b[0;34m,\u001b[0m \u001b[0mbase_url\u001b[0m\u001b[0;34m=\u001b[0m\u001b[0mbase_url\u001b[0m\u001b[0;34m,\u001b[0m \u001b[0;34m**\u001b[0m\u001b[0mkw\u001b[0m\u001b[0;34m)\u001b[0m\u001b[0;34m\u001b[0m\u001b[0;34m\u001b[0m\u001b[0m\n\u001b[0m\u001b[1;32m    940\u001b[0m \u001b[0;34m\u001b[0m\u001b[0m\n\u001b[1;32m    941\u001b[0m \u001b[0;34m\u001b[0m\u001b[0m\n",
      "\u001b[0;32msrc/lxml/etree.pyx\u001b[0m in \u001b[0;36mlxml.etree.parse\u001b[0;34m()\u001b[0m\n",
      "\u001b[0;32msrc/lxml/parser.pxi\u001b[0m in \u001b[0;36mlxml.etree._parseDocument\u001b[0;34m()\u001b[0m\n",
      "\u001b[0;31mTypeError\u001b[0m: 'NoneType' object is not callable"
     ]
    }
   ],
   "source": [
    "pd.read_html(other[0])"
   ]
  },
  {
   "cell_type": "code",
   "execution_count": 12,
   "id": "389c57ed-1c4b-4ee0-bcf4-0236486ca322",
   "metadata": {},
   "outputs": [],
   "source": [
    "as_string = str(other[0])"
   ]
  },
  {
   "cell_type": "code",
   "execution_count": 13,
   "id": "53bb1568-e9bd-4271-9293-a17455e51918",
   "metadata": {},
   "outputs": [
    {
     "data": {
      "text/plain": [
       "'<table border=\"1px\" cellpadding=\"5px\" style=\"border-collapse: collapse;\">\\n<tbody>\\n<tr>\\n<td><strong>SAT Composite Score</strong></td>\\n<td><strong>\\xa02020 Percentile<br/></strong></td>\\n<td><strong>2019 Percentile</strong></td>\\n<td><strong>2018 Percentile</strong></td>\\n<td><strong>2017 Percentile</strong></td>\\n<td><strong>2016 Percentile</strong></td>\\n</tr>\\n<tr>\\n<td>1600</td>\\n<td>99+</td>\\n<td>99+</td>\\n<td>99+</td>\\n<td>99+</td>\\n<td>99+</td>\\n</tr>\\n<tr>\\n<td>1590</td>\\n<td>99+</td>\\n<td>99+</td>\\n<td>99+</td>\\n<td>99+</td>\\n<td>99+</td>\\n</tr>\\n<tr>\\n<td>1580</td>\\n<td>99+</td>\\n<td>99+</td>\\n<td>99+</td>\\n<td>99+</td>\\n<td>99+</td>\\n</tr>\\n<tr>\\n<td>1570</td>\\n<td>99+</td>\\n<td>99+</td>\\n<td>99+</td>\\n<td>99+</td>\\n<td>99+</td>\\n</tr>\\n<tr>\\n<td>1560</td>\\n<td>99+</td>\\n<td>99+</td>\\n<td>99+</td>\\n<td>99+</td>\\n<td>99+</td>\\n</tr>\\n<tr>\\n<td>1550</td>\\n<td>99</td>\\n<td>99+</td>\\n<td>99+</td>\\n<td>99+</td>\\n<td>99+</td>\\n</tr>\\n<tr>\\n<td>1540</td>\\n<td>99</td>\\n<td>99</td>\\n<td>99</td>\\n<td>99+</td>\\n<td>99</td>\\n</tr>\\n<tr>\\n<td>1530</td>\\n<td>99</td>\\n<td>99</td>\\n<td>99</td>\\n<td>99+</td>\\n<td>99</td>\\n</tr>\\n<tr>\\n<td>1520</td>\\n<td>99</td>\\n<td>99</td>\\n<td>99</td>\\n<td>99</td>\\n<td>99</td>\\n</tr>\\n<tr>\\n<td>1510</td>\\n<td>98</td>\\n<td>99</td>\\n<td>99</td>\\n<td>99</td>\\n<td>99</td>\\n</tr>\\n<tr>\\n<td>1500</td>\\n<td>98</td>\\n<td>98</td>\\n<td>99</td>\\n<td>99</td>\\n<td>98</td>\\n</tr>\\n<tr>\\n<td>1490</td>\\n<td>98</td>\\n<td>98</td>\\n<td>98</td>\\n<td>99</td>\\n<td>98</td>\\n</tr>\\n<tr>\\n<td>1480</td>\\n<td>97</td>\\n<td>98</td>\\n<td>98</td>\\n<td>99</td>\\n<td>98</td>\\n</tr>\\n<tr>\\n<td>1470</td>\\n<td>97</td>\\n<td>97</td>\\n<td>98</td>\\n<td>98</td>\\n<td>98</td>\\n</tr>\\n<tr>\\n<td>1460</td>\\n<td>97</td>\\n<td>97</td>\\n<td>97</td>\\n<td>98</td>\\n<td>97</td>\\n</tr>\\n<tr>\\n<td>1450</td>\\n<td>96</td>\\n<td>96</td>\\n<td>97</td>\\n<td>98</td>\\n<td>97</td>\\n</tr>\\n<tr>\\n<td>1440</td>\\n<td>96</td>\\n<td>96</td>\\n<td>96</td>\\n<td>97</td>\\n<td>96</td>\\n</tr>\\n<tr>\\n<td>1430</td>\\n<td>95</td>\\n<td>96</td>\\n<td>96</td>\\n<td>97</td>\\n<td>96</td>\\n</tr>\\n<tr>\\n<td>1420</td>\\n<td>95</td>\\n<td>95</td>\\n<td>95</td>\\n<td>96</td>\\n<td>95</td>\\n</tr>\\n<tr>\\n<td>1410</td>\\n<td>94</td>\\n<td>95</td>\\n<td>95</td>\\n<td>96</td>\\n<td>95</td>\\n</tr>\\n<tr>\\n<td>1400</td>\\n<td>94</td>\\n<td>94</td>\\n<td>94</td>\\n<td>95</td>\\n<td>94</td>\\n</tr>\\n<tr>\\n<td>1390</td>\\n<td>93</td>\\n<td>93</td>\\n<td>94</td>\\n<td>95</td>\\n<td>94</td>\\n</tr>\\n<tr>\\n<td>1380</td>\\n<td>92</td>\\n<td>93</td>\\n<td>93</td>\\n<td>94</td>\\n<td>93</td>\\n</tr>\\n<tr>\\n<td>1370</td>\\n<td>92</td>\\n<td>92</td>\\n<td>92</td>\\n<td>94</td>\\n<td>92</td>\\n</tr>\\n<tr>\\n<td>1360</td>\\n<td>91</td>\\n<td>91</td>\\n<td>92</td>\\n<td>93</td>\\n<td>91</td>\\n</tr>\\n<tr>\\n<td>1350</td>\\n<td>90</td>\\n<td>91</td>\\n<td>91</td>\\n<td>92</td>\\n<td>91</td>\\n</tr>\\n<tr>\\n<td>1340</td>\\n<td>89</td>\\n<td>90</td>\\n<td>90</td>\\n<td>91</td>\\n<td>90</td>\\n</tr>\\n<tr>\\n<td>1330</td>\\n<td>89</td>\\n<td>89</td>\\n<td>89</td>\\n<td>90</td>\\n<td>89</td>\\n</tr>\\n<tr>\\n<td>1320</td>\\n<td>88</td>\\n<td>88</td>\\n<td>88</td>\\n<td>90</td>\\n<td>88</td>\\n</tr>\\n<tr>\\n<td>1310</td>\\n<td>87</td>\\n<td>87</td>\\n<td>88</td>\\n<td>89</td>\\n<td>87</td>\\n</tr>\\n<tr>\\n<td>1300</td>\\n<td>86</td>\\n<td>86</td>\\n<td>87</td>\\n<td>88</td>\\n<td>86</td>\\n</tr>\\n<tr>\\n<td>1290</td>\\n<td>85</td>\\n<td>85</td>\\n<td>86</td>\\n<td>87</td>\\n<td>85</td>\\n</tr>\\n<tr>\\n<td>1280</td>\\n<td>84</td>\\n<td>84</td>\\n<td>84</td>\\n<td>86</td>\\n<td>83</td>\\n</tr>\\n<tr>\\n<td>1270</td>\\n<td>83</td>\\n<td>83</td>\\n<td>83</td>\\n<td>85</td>\\n<td>82</td>\\n</tr>\\n<tr>\\n<td>1260</td>\\n<td>82</td>\\n<td>82</td>\\n<td>82</td>\\n<td>83</td>\\n<td>81</td>\\n</tr>\\n<tr>\\n<td>1250</td>\\n<td>81</td>\\n<td>81</td>\\n<td>81</td>\\n<td>82</td>\\n<td>80</td>\\n</tr>\\n<tr>\\n<td>1240</td>\\n<td>80</td>\\n<td>80</td>\\n<td>80</td>\\n<td>81</td>\\n<td>78</td>\\n</tr>\\n<tr>\\n<td>1230</td>\\n<td>78</td>\\n<td>78</td>\\n<td>79</td>\\n<td>80</td>\\n<td>77</td>\\n</tr>\\n<tr>\\n<td>1220</td>\\n<td>77</td>\\n<td>77</td>\\n<td>77</td>\\n<td>78</td>\\n<td>76</td>\\n</tr>\\n<tr>\\n<td>1210</td>\\n<td>76</td>\\n<td>76</td>\\n<td>76</td>\\n<td>77</td>\\n<td>74</td>\\n</tr>\\n<tr>\\n<td>1200</td>\\n<td>74</td>\\n<td>74</td>\\n<td>74</td>\\n<td>76</td>\\n<td>72</td>\\n</tr>\\n<tr>\\n<td>1190</td>\\n<td>73</td>\\n<td>73</td>\\n<td>73</td>\\n<td>74</td>\\n<td>71</td>\\n</tr>\\n<tr>\\n<td>1180</td>\\n<td>72</td>\\n<td>72</td>\\n<td>72</td>\\n<td>73</td>\\n<td>69</td>\\n</tr>\\n<tr>\\n<td>1170</td>\\n<td>70</td>\\n<td>70</td>\\n<td>70</td>\\n<td>71</td>\\n<td>67</td>\\n</tr>\\n<tr>\\n<td>1160</td>\\n<td>69</td>\\n<td>68</td>\\n<td>68</td>\\n<td>69</td>\\n<td>65</td>\\n</tr>\\n<tr>\\n<td>1150</td>\\n<td>67</td>\\n<td>67</td>\\n<td>67</td>\\n<td>68</td>\\n<td>64</td>\\n</tr>\\n<tr>\\n<td>1140</td>\\n<td>66</td>\\n<td>65</td>\\n<td>65</td>\\n<td>66</td>\\n<td>62</td>\\n</tr>\\n<tr>\\n<td>1130</td>\\n<td>64</td>\\n<td>64</td>\\n<td>63</td>\\n<td>64</td>\\n<td>60</td>\\n</tr>\\n<tr>\\n<td>1120</td>\\n<td>62</td>\\n<td>62</td>\\n<td>62</td>\\n<td>63</td>\\n<td>58</td>\\n</tr>\\n<tr>\\n<td>1110</td>\\n<td>61</td>\\n<td>60</td>\\n<td>60</td>\\n<td>61</td>\\n<td>57</td>\\n</tr>\\n<tr>\\n<td>1100</td>\\n<td>59</td>\\n<td>58</td>\\n<td>58</td>\\n<td>59</td>\\n<td>55</td>\\n</tr>\\n<tr>\\n<td>1090</td>\\n<td>57</td>\\n<td>57</td>\\n<td>56</td>\\n<td>57</td>\\n<td>52</td>\\n</tr>\\n<tr>\\n<td>1080</td>\\n<td>55</td>\\n<td>55</td>\\n<td>54</td>\\n<td>55</td>\\n<td>50</td>\\n</tr>\\n<tr>\\n<td>1070</td>\\n<td>54</td>\\n<td>53</td>\\n<td>52</td>\\n<td>53</td>\\n<td>48</td>\\n</tr>\\n<tr>\\n<td>1060</td>\\n<td>52</td>\\n<td>51</td>\\n<td>51</td>\\n<td>51</td>\\n<td>46</td>\\n</tr>\\n<tr>\\n<td>1050</td>\\n<td>50</td>\\n<td>49</td>\\n<td>49</td>\\n<td>49</td>\\n<td>44</td>\\n</tr>\\n<tr>\\n<td>1040</td>\\n<td>48</td>\\n<td>47</td>\\n<td>47</td>\\n<td>47</td>\\n<td>42</td>\\n</tr>\\n<tr>\\n<td>1030</td>\\n<td>46</td>\\n<td>46</td>\\n<td>45</td>\\n<td>45</td>\\n<td>40</td>\\n</tr>\\n<tr>\\n<td>1020</td>\\n<td>45</td>\\n<td>44</td>\\n<td>43</td>\\n<td>43</td>\\n<td>38</td>\\n</tr>\\n<tr>\\n<td>1010</td>\\n<td>43</td>\\n<td>42</td>\\n<td>41</td>\\n<td>41</td>\\n<td>36</td>\\n</tr>\\n<tr>\\n<td>1000</td>\\n<td>41</td>\\n<td>40</td>\\n<td>39</td>\\n<td>40</td>\\n<td>34</td>\\n</tr>\\n<tr>\\n<td>990</td>\\n<td>39</td>\\n<td>38</td>\\n<td>37</td>\\n<td>38</td>\\n<td>32</td>\\n</tr>\\n<tr>\\n<td>980</td>\\n<td>38</td>\\n<td>36</td>\\n<td>36</td>\\n<td>36</td>\\n<td>30</td>\\n</tr>\\n<tr>\\n<td>970</td>\\n<td>36</td>\\n<td>35</td>\\n<td>34</td>\\n<td>34</td>\\n<td>29</td>\\n</tr>\\n<tr>\\n<td>960</td>\\n<td>34</td>\\n<td>33</td>\\n<td>32</td>\\n<td>32</td>\\n<td>27</td>\\n</tr>\\n<tr>\\n<td>950</td>\\n<td>33</td>\\n<td>31</td>\\n<td>31</td>\\n<td>31</td>\\n<td>25</td>\\n</tr>\\n<tr>\\n<td>940</td>\\n<td>31</td>\\n<td>30</td>\\n<td>29</td>\\n<td>29</td>\\n<td>24</td>\\n</tr>\\n<tr>\\n<td>930</td>\\n<td>29</td>\\n<td>28</td>\\n<td>27</td>\\n<td>27</td>\\n<td>22</td>\\n</tr>\\n<tr>\\n<td>920</td>\\n<td>28</td>\\n<td>27</td>\\n<td>26</td>\\n<td>26</td>\\n<td>20</td>\\n</tr>\\n<tr>\\n<td>910</td>\\n<td>26</td>\\n<td>25</td>\\n<td>24</td>\\n<td>24</td>\\n<td>19</td>\\n</tr>\\n<tr>\\n<td>900</td>\\n<td>25</td>\\n<td>23</td>\\n<td>23</td>\\n<td>22</td>\\n<td>18</td>\\n</tr>\\n<tr>\\n<td>890</td>\\n<td>23</td>\\n<td>22</td>\\n<td>21</td>\\n<td>21</td>\\n<td>16</td>\\n</tr>\\n<tr>\\n<td>880</td>\\n<td>22</td>\\n<td>20</td>\\n<td>20</td>\\n<td>19</td>\\n<td>15</td>\\n</tr>\\n<tr>\\n<td>870</td>\\n<td>20</td>\\n<td>19</td>\\n<td>18</td>\\n<td>18</td>\\n<td>14</td>\\n</tr>\\n<tr>\\n<td>860</td>\\n<td>19</td>\\n<td>18</td>\\n<td>17</td>\\n<td>17</td>\\n<td>13</td>\\n</tr>\\n<tr>\\n<td>850</td>\\n<td>18</td>\\n<td>16</td>\\n<td>15</td>\\n<td>15</td>\\n<td>12</td>\\n</tr>\\n<tr>\\n<td>840</td>\\n<td>16</td>\\n<td>15</td>\\n<td>14</td>\\n<td>14</td>\\n<td>11</td>\\n</tr>\\n<tr>\\n<td>830</td>\\n<td>15</td>\\n<td>14</td>\\n<td>13</td>\\n<td>13</td>\\n<td>10</td>\\n</tr>\\n<tr>\\n<td>820</td>\\n<td>14</td>\\n<td>13</td>\\n<td>12</td>\\n<td>12</td>\\n<td>9</td>\\n</tr>\\n<tr>\\n<td>810</td>\\n<td>12</td>\\n<td>11</td>\\n<td>11</td>\\n<td>11</td>\\n<td>8</td>\\n</tr>\\n<tr>\\n<td>800</td>\\n<td>11</td>\\n<td>10</td>\\n<td>10</td>\\n<td>9</td>\\n<td>7</td>\\n</tr>\\n<tr>\\n<td>790</td>\\n<td>10</td>\\n<td>9</td>\\n<td>9</td>\\n<td>8</td>\\n<td>7</td>\\n</tr>\\n<tr>\\n<td>780</td>\\n<td>9</td>\\n<td>8</td>\\n<td>8</td>\\n<td>8</td>\\n<td>6</td>\\n</tr>\\n<tr>\\n<td>770</td>\\n<td>8</td>\\n<td>7</td>\\n<td>7</td>\\n<td>7</td>\\n<td>5</td>\\n</tr>\\n<tr>\\n<td>760</td>\\n<td>7</td>\\n<td>6</td>\\n<td>6</td>\\n<td>6</td>\\n<td>4</td>\\n</tr>\\n<tr>\\n<td>750</td>\\n<td>6</td>\\n<td>5</td>\\n<td>5</td>\\n<td>5</td>\\n<td>4</td>\\n</tr>\\n<tr>\\n<td>740</td>\\n<td>5</td>\\n<td>5</td>\\n<td>4</td>\\n<td>4</td>\\n<td>3</td>\\n</tr>\\n<tr>\\n<td>730</td>\\n<td>5</td>\\n<td>4</td>\\n<td>4</td>\\n<td>4</td>\\n<td>3</td>\\n</tr>\\n<tr>\\n<td>720</td>\\n<td>4</td>\\n<td>3</td>\\n<td>3</td>\\n<td>3</td>\\n<td>2</td>\\n</tr>\\n<tr>\\n<td>710</td>\\n<td>3</td>\\n<td>3</td>\\n<td>3</td>\\n<td>3</td>\\n<td>2</td>\\n</tr>\\n<tr>\\n<td>700</td>\\n<td>3</td>\\n<td>2</td>\\n<td>2</td>\\n<td>2</td>\\n<td>2</td>\\n</tr>\\n<tr>\\n<td>690</td>\\n<td>2</td>\\n<td>2</td>\\n<td>2</td>\\n<td>2</td>\\n<td>2</td>\\n</tr>\\n<tr>\\n<td>680</td>\\n<td>2</td>\\n<td>1</td>\\n<td>1</td>\\n<td>1</td>\\n<td>1</td>\\n</tr>\\n<tr>\\n<td>670</td>\\n<td>1</td>\\n<td>1</td>\\n<td>1</td>\\n<td>1</td>\\n<td>1</td>\\n</tr>\\n<tr>\\n<td>660</td>\\n<td>1</td>\\n<td>1</td>\\n<td>1</td>\\n<td>1</td>\\n<td>1</td>\\n</tr>\\n<tr>\\n<td>650</td>\\n<td>1</td>\\n<td>1</td>\\n<td>1</td>\\n<td>1</td>\\n<td>1</td>\\n</tr>\\n<tr>\\n<td>640</td>\\n<td>1</td>\\n<td>1</td>\\n<td>1</td>\\n<td>1</td>\\n<td>1-</td>\\n</tr>\\n<tr>\\n<td>630</td>\\n<td>1</td>\\n<td>1-</td>\\n<td>1-</td>\\n<td>1-</td>\\n<td>1-</td>\\n</tr>\\n<tr>\\n<td>620</td>\\n<td>1-</td>\\n<td>1-</td>\\n<td>1-</td>\\n<td>1-</td>\\n<td>1-</td>\\n</tr>\\n<tr>\\n<td>610</td>\\n<td>1-</td>\\n<td>1-</td>\\n<td>1-</td>\\n<td>1-</td>\\n<td>1-</td>\\n</tr>\\n<tr>\\n<td>600 and below</td>\\n<td>1-</td>\\n<td>1-</td>\\n<td>1-</td>\\n<td>1-</td>\\n<td>1-</td>\\n</tr>\\n</tbody>\\n</table>'"
      ]
     },
     "execution_count": 13,
     "metadata": {},
     "output_type": "execute_result"
    }
   ],
   "source": [
    "as_string"
   ]
  },
  {
   "cell_type": "code",
   "execution_count": 14,
   "id": "8f3bd1d6-67ed-4f04-a712-9d316d0413ba",
   "metadata": {},
   "outputs": [
    {
     "data": {
      "text/html": [
       "<div>\n",
       "<style scoped>\n",
       "    .dataframe tbody tr th:only-of-type {\n",
       "        vertical-align: middle;\n",
       "    }\n",
       "\n",
       "    .dataframe tbody tr th {\n",
       "        vertical-align: top;\n",
       "    }\n",
       "\n",
       "    .dataframe thead th {\n",
       "        text-align: right;\n",
       "    }\n",
       "</style>\n",
       "<table border=\"1\" class=\"dataframe\">\n",
       "  <thead>\n",
       "    <tr style=\"text-align: right;\">\n",
       "      <th></th>\n",
       "      <th>0</th>\n",
       "      <th>1</th>\n",
       "      <th>2</th>\n",
       "      <th>3</th>\n",
       "      <th>4</th>\n",
       "      <th>5</th>\n",
       "    </tr>\n",
       "  </thead>\n",
       "  <tbody>\n",
       "    <tr>\n",
       "      <th>0</th>\n",
       "      <td>SAT Composite Score</td>\n",
       "      <td>2020 Percentile</td>\n",
       "      <td>2019 Percentile</td>\n",
       "      <td>2018 Percentile</td>\n",
       "      <td>2017 Percentile</td>\n",
       "      <td>2016 Percentile</td>\n",
       "    </tr>\n",
       "    <tr>\n",
       "      <th>1</th>\n",
       "      <td>1600</td>\n",
       "      <td>99+</td>\n",
       "      <td>99+</td>\n",
       "      <td>99+</td>\n",
       "      <td>99+</td>\n",
       "      <td>99+</td>\n",
       "    </tr>\n",
       "    <tr>\n",
       "      <th>2</th>\n",
       "      <td>1590</td>\n",
       "      <td>99+</td>\n",
       "      <td>99+</td>\n",
       "      <td>99+</td>\n",
       "      <td>99+</td>\n",
       "      <td>99+</td>\n",
       "    </tr>\n",
       "    <tr>\n",
       "      <th>3</th>\n",
       "      <td>1580</td>\n",
       "      <td>99+</td>\n",
       "      <td>99+</td>\n",
       "      <td>99+</td>\n",
       "      <td>99+</td>\n",
       "      <td>99+</td>\n",
       "    </tr>\n",
       "    <tr>\n",
       "      <th>4</th>\n",
       "      <td>1570</td>\n",
       "      <td>99+</td>\n",
       "      <td>99+</td>\n",
       "      <td>99+</td>\n",
       "      <td>99+</td>\n",
       "      <td>99+</td>\n",
       "    </tr>\n",
       "    <tr>\n",
       "      <th>...</th>\n",
       "      <td>...</td>\n",
       "      <td>...</td>\n",
       "      <td>...</td>\n",
       "      <td>...</td>\n",
       "      <td>...</td>\n",
       "      <td>...</td>\n",
       "    </tr>\n",
       "    <tr>\n",
       "      <th>97</th>\n",
       "      <td>640</td>\n",
       "      <td>1</td>\n",
       "      <td>1</td>\n",
       "      <td>1</td>\n",
       "      <td>1</td>\n",
       "      <td>1-</td>\n",
       "    </tr>\n",
       "    <tr>\n",
       "      <th>98</th>\n",
       "      <td>630</td>\n",
       "      <td>1</td>\n",
       "      <td>1-</td>\n",
       "      <td>1-</td>\n",
       "      <td>1-</td>\n",
       "      <td>1-</td>\n",
       "    </tr>\n",
       "    <tr>\n",
       "      <th>99</th>\n",
       "      <td>620</td>\n",
       "      <td>1-</td>\n",
       "      <td>1-</td>\n",
       "      <td>1-</td>\n",
       "      <td>1-</td>\n",
       "      <td>1-</td>\n",
       "    </tr>\n",
       "    <tr>\n",
       "      <th>100</th>\n",
       "      <td>610</td>\n",
       "      <td>1-</td>\n",
       "      <td>1-</td>\n",
       "      <td>1-</td>\n",
       "      <td>1-</td>\n",
       "      <td>1-</td>\n",
       "    </tr>\n",
       "    <tr>\n",
       "      <th>101</th>\n",
       "      <td>600 and below</td>\n",
       "      <td>1-</td>\n",
       "      <td>1-</td>\n",
       "      <td>1-</td>\n",
       "      <td>1-</td>\n",
       "      <td>1-</td>\n",
       "    </tr>\n",
       "  </tbody>\n",
       "</table>\n",
       "<p>102 rows × 6 columns</p>\n",
       "</div>"
      ],
      "text/plain": [
       "                       0                1                2                3  \\\n",
       "0    SAT Composite Score  2020 Percentile  2019 Percentile  2018 Percentile   \n",
       "1                   1600              99+              99+              99+   \n",
       "2                   1590              99+              99+              99+   \n",
       "3                   1580              99+              99+              99+   \n",
       "4                   1570              99+              99+              99+   \n",
       "..                   ...              ...              ...              ...   \n",
       "97                   640                1                1                1   \n",
       "98                   630                1               1-               1-   \n",
       "99                   620               1-               1-               1-   \n",
       "100                  610               1-               1-               1-   \n",
       "101        600 and below               1-               1-               1-   \n",
       "\n",
       "                   4                5  \n",
       "0    2017 Percentile  2016 Percentile  \n",
       "1                99+              99+  \n",
       "2                99+              99+  \n",
       "3                99+              99+  \n",
       "4                99+              99+  \n",
       "..               ...              ...  \n",
       "97                 1               1-  \n",
       "98                1-               1-  \n",
       "99                1-               1-  \n",
       "100               1-               1-  \n",
       "101               1-               1-  \n",
       "\n",
       "[102 rows x 6 columns]"
      ]
     },
     "metadata": {},
     "output_type": "display_data"
    }
   ],
   "source": [
    "good = pd.read_html(as_string)\n",
    "display(good[0])"
   ]
  },
  {
   "cell_type": "code",
   "execution_count": 15,
   "id": "a4cbd48b-c343-408c-96a5-8004432bfae3",
   "metadata": {},
   "outputs": [],
   "source": [
    "good[0].to_csv('../data/sat_percentiles')"
   ]
  }
 ],
 "metadata": {
  "kernelspec": {
   "display_name": "Python 3",
   "language": "python",
   "name": "python3"
  },
  "language_info": {
   "codemirror_mode": {
    "name": "ipython",
    "version": 3
   },
   "file_extension": ".py",
   "mimetype": "text/x-python",
   "name": "python",
   "nbconvert_exporter": "python",
   "pygments_lexer": "ipython3",
   "version": "3.8.8"
  }
 },
 "nbformat": 4,
 "nbformat_minor": 5
}
