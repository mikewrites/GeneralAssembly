{
 "cells": [
  {
   "cell_type": "markdown",
   "id": "2e9ed2b7-d8f2-47bc-a772-6ae3946368f5",
   "metadata": {},
   "source": [
    "This one's much cleaner because I'm just doing the same thing I did with the sat data"
   ]
  },
  {
   "cell_type": "code",
   "execution_count": 1,
   "id": "f687119d-2631-462f-b2af-ef86d7384a2d",
   "metadata": {},
   "outputs": [],
   "source": [
    "import requests\n",
    "import os\n",
    "import bs4\n",
    "import pandas as pd\n",
    "import numpy as np"
   ]
  },
  {
   "cell_type": "code",
   "execution_count": 2,
   "id": "3e299d84-f165-419c-b1ba-418a714ebae2",
   "metadata": {},
   "outputs": [],
   "source": [
    "file = requests.get('https://blog.prepscholar.com/historical-act-percentiles-2020-2019-2018-2017-2016')\n",
    "html = file.text\n",
    "page = bs4.BeautifulSoup(html, 'html.parser')\n",
    "tables = page.findAll(\"table\")\n",
    "as_str = str(tables[0])"
   ]
  },
  {
   "cell_type": "code",
   "execution_count": 3,
   "id": "e795ffb4-6c3c-4f36-a77a-d1c2f1dd3367",
   "metadata": {},
   "outputs": [],
   "source": [
    "cleaner  = pd.read_html(as_str)\n",
    "cleaner[0].to_csv('../data/act_percentiles.csv')"
   ]
  },
  {
   "cell_type": "code",
   "execution_count": null,
   "id": "d1d96e2f-e604-44d4-b743-6d3adb7b3db5",
   "metadata": {},
   "outputs": [],
   "source": []
  },
  {
   "cell_type": "code",
   "execution_count": null,
   "id": "d83a91c7-f50b-428d-bd0c-ce2884812790",
   "metadata": {},
   "outputs": [],
   "source": []
  }
 ],
 "metadata": {
  "kernelspec": {
   "display_name": "Python 3",
   "language": "python",
   "name": "python3"
  },
  "language_info": {
   "codemirror_mode": {
    "name": "ipython",
    "version": 3
   },
   "file_extension": ".py",
   "mimetype": "text/x-python",
   "name": "python",
   "nbconvert_exporter": "python",
   "pygments_lexer": "ipython3",
   "version": "3.8.8"
  }
 },
 "nbformat": 4,
 "nbformat_minor": 5
}
