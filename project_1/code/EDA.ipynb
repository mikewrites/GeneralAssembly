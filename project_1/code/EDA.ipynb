{
 "cells": [
  {
   "cell_type": "markdown",
   "id": "b92c0209-8453-467b-9bd4-cdb4547c2f5e",
   "metadata": {},
   "source": [
    "# Pt. 1 Initial intro to the datasets"
   ]
  },
  {
   "cell_type": "code",
   "execution_count": 3,
   "id": "e0fe194e-d7f5-416d-92f3-069f1f20ea99",
   "metadata": {},
   "outputs": [],
   "source": [
    "import numpy as np\n",
    "import matplotlib.pyplot as plt\n",
    "import pandas as pd\n",
    "import seaborn as sns\n",
    "import dash\n",
    "import os\n"
   ]
  },
  {
   "cell_type": "code",
   "execution_count": 14,
   "id": "fbf06ef4-6385-4c2a-bc0c-66dfd466a3aa",
   "metadata": {},
   "outputs": [],
   "source": [
    "first_impression = {}\n",
    "filenames = os.listdir('../data')"
   ]
  },
  {
   "cell_type": "code",
   "execution_count": 15,
   "id": "e521b518-2159-41fa-9355-5c3d847a0402",
   "metadata": {},
   "outputs": [
    {
     "data": {
      "text/plain": [
       "['sat_2019.csv',\n",
       " 'act_2018.csv',\n",
       " 'act_2019_ca.csv',\n",
       " 'sat_act_by_college.csv',\n",
       " 'act_2019.csv',\n",
       " 'sat_2019_by_intended_college_major.csv',\n",
       " 'sat_2017.csv',\n",
       " 'sat_2019_ca.csv',\n",
       " 'act_2017.csv',\n",
       " 'sat_2018.csv']"
      ]
     },
     "execution_count": 15,
     "metadata": {},
     "output_type": "execute_result"
    }
   ],
   "source": [
    "filenames"
   ]
  },
  {
   "cell_type": "code",
   "execution_count": 26,
   "id": "6b9785b2-7858-4e05-8d23-4e0ea24ab022",
   "metadata": {},
   "outputs": [],
   "source": [
    "first_impression = {file : pd.read_csv(f\"../data/{file}\") for file in filenames}"
   ]
  },
  {
   "cell_type": "code",
   "execution_count": 33,
   "id": "4a9106a6-5590-48b2-92d8-45d9126bd0c7",
   "metadata": {},
   "outputs": [
    {
     "name": "stdout",
     "output_type": "stream",
     "text": [
      "Index(['State', 'Participation', 'Evidence-Based Reading and Writing', 'Math',\n",
      "       'Total'],\n",
      "      dtype='object')\n",
      "Index(['State', 'Participation', 'Evidence-Based Reading and Writing', 'Math',\n",
      "       'Total'],\n",
      "      dtype='object')\n",
      "Index(['State', 'Participation Rate', 'EBRW', 'Math', 'Total'], dtype='object')\n"
     ]
    }
   ],
   "source": [
    "##ok lets narrow i down a bit\n",
    "\n",
    "for year in range(2017, 2020):\n",
    "    key = f'sat_{year}.csv'\n",
    "    print(first_impression[key].columns)"
   ]
  },
  {
   "cell_type": "code",
   "execution_count": 40,
   "id": "c761fd9f-4c67-4fe9-b1cc-140e090308be",
   "metadata": {},
   "outputs": [],
   "source": [
    "#so SAT dfs all have the same catagories, except that one that needs to be renamed, im not really manipulating the data yet, but lets fix that\n",
    "first_impression[key].rename({'EBRW': 'Evidence-Based Reading and Writing'}, axis = 1, inplace = True)\n",
    "\n"
   ]
  },
  {
   "cell_type": "code",
   "execution_count": 42,
   "id": "52667bd5-8077-49ac-88ab-e8d55304155f",
   "metadata": {},
   "outputs": [
    {
     "name": "stdout",
     "output_type": "stream",
     "text": [
      "Index(['State', 'Participation', 'English', 'Math', 'Reading', 'Science',\n",
      "       'Composite'],\n",
      "      dtype='object')\n",
      "Index(['State', 'Participation', 'Composite'], dtype='object')\n",
      "Index(['State', 'Participation', 'Composite'], dtype='object')\n"
     ]
    }
   ],
   "source": [
    "#repeat for ACT \n",
    "for year in range(2017, 2020):\n",
    "    key = f'act_{year}.csv'\n",
    "    print(first_impression[key].columns)"
   ]
  },
  {
   "cell_type": "code",
   "execution_count": 46,
   "id": "c1fa9b07-98b5-4659-a263-05ff880c44cf",
   "metadata": {},
   "outputs": [
    {
     "name": "stdout",
     "output_type": "stream",
     "text": [
      "act\n",
      "(52, 7)\n",
      "(52, 3)\n",
      "(52, 3)\n",
      "sat\n",
      "(51, 5)\n",
      "(51, 5)\n",
      "(53, 5)\n"
     ]
    }
   ],
   "source": [
    "#im hoping we have all 50 states for both tests. quickest way to check:\n",
    "tests = ['act','sat']\n",
    "for test in tests:\n",
    "    print(test)\n",
    "    for year in range(2017, 2020):\n",
    "        key = f\"{test}_{year}.csv\"\n",
    "        print(first_impression[key].shape)"
   ]
  },
  {
   "cell_type": "code",
   "execution_count": 44,
   "id": "6783f924-f167-4f01-bec9-4203a68284bd",
   "metadata": {},
   "outputs": [
    {
     "data": {
      "text/plain": [
       "<bound method NDFrame.head of                                     School Test Optional?  \\\n",
       "0                      Stanford University            Yes   \n",
       "1                          Harvard College            Yes   \n",
       "2                     Princeton University            Yes   \n",
       "3                      Columbia University            Yes   \n",
       "4                          Yale University            Yes   \n",
       "..                                     ...            ...   \n",
       "411  University of Texas Rio Grande Valley             No   \n",
       "412             University of South Dakota             No   \n",
       "413              University of Mississippi             No   \n",
       "414                  University of Wyoming             No   \n",
       "415            University of Texas El Paso             No   \n",
       "\n",
       "    Applies to Class Year(s)  \\\n",
       "0                       2021   \n",
       "1                       2021   \n",
       "2                       2021   \n",
       "3                       2021   \n",
       "4                       2021   \n",
       "..                       ...   \n",
       "411                      NaN   \n",
       "412                      NaN   \n",
       "413                      NaN   \n",
       "414                      NaN   \n",
       "415                      NaN   \n",
       "\n",
       "                                        Policy Details  Number of Applicants  \\\n",
       "0    Stanford has adopted a one-year test optional ...                 47452   \n",
       "1    Harvard has adopted a one-year test optional p...                 42749   \n",
       "2    Princeton has adopted a one-year test optional...                 35370   \n",
       "3    Columbia has adopted a one-year test optional ...                 40203   \n",
       "4    Yale has adopted a one-year test optional poli...                 36844   \n",
       "..                                                 ...                   ...   \n",
       "411  University of Texas Rio Grande Valley requires...                 10680   \n",
       "412  Unviersity of South Dakota requires either the...                  4434   \n",
       "413  Ole Miss requires either the SAT or ACT. It do...                 15371   \n",
       "414  University of Wyoming requires either the SAT ...                  5348   \n",
       "415  UTEP requires either the SAT or ACT. It does n...                  7157   \n",
       "\n",
       "    Accept Rate SAT Total 25th-75th Percentile ACT Total 25th-75th Percentile  \n",
       "0          4.3%                      1440-1570                          32-35  \n",
       "1          4.7%                      1460-1580                          33-35  \n",
       "2          5.5%                      1440-1570                          32-35  \n",
       "3          5.5%                      1450-1560                          33-35  \n",
       "4          6.1%                      1460-1570                          33-35  \n",
       "..          ...                            ...                            ...  \n",
       "411       79.8%                       950-1130                          17-22  \n",
       "412       86.4%                       990-1180                          19-25  \n",
       "413       88.1%                      1050-1270                          21-29  \n",
       "414       96.0%                      1060-1280                          22-28  \n",
       "415       99.9%                       820-1050                          17-23  \n",
       "\n",
       "[416 rows x 8 columns]>"
      ]
     },
     "execution_count": 44,
     "metadata": {},
     "output_type": "execute_result"
    }
   ],
   "source": [
    "#and what else do we have\n",
    "first_impression['sat_act_by_college.csv'].head"
   ]
  },
  {
   "cell_type": "markdown",
   "id": "e4f1049f-c9bd-426b-aed9-490dab407ba9",
   "metadata": {},
   "source": [
    "## PLease see my starter-code, the cleaning_DFs, act_cleaning and sat_cleaning notebooks for info about getting the data prepaared. This noebook will focus on the Explaoratory Data Analysis)"
   ]
  },
  {
   "cell_type": "code",
   "execution_count": 26,
   "id": "7c84459c-d8be-412e-9018-ce6486fccbc7",
   "metadata": {},
   "outputs": [],
   "source": [
    "sat_2017 = pd.read_pickle(\"../data/2017_sat.pkl\")\n"
   ]
  },
  {
   "cell_type": "code",
   "execution_count": 27,
   "id": "7c56a946-45f1-462b-8a85-252312ea173b",
   "metadata": {},
   "outputs": [],
   "source": [
    "s = sat_2017.sort_values(by = 'participation', ascending = False).head(10)"
   ]
  },
  {
   "cell_type": "code",
   "execution_count": 28,
   "id": "3ad36a0e-8bb2-4373-8f43-178e1c8021af",
   "metadata": {},
   "outputs": [
    {
     "data": {
      "text/html": [
       "<div>\n",
       "<style scoped>\n",
       "    .dataframe tbody tr th:only-of-type {\n",
       "        vertical-align: middle;\n",
       "    }\n",
       "\n",
       "    .dataframe tbody tr th {\n",
       "        vertical-align: top;\n",
       "    }\n",
       "\n",
       "    .dataframe thead th {\n",
       "        text-align: right;\n",
       "    }\n",
       "</style>\n",
       "<table border=\"1\" class=\"dataframe\">\n",
       "  <thead>\n",
       "    <tr style=\"text-align: right;\">\n",
       "      <th></th>\n",
       "      <th>state</th>\n",
       "      <th>participation</th>\n",
       "      <th>evidence-based_reading_and_writing</th>\n",
       "      <th>math</th>\n",
       "      <th>composite</th>\n",
       "      <th>year</th>\n",
       "      <th>rounded</th>\n",
       "      <th>percentile</th>\n",
       "    </tr>\n",
       "  </thead>\n",
       "  <tbody>\n",
       "    <tr>\n",
       "      <th>8</th>\n",
       "      <td>District of Columbia</td>\n",
       "      <td>1.00</td>\n",
       "      <td>482</td>\n",
       "      <td>468</td>\n",
       "      <td>950</td>\n",
       "      <td>2017</td>\n",
       "      <td>950.0</td>\n",
       "      <td>0</td>\n",
       "    </tr>\n",
       "    <tr>\n",
       "      <th>22</th>\n",
       "      <td>Michigan</td>\n",
       "      <td>1.00</td>\n",
       "      <td>509</td>\n",
       "      <td>495</td>\n",
       "      <td>1005</td>\n",
       "      <td>2017</td>\n",
       "      <td>1000.0</td>\n",
       "      <td>0</td>\n",
       "    </tr>\n",
       "    <tr>\n",
       "      <th>6</th>\n",
       "      <td>Connecticut</td>\n",
       "      <td>1.00</td>\n",
       "      <td>530</td>\n",
       "      <td>512</td>\n",
       "      <td>1041</td>\n",
       "      <td>2017</td>\n",
       "      <td>1040.0</td>\n",
       "      <td>0</td>\n",
       "    </tr>\n",
       "    <tr>\n",
       "      <th>7</th>\n",
       "      <td>Delaware</td>\n",
       "      <td>1.00</td>\n",
       "      <td>503</td>\n",
       "      <td>492</td>\n",
       "      <td>996</td>\n",
       "      <td>2017</td>\n",
       "      <td>1000.0</td>\n",
       "      <td>0</td>\n",
       "    </tr>\n",
       "    <tr>\n",
       "      <th>29</th>\n",
       "      <td>New Hampshire</td>\n",
       "      <td>0.96</td>\n",
       "      <td>532</td>\n",
       "      <td>520</td>\n",
       "      <td>1052</td>\n",
       "      <td>2017</td>\n",
       "      <td>1050.0</td>\n",
       "      <td>0</td>\n",
       "    </tr>\n",
       "    <tr>\n",
       "      <th>19</th>\n",
       "      <td>Maine</td>\n",
       "      <td>0.95</td>\n",
       "      <td>513</td>\n",
       "      <td>499</td>\n",
       "      <td>1012</td>\n",
       "      <td>2017</td>\n",
       "      <td>1010.0</td>\n",
       "      <td>0</td>\n",
       "    </tr>\n",
       "    <tr>\n",
       "      <th>12</th>\n",
       "      <td>Idaho</td>\n",
       "      <td>0.93</td>\n",
       "      <td>513</td>\n",
       "      <td>493</td>\n",
       "      <td>1005</td>\n",
       "      <td>2017</td>\n",
       "      <td>1000.0</td>\n",
       "      <td>0</td>\n",
       "    </tr>\n",
       "    <tr>\n",
       "      <th>9</th>\n",
       "      <td>Florida</td>\n",
       "      <td>0.83</td>\n",
       "      <td>520</td>\n",
       "      <td>497</td>\n",
       "      <td>1017</td>\n",
       "      <td>2017</td>\n",
       "      <td>1020.0</td>\n",
       "      <td>0</td>\n",
       "    </tr>\n",
       "    <tr>\n",
       "      <th>21</th>\n",
       "      <td>Massachusetts</td>\n",
       "      <td>0.76</td>\n",
       "      <td>555</td>\n",
       "      <td>551</td>\n",
       "      <td>1107</td>\n",
       "      <td>2017</td>\n",
       "      <td>1110.0</td>\n",
       "      <td>0</td>\n",
       "    </tr>\n",
       "    <tr>\n",
       "      <th>39</th>\n",
       "      <td>Rhode Island</td>\n",
       "      <td>0.71</td>\n",
       "      <td>539</td>\n",
       "      <td>524</td>\n",
       "      <td>1062</td>\n",
       "      <td>2017</td>\n",
       "      <td>1060.0</td>\n",
       "      <td>0</td>\n",
       "    </tr>\n",
       "  </tbody>\n",
       "</table>\n",
       "</div>"
      ],
      "text/plain": [
       "                   state  participation  evidence-based_reading_and_writing  \\\n",
       "8   District of Columbia           1.00                                 482   \n",
       "22              Michigan           1.00                                 509   \n",
       "6            Connecticut           1.00                                 530   \n",
       "7               Delaware           1.00                                 503   \n",
       "29         New Hampshire           0.96                                 532   \n",
       "19                 Maine           0.95                                 513   \n",
       "12                 Idaho           0.93                                 513   \n",
       "9                Florida           0.83                                 520   \n",
       "21         Massachusetts           0.76                                 555   \n",
       "39          Rhode Island           0.71                                 539   \n",
       "\n",
       "    math  composite  year  rounded  percentile  \n",
       "8    468        950  2017    950.0           0  \n",
       "22   495       1005  2017   1000.0           0  \n",
       "6    512       1041  2017   1040.0           0  \n",
       "7    492        996  2017   1000.0           0  \n",
       "29   520       1052  2017   1050.0           0  \n",
       "19   499       1012  2017   1010.0           0  \n",
       "12   493       1005  2017   1000.0           0  \n",
       "9    497       1017  2017   1020.0           0  \n",
       "21   551       1107  2017   1110.0           0  \n",
       "39   524       1062  2017   1060.0           0  "
      ]
     },
     "execution_count": 28,
     "metadata": {},
     "output_type": "execute_result"
    }
   ],
   "source": [
    "s"
   ]
  },
  {
   "cell_type": "code",
   "execution_count": 30,
   "id": "483e1f6c-22b4-4860-9b69-f335b393f44c",
   "metadata": {},
   "outputs": [
    {
     "data": {
      "text/plain": [
       "array(['District of Columbia', 'Michigan', 'Connecticut', 'Delaware',\n",
       "       'New Hampshire', 'Maine', 'Idaho', 'Florida', 'Massachusetts',\n",
       "       'Rhode Island'], dtype=object)"
      ]
     },
     "execution_count": 30,
     "metadata": {},
     "output_type": "execute_result"
    }
   ],
   "source": [
    "s['state'].values"
   ]
  },
  {
   "cell_type": "markdown",
   "id": "f463730f-c1f3-4729-9555-8547891ab0a4",
   "metadata": {},
   "source": [
    "Looks like participation rate is negatively correlated with composite score. That's not too surprising, since lower participation draws from a college-bound population.\n",
    "\n",
    "I'll graph them and see for sure in my visualizations notebook"
   ]
  },
  {
   "cell_type": "code",
   "execution_count": 32,
   "id": "4e559193-5e65-48f3-8c86-1ae099ad0c21",
   "metadata": {},
   "outputs": [
    {
     "data": {
      "text/plain": [
       "array([1.  , 1.  , 1.  , 1.  , 0.96, 0.95, 0.93, 0.83, 0.76, 0.71])"
      ]
     },
     "execution_count": 32,
     "metadata": {},
     "output_type": "execute_result"
    }
   ],
   "source": [
    "s['participation'].values"
   ]
  },
  {
   "cell_type": "markdown",
   "id": "254a055a-f88a-4139-a4aa-92167873b6aa",
   "metadata": {},
   "source": [
    "The graphs show a clear negative correlation across tests and years. I conclude that the average SAT score of a state is inversely proporitonal to it's participation rate. Visually, I didn't find any especially interesting outliers. Lets build an index:\n",
    "## Definition: Participation-score-index = composite score/ participation rate"
   ]
  },
  {
   "cell_type": "code",
   "execution_count": 13,
   "id": "bcba6b9a-3553-4e1e-91a6-0e285e0f4537",
   "metadata": {},
   "outputs": [],
   "source": [
    "act2016 = pd.read_pickle('../data/2016_act_with_percentiles.pkl')\n",
    "act2016"
   ]
  },
  {
   "cell_type": "code",
   "execution_count": 16,
   "id": "c1293d75-95e6-4ebf-8e6a-bf449c2d3f78",
   "metadata": {},
   "outputs": [],
   "source": [
    "act2016['participation_score_index'] = act2016['composite'].apply(lambda x : float(x))/act2016['participation']\n"
   ]
  },
  {
   "cell_type": "code",
   "execution_count": 5,
   "id": "618d7bbe-99e9-43ac-8de7-37a382c806d1",
   "metadata": {},
   "outputs": [
    {
     "ename": "NameError",
     "evalue": "name 'act2016' is not defined",
     "output_type": "error",
     "traceback": [
      "\u001b[0;31m---------------------------------------------------------------------------\u001b[0m",
      "\u001b[0;31mNameError\u001b[0m                                 Traceback (most recent call last)",
      "\u001b[0;32m<ipython-input-5-16fbe22ad93e>\u001b[0m in \u001b[0;36m<module>\u001b[0;34m\u001b[0m\n\u001b[0;32m----> 1\u001b[0;31m \u001b[0mact2016\u001b[0m\u001b[0;34m\u001b[0m\u001b[0;34m\u001b[0m\u001b[0m\n\u001b[0m",
      "\u001b[0;31mNameError\u001b[0m: name 'act2016' is not defined"
     ]
    }
   ],
   "source": [
    "act2016"
   ]
  },
  {
   "cell_type": "code",
   "execution_count": 58,
   "id": "ec6025bc-c55a-45fc-9443-139e876b2de3",
   "metadata": {},
   "outputs": [],
   "source": [
    "filenames = [file for file in os.listdir('../data') if file.find('_with_p')!=-1]"
   ]
  },
  {
   "cell_type": "code",
   "execution_count": 59,
   "id": "344da037-5a2c-4a2b-926d-5bb11d9a67db",
   "metadata": {},
   "outputs": [
    {
     "data": {
      "text/plain": [
       "4.0"
      ]
     },
     "execution_count": 59,
     "metadata": {},
     "output_type": "execute_result"
    }
   ],
   "source": [
    "def find_mean(values):\n",
    "    total = 0\n",
    "    n = len(values)\n",
    "    for value in values:\n",
    "        total += value\n",
    "    return total/n\n",
    "\n",
    "find_mean([3,3,3,3,3,3,3,5,5,5,5,5,5,5])"
   ]
  },
  {
   "cell_type": "code",
   "execution_count": 60,
   "id": "8fee7dcc-4ed0-453e-9da1-a47614680557",
   "metadata": {},
   "outputs": [],
   "source": [
    "def standard_deviation(values):\n",
    "    n = len(values)\n",
    "    mu = find_mean(values)\n",
    "    mse = 0\n",
    "    for value in values:\n",
    "        mse += (value - mu)**2\n",
    "    return (mse/n)**.5"
   ]
  },
  {
   "cell_type": "code",
   "execution_count": 44,
   "id": "120cbee4-1b6b-4909-9137-72c17ae055dc",
   "metadata": {},
   "outputs": [],
   "source": [
    "def index_info(file):\n",
    "    df = pd.read_pickle(f'../data/{file}')\n",
    "    df['participation_score_index'] = df['composite'].apply(lambda x : float(x))/df['participation']\n",
    "    psi_mean = find_mean(df['participation_score_index'])\n",
    "    psi_std = standard_deviation(df['participation_score_index'])\n",
    "    tops = df.sort_values(by=['participation_score_index'], ascending = False).head()\n",
    "    names = tops['state'].values\n",
    "    psis = tops['participation_score_index'].values\n",
    "    top_lib = {names[i] : psis[i] for i in range(5)}\n",
    "    index_lib = {'test': file, 'mean_psi' : psi_mean, 'psi_standard': psi_std, 'top_five_states_by_psi': top_lib}\n",
    "    return index_lib"
   ]
  },
  {
   "cell_type": "code",
   "execution_count": 45,
   "id": "161d23d8-301e-4c03-b68c-558350f3ede8",
   "metadata": {},
   "outputs": [
    {
     "data": {
      "text/plain": [
       "{'test': '2016_act_with_percentiles.pkl',\n",
       " 'mean_psi': 53.004332626198874,\n",
       " 'psi_standard': 49.41060103076636,\n",
       " 'top_five_states_by_psi': {'Maine': 303.75,\n",
       "  'New Hampshire': 141.66666666666669,\n",
       "  'Delaware': 133.8888888888889,\n",
       "  'Rhode Island': 114.28571428571429,\n",
       "  'Pennsylvania': 103.04347826086956}}"
      ]
     },
     "execution_count": 45,
     "metadata": {},
     "output_type": "execute_result"
    }
   ],
   "source": [
    "index_info('2016_act_with_percentiles.pkl')"
   ]
  },
  {
   "cell_type": "code",
   "execution_count": 48,
   "id": "6ec19dad-8869-4f0b-bb90-107fbba03ebe",
   "metadata": {},
   "outputs": [],
   "source": [
    "indices  = [index_info(file) for file in filenames]"
   ]
  },
  {
   "cell_type": "code",
   "execution_count": 49,
   "id": "b1d22393-3dc4-4ee9-a180-b3bf41892fc8",
   "metadata": {},
   "outputs": [
    {
     "data": {
      "text/plain": [
       "[{'test': '2017_act_with_percentiles.pkl',\n",
       "  'mean_psi': 64.13894059433147,\n",
       "  'psi_standard': 68.00828357055413,\n",
       "  'top_five_states_by_psi': {'Maine': 342.85714285714283,\n",
       "   'Rhode Island': 161.33333333333334,\n",
       "   'New Hampshire': 156.875,\n",
       "   'Delaware': 140.0}},\n",
       " {'test': '2018_act_with_percentiles.pkl',\n",
       "  'mean_psi': 67.50503201183123,\n",
       "  'psi_standard': 68.73165781044507,\n",
       "  'top_five_states_by_psi': {'Maine': 405.0,\n",
       "   'Rhode Island': 205.83333333333334,\n",
       "   'Delaware': 185.3846153846154,\n",
       "   'New Hampshire': 178.57142857142856,\n",
       "   'Pennsylvania': 138.8235294117647}},\n",
       " {'test': '2019_sat_with_percentile',\n",
       "  'mean_psi': 12816.416479309099,\n",
       "  'psi_standard': 16403.816494351147,\n",
       "  'top_five_states_by_psi': {'North Dakota': 64150.0,\n",
       "   'Wisconsin': 43133.333333333336,\n",
       "   'Iowa': 42166.66666666667,\n",
       "   'Wyoming': 41900.0,\n",
       "   'Nebraska': 41733.333333333336}},\n",
       " {'test': '2018_sat_with_percentile',\n",
       "  'mean_psi': 12278.27120972373,\n",
       "  'psi_standard': 16285.779394712801,\n",
       "  'top_five_states_by_psi': {'North Dakota': 63150.0,\n",
       "   'Wisconsin': 42766.66666666667,\n",
       "   'South Dakota': 42266.66666666667,\n",
       "   'Nebraska': 42000.0,\n",
       "   'Iowa': 41466.66666666667}},\n",
       " {'test': '2016_act_with_percentiles.pkl',\n",
       "  'mean_psi': 53.004332626198874,\n",
       "  'psi_standard': 49.41060103076636,\n",
       "  'top_five_states_by_psi': {'Maine': 303.75,\n",
       "   'New Hampshire': 141.66666666666669,\n",
       "   'Delaware': 133.8888888888889,\n",
       "   'Rhode Island': 114.28571428571429,\n",
       "   'Pennsylvania': 103.04347826086956}},\n",
       " {'test': '2017_with_percentiles.pkl',\n",
       "  'mean_psi': 64.13894059433147,\n",
       "  'psi_standard': 68.00828357055413,\n",
       "  'top_five_states_by_psi': {'Maine': 342.85714285714283,\n",
       "   'Rhode Island': 161.33333333333334,\n",
       "   'New Hampshire': 156.875,\n",
       "   'Delaware': 140.0}},\n",
       " {'test': '2016_with_percentiles.pkl',\n",
       "  'mean_psi': 51.48320976602886,\n",
       "  'psi_standard': 48.33932034219428,\n",
       "  'top_five_states_by_psi': {'Maine': 303.75,\n",
       "   'New Hampshire': 141.66666666666669,\n",
       "   'Delaware': 133.8888888888889,\n",
       "   'Rhode Island': 114.28571428571429,\n",
       "   'Pennsylvania': 103.04347826086956}},\n",
       " {'test': '2017_sat_with_percentile',\n",
       "  'mean_psi': 12816.416479309099,\n",
       "  'psi_standard': 16403.816494351147,\n",
       "  'top_five_states_by_psi': {'North Dakota': 64150.0,\n",
       "   'Wisconsin': 43133.333333333336,\n",
       "   'Iowa': 42166.66666666667,\n",
       "   'Wyoming': 41900.0,\n",
       "   'Nebraska': 41733.333333333336}}]"
      ]
     },
     "execution_count": 49,
     "metadata": {},
     "output_type": "execute_result"
    }
   ],
   "source": [
    "indices"
   ]
  },
  {
   "cell_type": "markdown",
   "id": "37db9760-244b-4269-b92d-14ce2e3914fa",
   "metadata": {},
   "source": [
    "This is great to compare within tests across years, but I want to compare across tests to so I need to normalize\n",
    "\n",
    "(Thanks to Brad Soloman at https://stackoverflow.com/questions/46915495/normalization-vs-numpy-way-to-normalize for reminding me how to do that.)"
   ]
  },
  {
   "cell_type": "code",
   "execution_count": 61,
   "id": "1c04d34b-9f02-4532-8f20-f7a77dadaa66",
   "metadata": {},
   "outputs": [],
   "source": [
    "def index_info_with_norm(file):\n",
    "    df = pd.read_pickle(f'../data/{file}')\n",
    "    df['participation_score_index'] = df['composite'].apply(lambda x : float(x))/df['participation']\n",
    "    psi_mean = find_mean(df['participation_score_index'])\n",
    "    psi_std = standard_deviation(df['participation_score_index'])\n",
    "    df['norms'] = (df['participation_score_index'] - psi_mean)/psi_std\n",
    "    tops = df.sort_values(by=['participation_score_index'], ascending = False).head()\n",
    "    names = tops['state'].values\n",
    "    psis = tops['participation_score_index'].values\n",
    "    normal = tops['norms'].values\n",
    "    top_lib = {names[i] : f'test_psi: {psis[i]}, normalized_psi: {normal[i]}' for i in range(5)}\n",
    "    index_lib = {'test': file, 'mean_psi' : psi_mean, 'psi_standard': psi_std, 'top_five_states_by_psi': top_lib}\n",
    "    return index_lib"
   ]
  },
  {
   "cell_type": "code",
   "execution_count": 54,
   "id": "550a5e38-d8e1-4ffd-8d7f-9f7f99f917d4",
   "metadata": {},
   "outputs": [
    {
     "data": {
      "text/plain": [
       "[{'test': '2017_act_with_percentiles.pkl',\n",
       "  'mean_psi': 64.13894059433147,\n",
       "  'psi_standard': 68.00828357055413,\n",
       "  'top_five_states_by_psi': {'Maine': 'test_psi: 342.85714285714283, normalized_psi: 4.098297848873947',\n",
       "   'Rhode Island': 'test_psi: 161.33333333333334, normalized_psi: 1.429155209279309',\n",
       "   'New Hampshire': 'test_psi: 156.875, normalized_psi: 1.3635994696066833',\n",
       "   'Delaware': 'test_psi: 140.0, normalized_psi: 1.115467931593475'}},\n",
       " {'test': '2018_act_with_percentiles.pkl',\n",
       "  'mean_psi': 67.50503201183123,\n",
       "  'psi_standard': 68.73165781044507,\n",
       "  'top_five_states_by_psi': {'Maine': 'test_psi: 405.0, normalized_psi: 4.9103277694675365',\n",
       "   'Rhode Island': 'test_psi: 205.83333333333334, normalized_psi: 2.0125849678033014',\n",
       "   'Delaware': 'test_psi: 185.3846153846154, normalized_psi: 1.715069694635972',\n",
       "   'New Hampshire': 'test_psi: 178.57142857142856, normalized_psi: 1.6159423488068214',\n",
       "   'Pennsylvania': 'test_psi: 138.8235294117647, normalized_psi: 1.0376367989933057'}},\n",
       " {'test': '2019_sat_with_percentile',\n",
       "  'mean_psi': 12816.416479309099,\n",
       "  'psi_standard': 16403.816494351147,\n",
       "  'top_five_states_by_psi': {'North Dakota': 'test_psi: 64150.0, normalized_psi: 3.1293683112322213',\n",
       "   'Wisconsin': 'test_psi: 43133.333333333336, normalized_psi: 1.8481623995528258',\n",
       "   'Iowa': 'test_psi: 42166.66666666667, normalized_psi: 1.7892330237578973',\n",
       "   'Wyoming': 'test_psi: 41900.0, normalized_psi: 1.7729766442282615',\n",
       "   'Nebraska': 'test_psi: 41733.333333333336, normalized_psi: 1.7628164070222396'}},\n",
       " {'test': '2018_sat_with_percentile',\n",
       "  'mean_psi': 12278.27120972373,\n",
       "  'psi_standard': 16285.779394712801,\n",
       "  'top_five_states_by_psi': {'North Dakota': 'test_psi: 63150.0, normalized_psi: 3.1236901567506092',\n",
       "   'Wisconsin': 'test_psi: 42766.66666666667, normalized_psi: 1.8720869734267085',\n",
       "   'South Dakota': 'test_psi: 42266.66666666667, normalized_psi: 1.8413853417834403',\n",
       "   'Nebraska': 'test_psi: 42000.0, normalized_psi: 1.8250111382403635',\n",
       "   'Iowa': 'test_psi: 41466.66666666667, normalized_psi: 1.7922627311542112'}},\n",
       " {'test': '2016_act_with_percentiles.pkl',\n",
       "  'mean_psi': 53.004332626198874,\n",
       "  'psi_standard': 49.41060103076636,\n",
       "  'top_five_states_by_psi': {'Maine': 'test_psi: 303.75, normalized_psi: 5.07473420972293',\n",
       "   'New Hampshire': 'test_psi: 141.66666666666669, normalized_psi: 1.7943990194586115',\n",
       "   'Delaware': 'test_psi: 133.8888888888889, normalized_psi: 1.6369879049300753',\n",
       "   'Rhode Island': 'test_psi: 114.28571428571429, normalized_psi: 1.240247646883662',\n",
       "   'Pennsylvania': 'test_psi: 103.04347826086956, normalized_psi: 1.012720845138333'}},\n",
       " {'test': '2017_with_percentiles.pkl',\n",
       "  'mean_psi': 64.13894059433147,\n",
       "  'psi_standard': 68.00828357055413,\n",
       "  'top_five_states_by_psi': {'Maine': 'test_psi: 342.85714285714283, normalized_psi: 4.098297848873947',\n",
       "   'Rhode Island': 'test_psi: 161.33333333333334, normalized_psi: 1.429155209279309',\n",
       "   'New Hampshire': 'test_psi: 156.875, normalized_psi: 1.3635994696066833',\n",
       "   'Delaware': 'test_psi: 140.0, normalized_psi: 1.115467931593475'}},\n",
       " {'test': '2016_with_percentiles.pkl',\n",
       "  'mean_psi': 51.48320976602886,\n",
       "  'psi_standard': 48.33932034219428,\n",
       "  'top_five_states_by_psi': {'Maine': 'test_psi: 303.75, normalized_psi: 5.218666469618798',\n",
       "   'New Hampshire': 'test_psi: 141.66666666666669, normalized_psi: 1.8656335310928807',\n",
       "   'Delaware': 'test_psi: 133.8888888888889, normalized_psi: 1.7047339213607031',\n",
       "   'Rhode Island': 'test_psi: 114.28571428571429, normalized_psi: 1.2992012315255201',\n",
       "   'Pennsylvania': 'test_psi: 103.04347826086956, normalized_psi: 1.0666320529507929'}},\n",
       " {'test': '2017_sat_with_percentile',\n",
       "  'mean_psi': 12816.416479309099,\n",
       "  'psi_standard': 16403.816494351147,\n",
       "  'top_five_states_by_psi': {'North Dakota': 'test_psi: 64150.0, normalized_psi: 3.1293683112322213',\n",
       "   'Wisconsin': 'test_psi: 43133.333333333336, normalized_psi: 1.8481623995528258',\n",
       "   'Iowa': 'test_psi: 42166.66666666667, normalized_psi: 1.7892330237578973',\n",
       "   'Wyoming': 'test_psi: 41900.0, normalized_psi: 1.7729766442282615',\n",
       "   'Nebraska': 'test_psi: 41733.333333333336, normalized_psi: 1.7628164070222396'}}]"
      ]
     },
     "execution_count": 54,
     "metadata": {},
     "output_type": "execute_result"
    }
   ],
   "source": [
    "indices  = [index_info_with_norm(file) for file in filenames]\n",
    "indices"
   ]
  },
  {
   "cell_type": "markdown",
   "id": "7666cd84-2a4d-4184-b02f-61a22d61cdae",
   "metadata": {},
   "source": [
    "# Building a datarame for the readme"
   ]
  },
  {
   "cell_type": "code",
   "execution_count": 66,
   "id": "6e32d4a6-1fd9-4bd2-91b8-e4d998335c01",
   "metadata": {},
   "outputs": [],
   "source": [
    "def index_df(file):\n",
    "    df = pd.read_pickle(f'../data/{file}')\n",
    "    df['participation_score_index'] = df['composite'].apply(lambda x : float(x))/df['participation']\n",
    "    df['psi_mean'] = find_mean(df['participation_score_index'])\n",
    "    df['psi_std'] = standard_deviation(df['participation_score_index'])\n",
    "    tops = df.sort_values(by=['participation_score_index'], ascending = False).head()\n",
    "    tops.reset_index(drop = True, inplace = True)\n",
    "    return tops"
   ]
  },
  {
   "cell_type": "code",
   "execution_count": 67,
   "id": "f9905983-bd25-41e1-bc4c-2e5d08978749",
   "metadata": {},
   "outputs": [],
   "source": [
    "index_dfs = [index_df(file) for file in filenames]"
   ]
  },
  {
   "cell_type": "code",
   "execution_count": 71,
   "id": "3a4ec37d-0c19-4b15-8fea-aaaecb5211f6",
   "metadata": {},
   "outputs": [
    {
     "data": {
      "text/html": [
       "<div>\n",
       "<style scoped>\n",
       "    .dataframe tbody tr th:only-of-type {\n",
       "        vertical-align: middle;\n",
       "    }\n",
       "\n",
       "    .dataframe tbody tr th {\n",
       "        vertical-align: top;\n",
       "    }\n",
       "\n",
       "    .dataframe thead th {\n",
       "        text-align: right;\n",
       "    }\n",
       "</style>\n",
       "<table border=\"1\" class=\"dataframe\">\n",
       "  <thead>\n",
       "    <tr style=\"text-align: right;\">\n",
       "      <th></th>\n",
       "      <th>state</th>\n",
       "      <th>participation</th>\n",
       "      <th>evidence-based_reading_and_writing</th>\n",
       "      <th>math</th>\n",
       "      <th>composite</th>\n",
       "      <th>year</th>\n",
       "      <th>rounded</th>\n",
       "      <th>code</th>\n",
       "      <th>percentiles</th>\n",
       "      <th>participation_score_index</th>\n",
       "      <th>psi_mean</th>\n",
       "      <th>psi_std</th>\n",
       "    </tr>\n",
       "  </thead>\n",
       "  <tbody>\n",
       "    <tr>\n",
       "      <th>0</th>\n",
       "      <td>North Dakota</td>\n",
       "      <td>0.02</td>\n",
       "      <td>640</td>\n",
       "      <td>643</td>\n",
       "      <td>1283</td>\n",
       "      <td>2018</td>\n",
       "      <td>1280</td>\n",
       "      <td>ND</td>\n",
       "      <td>86</td>\n",
       "      <td>64150.000000</td>\n",
       "      <td>12816.416479</td>\n",
       "      <td>16403.816494</td>\n",
       "    </tr>\n",
       "    <tr>\n",
       "      <th>1</th>\n",
       "      <td>Wisconsin</td>\n",
       "      <td>0.03</td>\n",
       "      <td>641</td>\n",
       "      <td>653</td>\n",
       "      <td>1294</td>\n",
       "      <td>2018</td>\n",
       "      <td>1290</td>\n",
       "      <td>WI</td>\n",
       "      <td>87</td>\n",
       "      <td>43133.333333</td>\n",
       "      <td>12816.416479</td>\n",
       "      <td>16403.816494</td>\n",
       "    </tr>\n",
       "    <tr>\n",
       "      <th>2</th>\n",
       "      <td>Iowa</td>\n",
       "      <td>0.03</td>\n",
       "      <td>634</td>\n",
       "      <td>631</td>\n",
       "      <td>1265</td>\n",
       "      <td>2018</td>\n",
       "      <td>1260</td>\n",
       "      <td>IA</td>\n",
       "      <td>83</td>\n",
       "      <td>42166.666667</td>\n",
       "      <td>12816.416479</td>\n",
       "      <td>16403.816494</td>\n",
       "    </tr>\n",
       "    <tr>\n",
       "      <th>3</th>\n",
       "      <td>Wyoming</td>\n",
       "      <td>0.03</td>\n",
       "      <td>633</td>\n",
       "      <td>625</td>\n",
       "      <td>1257</td>\n",
       "      <td>2018</td>\n",
       "      <td>1260</td>\n",
       "      <td>WY</td>\n",
       "      <td>83</td>\n",
       "      <td>41900.000000</td>\n",
       "      <td>12816.416479</td>\n",
       "      <td>16403.816494</td>\n",
       "    </tr>\n",
       "    <tr>\n",
       "      <th>4</th>\n",
       "      <td>Nebraska</td>\n",
       "      <td>0.03</td>\n",
       "      <td>629</td>\n",
       "      <td>623</td>\n",
       "      <td>1252</td>\n",
       "      <td>2018</td>\n",
       "      <td>1250</td>\n",
       "      <td>NE</td>\n",
       "      <td>82</td>\n",
       "      <td>41733.333333</td>\n",
       "      <td>12816.416479</td>\n",
       "      <td>16403.816494</td>\n",
       "    </tr>\n",
       "  </tbody>\n",
       "</table>\n",
       "</div>"
      ],
      "text/plain": [
       "          state  participation  evidence-based_reading_and_writing  math  \\\n",
       "0  North Dakota           0.02                                 640   643   \n",
       "1     Wisconsin           0.03                                 641   653   \n",
       "2          Iowa           0.03                                 634   631   \n",
       "3       Wyoming           0.03                                 633   625   \n",
       "4      Nebraska           0.03                                 629   623   \n",
       "\n",
       "   composite  year  rounded code  percentiles  participation_score_index  \\\n",
       "0       1283  2018     1280   ND           86               64150.000000   \n",
       "1       1294  2018     1290   WI           87               43133.333333   \n",
       "2       1265  2018     1260   IA           83               42166.666667   \n",
       "3       1257  2018     1260   WY           83               41900.000000   \n",
       "4       1252  2018     1250   NE           82               41733.333333   \n",
       "\n",
       "       psi_mean       psi_std  \n",
       "0  12816.416479  16403.816494  \n",
       "1  12816.416479  16403.816494  \n",
       "2  12816.416479  16403.816494  \n",
       "3  12816.416479  16403.816494  \n",
       "4  12816.416479  16403.816494  "
      ]
     },
     "metadata": {},
     "output_type": "display_data"
    }
   ],
   "source": [
    "display(index_dfs[7])"
   ]
  },
  {
   "cell_type": "code",
   "execution_count": 76,
   "id": "3d0e52de-96a1-4402-9ab8-7c3e0e8c46e2",
   "metadata": {},
   "outputs": [],
   "source": [
    "for frame in range(len(index_dfs)):\n",
    "    index_dfs[frame].to_pickle(f'../data/indices_{filenames[frame]}.pkl')"
   ]
  },
  {
   "cell_type": "code",
   "execution_count": null,
   "id": "cd806356-88c3-40fb-a15e-f5ea5aab334e",
   "metadata": {},
   "outputs": [],
   "source": []
  }
 ],
 "metadata": {
  "kernelspec": {
   "display_name": "Python 3",
   "language": "python",
   "name": "python3"
  },
  "language_info": {
   "codemirror_mode": {
    "name": "ipython",
    "version": 3
   },
   "file_extension": ".py",
   "mimetype": "text/x-python",
   "name": "python",
   "nbconvert_exporter": "python",
   "pygments_lexer": "ipython3",
   "version": "3.8.8"
  }
 },
 "nbformat": 4,
 "nbformat_minor": 5
}
